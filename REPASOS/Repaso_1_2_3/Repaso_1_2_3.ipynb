{
 "cells": [
  {
   "metadata": {},
   "cell_type": "markdown",
   "source": [
    "# REPASO DE MINERIA DE DATOS\n",
    "\n",
    "## Unidades 1, 2 y 3\n",
    "\n",
    "#### 1. Explica brevemente en las seis fases de la metodologia CRISP-DM\n",
    "##### Enumera y describe cada fase\n",
    "\n",
    "1. **Comprensión del Negocio**: Define los objetivos del proyecto desde una perspectiva del negocio, y los convierte en un problema para la mineria de datos\n",
    "2. **Comprensión de los datos**: Se familiariza con los datos disponibles e identifica problemas de calidad de los datos\n",
    "3. **Preparación de los datos**: Se transforman y preparan los datos para su uso en las etapas de modelado\n",
    "4. **Modelado*: Se aplican técnicas de modelado para crear modelos predictivos o descriptivos que aborden los objetivos del proyecto\n",
    "5. **Evaluación**: Se evaluan los modelos creados para asegurar que cumplen con los objetivos del negocio y para la toma de decisiones informadas sobre los próximos pasos\n",
    "6. **Despliegue**: Se implementan los modelos en un entorno real y se asegura su uso efectivo en el negocio\n",
    "\n",
    "##### ¿Por qué es importante seguir una metodología como CRISP-DM en proyectos de mineria de datos?\n",
    "\n",
    "Seguir una metodología como CRISP-DM proporciona a detalle un camino a seguir, facilitando la planeación, ejecución y evaluación de cada etapa del proceso\n",
    "\n",
    "#### 2. Describe el 'Ciclo Viruoso' de la mineria de datos.\n",
    "##### ¿Cuáles son los componentes clave de este ciclo?\n",
    "##### ¿Cómo se relacionan estos componentes entre sí?\n",
    "\n",
    "\n",
    "1. **Identificación**: Se define el problema o la oportunidad de negocio que se desea abordar. Se identifican los objetivos clave y se determina cómo los datos pueden ayudar a lograr estos objetivos\n",
    "2. **Transformación**: Una vez se identifican los objetivos, los datos disponibles se transforman y preparan para el análisis. Esto incluye limpieza, normalización, y transformación en un formato adecuado.\n",
    "3. **Actúa**: Se identifican patrones y tendencias y/o se desarrollan modelos predictivos o descriptivos\n",
    "4. **Medición de los Resultados**: Se miden los resultados para evaluar el impacto y la efectividad de las decisiones basadas en los datos\n",
    "\n",
    "#### 3. Menciona y describe tres fuentes comunes de datos para proyectos de mineria de datos\n",
    "##### Para cada fuente, proporciona un ejemplo de cómo se podrían utilizar los datos en un proyecto de minería de datos\n",
    "1. **Libros de Excel**: Los datos de finanzas de una empresa se pueden tomar para analizar tendencias sobre los ingresos y egresos del negocio.\n",
    "2. **Archivos JSON**: Se puede obtener un lote de información de una página web, donde se puede analizar, por ejemplo, las ventas a través del tiempo de un producto.\n",
    "3. **Bases de Datos Relacionales SQL**: Las bases de datos SQL muestran los datos de manera que garantiza un nivel de organización.\n",
    "#### 4. ¿Que consideraciones importantes se deben tener en cuenta durante la fase de extracción de datos?\n",
    "##### Menciona al menos tres consideraciones y explica por qué son importantes\n",
    "\n",
    "1. **Calidad de Datos**: Se aseguran que los datos sean precisos, consistentes y relevantes para el problema\n",
    "2. **Privacidad y Ética**: Se respetan las normativas de la empresa y legales al manejar datos sensibles\n",
    "3. **Tamaño de los Datos**: Se tiene que considerar la capacidad del manejo de grandes volumenes de datos\n",
    "\n",
    "#### 5. Describe brevemente qué son las bibliotecas Matplotlib y Pandas en Python, y cuáñ es su utilizad en minería de datos\n",
    "##### ¿Qué tipo de tareas se pueden realizar con cada biblioteca?\n",
    "\n",
    "**Pandas** permite la creación de Dataframes que proporcionan un fácil análisis de datos debido a todas las funciones que tienen dentro, como el filtrado, agrupamiento, herramientas de probabilidad y estadistica, etc.\n",
    "\n",
    "**Matplotlib** da un framework para la fácil creación de gráficas de distintos tipos para la representación de los datos.\n",
    "\n",
    "#### 6. Escribe un fragmento de código en Python que utilice Pandas para leer un archivo CSV llamado \"datos.csv\" y muestre las primeras 5 filas del Dataframe resultante\n",
    "##### Asegurate de de incluir los imports necesarios"
   ],
   "id": "2709fd4b022535b0"
  },
  {
   "cell_type": "code",
   "id": "initial_id",
   "metadata": {
    "collapsed": true,
    "ExecuteTime": {
     "end_time": "2025-02-27T16:12:00.588778Z",
     "start_time": "2025-02-27T16:12:00.578119Z"
    }
   },
   "source": [
    "import pandas as pd\n",
    "df = pd.read_csv('datos.csv')\n",
    "df.head(5)"
   ],
   "outputs": [
    {
     "data": {
      "text/plain": [
       "   edad       nombre\n",
       "0    52         Juan\n",
       "1    33  Maximiliano\n",
       "2    70       Andres\n",
       "3    20         Luis\n",
       "4    15        Timmy"
      ],
      "text/html": [
       "<div>\n",
       "<style scoped>\n",
       "    .dataframe tbody tr th:only-of-type {\n",
       "        vertical-align: middle;\n",
       "    }\n",
       "\n",
       "    .dataframe tbody tr th {\n",
       "        vertical-align: top;\n",
       "    }\n",
       "\n",
       "    .dataframe thead th {\n",
       "        text-align: right;\n",
       "    }\n",
       "</style>\n",
       "<table border=\"1\" class=\"dataframe\">\n",
       "  <thead>\n",
       "    <tr style=\"text-align: right;\">\n",
       "      <th></th>\n",
       "      <th>edad</th>\n",
       "      <th>nombre</th>\n",
       "    </tr>\n",
       "  </thead>\n",
       "  <tbody>\n",
       "    <tr>\n",
       "      <th>0</th>\n",
       "      <td>52</td>\n",
       "      <td>Juan</td>\n",
       "    </tr>\n",
       "    <tr>\n",
       "      <th>1</th>\n",
       "      <td>33</td>\n",
       "      <td>Maximiliano</td>\n",
       "    </tr>\n",
       "    <tr>\n",
       "      <th>2</th>\n",
       "      <td>70</td>\n",
       "      <td>Andres</td>\n",
       "    </tr>\n",
       "    <tr>\n",
       "      <th>3</th>\n",
       "      <td>20</td>\n",
       "      <td>Luis</td>\n",
       "    </tr>\n",
       "    <tr>\n",
       "      <th>4</th>\n",
       "      <td>15</td>\n",
       "      <td>Timmy</td>\n",
       "    </tr>\n",
       "  </tbody>\n",
       "</table>\n",
       "</div>"
      ]
     },
     "execution_count": 5,
     "metadata": {},
     "output_type": "execute_result"
    }
   ],
   "execution_count": 5
  },
  {
   "metadata": {},
   "cell_type": "markdown",
   "source": [
    "#### 7. Describe cómo utilizarías Matplotlib para crear un histograma de una columna específica de un Dataframe de Pandas.\n",
    "##### Proporciona un ejemplo de código y explica qué información se puede obtener del histograma\n"
   ],
   "id": "433945826d316dc8"
  },
  {
   "metadata": {
    "ExecuteTime": {
     "end_time": "2025-02-27T16:21:42.303924Z",
     "start_time": "2025-02-27T16:21:42.222882Z"
    }
   },
   "cell_type": "code",
   "source": [
    "import pandas as pd\n",
    "import matplotlib.pyplot as plt\n",
    "\n",
    "df = pd.read_csv('datos.csv')\n",
    "df.info()\n",
    "\n",
    "plt.figure(figsize=(10, 6))\n",
    "plt.hist(df['edad'], bins=10, color='skyblue', edgecolor='black', alpha=0.7)\n",
    "plt.title('Distribución de Edades')\n",
    "plt.xlabel('Edad')\n",
    "plt.ylabel('Cantidad de Personas')\n",
    "plt.show()"
   ],
   "id": "23134981c7024e69",
   "outputs": [
    {
     "name": "stdout",
     "output_type": "stream",
     "text": [
      "<class 'pandas.core.frame.DataFrame'>\n",
      "RangeIndex: 13 entries, 0 to 12\n",
      "Data columns (total 2 columns):\n",
      " #   Column  Non-Null Count  Dtype \n",
      "---  ------  --------------  ----- \n",
      " 0   edad    13 non-null     int64 \n",
      " 1   nombre  13 non-null     object\n",
      "dtypes: int64(1), object(1)\n",
      "memory usage: 340.0+ bytes\n"
     ]
    },
    {
     "data": {
      "text/plain": [
       "<Figure size 1000x600 with 1 Axes>"
      ],
      "image/png": "[encoded data removed]"
     },
     "metadata": {},
     "output_type": "display_data"
    }
   ],
   "execution_count": 16
  },
  {
   "metadata": {},
   "cell_type": "markdown",
   "source": "La gente entre 28 y 29 años es la más frecuente en el DF, después, siguen los de 30-32.",
   "id": "8567c35be14a51a"
  },
  {
   "metadata": {},
   "cell_type": "markdown",
   "source": [
    "#### 8. Supongamos que tienes un DataFrame de Pandas llamado df con una columna llamada \"Edad\". Escribe el código para:\n",
    "    * Calcula la edad promedio.\n",
    "    * Encuentra la edad máxima y mínima\n",
    "    * Filtra el DataFrame para mostrar solo las filas donde la edad es mayor de 30"
   ],
   "id": "95b53513e2dc8b91"
  },
  {
   "metadata": {
    "ExecuteTime": {
     "end_time": "2025-02-27T16:28:47.805437Z",
     "start_time": "2025-02-27T16:28:47.796646Z"
    }
   },
   "cell_type": "code",
   "source": [
    "import pandas as pd\n",
    "df = pd.read_csv('datos.csv')\n",
    "#df.info()\n",
    "edadprom = str(int(df['edad'].mean()))\n",
    "print('Edad promedio: ', edadprom)\n",
    "edadmax = str(int(df['edad'].max()))\n",
    "print('Edad maxima: ', edadmax)\n",
    "edadmin = str(int(df['edad'].min()))\n",
    "print('Edad minima: ', edadmin)\n",
    "print('Edades mayor a 30:')\n",
    "print(df[df['edad'] > 30])"
   ],
   "id": "76a79b56afe39ec7",
   "outputs": [
    {
     "name": "stdout",
     "output_type": "stream",
     "text": [
      "Edad promedio:  30\n",
      "Edad maxima:  40\n",
      "Edad minima:  28\n",
      "Edades mayor a 30:\n",
      "    edad  nombre\n",
      "7     31   Tammy\n",
      "8     31   Angel\n",
      "9     31    Pepe\n",
      "10    32   Rojas\n",
      "11    33  Hector\n",
      "12    40  Walter\n"
     ]
    }
   ],
   "execution_count": 25
  },
  {
   "metadata": {},
   "cell_type": "markdown",
   "source": [
    "#### 13. Define los siguientes conceptos clave:\n",
    "##### - Minería de datos\n",
    "##### - Aprendizaje supervisado\n",
    "##### - Aprendizaje no supervisado\n",
    "\n",
    "1. **Mineria de Datos**: Proceso que analiza datos para descubrir patrones, tendencias y relaciones útiles para la toma de decisiones de una empresa\n",
    "2. **Aprendizaje Supervisado**: Técnica de aprendizaje automatizado donde el modelo se entrena con datos ya limpios, que tiene entradas y salidas conocidad\n",
    "3. **Aprendizaje no Supervisado**: Opuesto al supervisado, el modelo busca modelos patrones y estructuras ocultas por si mismo\n",
    "\n",
    "#### 14. Explica la diferencia entre clasificación y regresión en el contexto de la minería de datos.\n",
    "##### Proporciona un ejemplo de cada tipo de problema.\n",
    "El objetivo de clasificación es predecir una categoría o clase. Los resultados son discretos. Por ejemplo, predecir si un correo electrónico es spam o no spam. Regresión, por otro lado, su objetivo es predecir un valor numérico, por ejemplo, predecir el precio de una casa basado en características como tamaño, ubicación, etc.\n"
   ],
   "id": "e8222e1155db3729"
  }
 ],
 "metadata": {
  "kernelspec": {
   "display_name": "Python 3",
   "language": "python",
   "name": "python3"
  },
  "language_info": {
   "codemirror_mode": {
    "name": "ipython",
    "version": 2
   },
   "file_extension": ".py",
   "mimetype": "text/x-python",
   "name": "python",
   "nbconvert_exporter": "python",
   "pygments_lexer": "ipython2",
   "version": "2.7.6"
  }
 },
 "nbformat": 4,
 "nbformat_minor": 5
}
