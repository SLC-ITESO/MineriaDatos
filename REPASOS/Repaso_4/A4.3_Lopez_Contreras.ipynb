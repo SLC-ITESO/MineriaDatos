{
 "cells": [
  {
   "metadata": {},
   "cell_type": "code",
   "outputs": [],
   "execution_count": null,
   "source": [
    "El conjunto de datos incluye más de 50 características que representan los resultados de pacientes y hospitales. Se extrajo información de la base de datos para los casos que cumplieron con los siguientes criterios:\n",
    "\n",
    "a) Se trata de un ingreso hospitalario.\n",
    "\n",
    "b) Se trata de un caso diabético, es decir, uno durante el cual se registró cualquier tipo de diabetes en el sistema como diagnóstico.\n",
    "\n",
    "c) La duración de la estancia fue de al menos 1 día y de un máximo de 14 días.\n",
    "\n",
    "d) Se realizaron análisis de laboratorio durante el encuentro.\n",
    "\n",
    "e) Se administraron medicamentos durante el encuentro.\n",
    "\n",
    "Los datos contienen atributos como el número de paciente, raza, sexo, edad, tipo de ingreso, tiempo de hospitalización, especialidad médica del médico que lo admitió, número de análisis de laboratorio realizados, resultado de la prueba de HbA1c, diagnóstico, número de medicamentos, medicamentos para la diabetes, número de visitas ambulatorias, hospitalarias y de urgencias en el año anterior a la hospitalización, etc."
   ],
   "id": "d5dc5617069817a0"
  },
  {
   "metadata": {},
   "cell_type": "markdown",
   "source": [
    "### Puntos a evaluar:\n",
    "\n",
    "La actividad se conforma por:\n",
    "\n",
    "    Encontró 10 hallazgos relevantes para el problema descripto anteriormente mediante el uso de medidas estadísticas y gráficos. (5pts)\n",
    "    Aplicó las siguientes técnicas de preprocesamiento de datos:\n",
    "        Limpieza\n",
    "            Manejo de datos faltantes (1pt)\n",
    "            Manejo de casos atípicos (1pt)\n",
    "            Datos duplicados (1pt)\n",
    "            Conversión de tipos (1pt)\n",
    "            Limpieza de texto (1pt)\n",
    "            Renombrar columnas (1pt)\n",
    "            Filtrar filas (1pt)\n",
    "            Documenta y justifica porque se aplico cada técnica (3)\n",
    "        Integración de datos (10pts)\n",
    "            Agregación/fusión o concatenación\n"
   ],
   "id": "9859ed0c30037831"
  },
  {
   "metadata": {},
   "cell_type": "code",
   "outputs": [],
   "execution_count": null,
   "source": [
    "import pandas as pd\n",
    "import numpy as np\n",
    "import matplotlib.pyplot as plt"
   ],
   "id": "27a55495438400af"
  },
  {
   "metadata": {},
   "cell_type": "code",
   "outputs": [],
   "execution_count": null,
   "source": [
    "dict = pd.read_excel('dictionary_.xlsx')\n",
    "ids_map_adm_typ = pd.read_excel('IDS_mapping_exc.xlsx', sheet_name='admission_type_id')\n",
    "ids_map_dis = pd.read_excel('IDS_mapping_exc.xlsx', sheet_name='discharge_id')\n",
    "ids_map_adm_src = pd.read_excel('IDS_mapping_exc.xlsx', sheet_name='admission_source_id')\n",
    "df = pd.read_csv('diabetic_data.csv')\n",
    "\n",
    "ids_map_adm_src"
   ],
   "id": "ec681b46b17c3a2d"
  },
  {
   "metadata": {},
   "cell_type": "markdown",
   "source": [
    "## Dropeo de columnas\n",
    "Algunas columnas van a ser dropeadas, a continuacion cuales y su justificacion:\n",
    "\n",
    "* encounter_id: Como es unico, no nos puede servir para sacar datos\n",
    "* weight: demasiados datos faltantes\n",
    "* payer code: no hay suficiente informacion\n",
    "\n",
    "### Medicinas:\n",
    "\n",
    "Las siguientes se van a mantener. De acuerdo a una inteligencia artifical, las medicinas que podrian indicar un futuro reingreso son:\n",
    "\n",
    "'insulin', 'glyburide', 'glipizide', 'glimepiride', 'tolbutamide', 'chlorpropamide', 'tolazamide', 'metformin', 'pioglitazone', 'rosiglitazone',\n",
    "Las demas no seran tomadas en cuenta\n",
    "\n",
    "Pese a su importancia, max_glu_serum y A1Cresult se eliminaran puesto que la gran mayoria de los datos son faltantes, hablando de   > 80%\n",
    "## Por que no se eliminan ...\n",
    "*   patient_nbr: Puesto que pueden tener varias visitas con el mismo id de paciente, pues es el mismo"
   ],
   "id": "ea92da6f8fd22d2b"
  },
  {
   "metadata": {},
   "cell_type": "code",
   "outputs": [],
   "execution_count": null,
   "source": [
    "'''\n",
    "conteo = df['patient_nbr'].value_counts()\n",
    "duplicados = conteo[conteo > 1]\n",
    "print(duplicados)\n",
    "'''\n",
    "columnas_drop = ['encounter_id','weight','payer_code','repaglinide', 'nateglinide', 'acetohexamide', 'acarbose', 'miglitol', 'troglitazone', 'examide', 'citoglipton', 'glyburide-metformin', 'glipizide-metformin', 'glimepiride-pioglitazone', 'metformin-rosiglitazone', 'metformin-pioglitazone', 'max_glu_serum','A1Cresult']\n",
    "\n",
    "df = df.drop(columns = columnas_drop)\n"
   ],
   "id": "44b853110b03c07e"
  },
  {
   "metadata": {},
   "cell_type": "markdown",
   "source": "# Renombramiento de columnas",
   "id": "697e107e39bdf6cd"
  },
  {
   "metadata": {},
   "cell_type": "code",
   "outputs": [],
   "execution_count": null,
   "source": [
    " #se deja mas claro de esta forma\n",
    "df.rename(columns={'time_in_hospital': 'days_stayed'}, inplace=True)\n",
    "df.rename(columns={'number_outpatient': 'consults_only_prev'}, inplace=True)\n",
    "df.rename(columns={'number_emergency': 'amount_emergencies'}, inplace=True)\n",
    "df.rename(columns={'number_inpatient': 'consult_stayed_prev'}, inplace=True)"
   ],
   "id": "f22e1095fa46dfaa"
  },
  {
   "metadata": {},
   "cell_type": "markdown",
   "source": [
    "# Outliers\n",
    "Los outliers pueden proporcionar datos que llegan a afectar a lo que es lo general, por lo cual se opta por eliminarlos"
   ],
   "id": "dd54af025980fbbc"
  },
  {
   "metadata": {},
   "cell_type": "code",
   "outputs": [],
   "execution_count": null,
   "source": [
    "Q1 = df[\"num_lab_procedures\"].quantile(0.25)\n",
    "Q3 = df[\"num_lab_procedures\"].quantile(0.75)\n",
    "IQR = Q3 - Q1\n",
    "lower_bound = Q1 - 1.5 * IQR\n",
    "upper_bound = Q3 + 1.5 * IQR\n",
    "# Identificar valores atípicos\n",
    "outliers = df[(df[\"num_lab_procedures\"] < lower_bound) | (df[\"num_lab_procedures\"] > upper_bound)]\n",
    "# print(f\"\\nValores atípicos en '{\"num_lab_procedures\"}':\\n\", outliers[\"num_lab_procedures\"])\n",
    "# Eliminar valores atípicos (o podrías limitarlos, transformarlos, etc.)\n",
    "df = df[(df[\"num_lab_procedures\"] >= lower_bound) & (df[\"num_lab_procedures\"] <= upper_bound)]\n",
    "\n",
    "Q1 = df[\"num_procedures\"].quantile(0.25)\n",
    "Q3 = df[\"num_procedures\"].quantile(0.75)\n",
    "IQR = Q3 - Q1\n",
    "lower_bound = Q1 - 1.5 * IQR\n",
    "upper_bound = Q3 + 1.5 * IQR\n",
    "# Identificar valores atípicos\n",
    "outliers = df[(df[\"num_procedures\"] < lower_bound) | (df[\"num_procedures\"] > upper_bound)]\n",
    "# print(f\"\\nValores atípicos en '{\"num_lab_procedures\"}':\\n\", outliers[\"num_lab_procedures\"])\n",
    "# Eliminar valores atípicos (o podrías limitarlos, transformarlos, etc.)\n",
    "df = df[(df[\"num_procedures\"] >= lower_bound) & (df[\"num_procedures\"] <= upper_bound)]"
   ],
   "id": "8af94965dd718da8"
  },
  {
   "metadata": {},
   "cell_type": "code",
   "outputs": [],
   "execution_count": null,
   "source": [
    "# Mantiene solo las filas de < 30, pues son las que nos pueden brindar los patrones\n",
    "df_menor30 = df[df['readmitted'] == '<30']\n",
    "df_menor30\n",
    "# Al querer datos generales, los outliers pueden"
   ],
   "id": "d24b945ee3daec91"
  },
  {
   "metadata": {},
   "cell_type": "code",
   "outputs": [],
   "execution_count": null,
   "source": [
    "# Integracion de Datos\n",
    "df = df.merge(ids_map_adm_typ, on='admission_type_id', how='inner')\n",
    "df = df.merge(ids_map_dis, on='discharge_disposition_id', how='inner')\n",
    "df = df.merge(ids_map_adm_src, on='admission_source_id', how='inner')\n",
    "df"
   ],
   "id": "f1bbc42cad2858d1"
  },
  {
   "metadata": {},
   "cell_type": "code",
   "outputs": [],
   "execution_count": null,
   "source": [
    "# Graficas y hallazgos\n",
    "df_m30_age = df_menor30['age'].value_counts()\n",
    "\n",
    "df_m30_age.sort_index().plot(kind='bar', color='skyblue', edgecolor='black')\n",
    "plt.xlabel('Age')\n",
    "plt.ylabel('Count')\n",
    "plt.title('Distribucion de Edad')\n",
    "plt.xticks(rotation=45)"
   ],
   "id": "58c5f3193982eef0"
  },
  {
   "metadata": {},
   "cell_type": "markdown",
   "source": [
    "## Hallazgo 1.\n",
    "Entre mas edad tiene el paciente, es mas probable que regrese dentro de 30 dias para su chequeo. Las edades 80+ empiezan a bajar debido a que el grupo de poblacion disminuye (hay menos de esa edad)."
   ],
   "id": "f5efb4ba0308825"
  },
  {
   "metadata": {},
   "cell_type": "code",
   "outputs": [],
   "execution_count": null,
   "source": [
    "# Graficas y hallazgos\n",
    "df_m30_race = df_menor30['race'].value_counts()\n",
    "\n",
    "df_m30_race.plot(kind='pie', autopct='%1.1f%%', startangle=90, figsize=(6,6))\n",
    "\n",
    "plt.ylabel('')  # Hide the default y-label\n",
    "plt.title('Distribución de Raza')\n",
    "\n",
    "plt.show()"
   ],
   "id": "47cba0af96480a03"
  },
  {
   "metadata": {},
   "cell_type": "markdown",
   "source": [
    "### HALLAZGO 2\n",
    "\n",
    "Los de raza caucasian son mucho mas probables de regresar al hospital"
   ],
   "id": "652d0307ada9c0f1"
  },
  {
   "metadata": {},
   "cell_type": "code",
   "outputs": [],
   "execution_count": null,
   "source": [
    "# Graficas y hallazgos\n",
    "df_m30_race = df_menor30['gender'].value_counts()\n",
    "\n",
    "df_m30_race.plot(kind='pie', autopct='%1.1f%%', startangle=90, figsize=(6,6))\n",
    "\n",
    "plt.ylabel('')  # Hide the default y-label\n",
    "plt.title('Distribución de Genero')\n",
    "\n",
    "plt.show()"
   ],
   "id": "808579a6622dc48"
  },
  {
   "metadata": {},
   "cell_type": "markdown",
   "source": [
    "### Hallazgo 3\n",
    "La distribucion es casi la misma, aunque es mas probable que las mujeres regresen dentro del periodo de tiempo indicado"
   ],
   "id": "662f36070ec5f52e"
  },
  {
   "metadata": {},
   "cell_type": "code",
   "outputs": [],
   "execution_count": null,
   "source": [
    "plt.figure(figsize=(6, 4))  # Set figure size\n",
    "plt.boxplot(df_menor30['days_stayed'], patch_artist=True)\n",
    "\n",
    "# Add labels and title\n",
    "plt.ylabel('Days Stayed')\n",
    "plt.title('Boxplot de Días de Estancia para Pacientes <30')\n",
    "\n",
    "# Show the plot\n",
    "plt.show()"
   ],
   "id": "856661787a4b5fe4"
  },
  {
   "metadata": {},
   "cell_type": "markdown",
   "source": [
    "### Hallazgo 4\n",
    "La mediana de dias que se quedan en el hospital, y regresan, es de 4. Puede ser que no se termine de tratar"
   ],
   "id": "1f550f0033afc251"
  },
  {
   "metadata": {},
   "cell_type": "code",
   "outputs": [],
   "execution_count": null,
   "source": [
    "plt.figure(figsize=(6, 4))  # Set figure size\n",
    "plt.boxplot(df_menor30['num_lab_procedures'], patch_artist=True)\n",
    "\n",
    "# Add labels and title\n",
    "plt.ylabel('Num procedimientos')\n",
    "plt.title('Distribucion de procedimients hechos en la estancia')\n",
    "\n",
    "# Show the plot\n",
    "plt.show()"
   ],
   "id": "c1e4ca963a06374f"
  },
  {
   "metadata": {},
   "cell_type": "markdown",
   "source": [
    "### Hallazgo 5:\n",
    "La mediana de los que regresan se encuentran como 50, por lo cual si se llega a esa cantidad de procedimientos, si tiene le riesgo de regresar dentro de 30 dias"
   ],
   "id": "b165b648e2db3d7"
  },
  {
   "metadata": {},
   "cell_type": "code",
   "outputs": [],
   "execution_count": null,
   "source": [
    "# Graficas y hallazgos\n",
    "df_m30_age = df_menor30['num_medications'].value_counts()\n",
    "\n",
    "df_m30_age.sort_index().plot(kind='bar', color='skyblue', edgecolor='black')\n",
    "plt.xlabel('Num medications')\n",
    "plt.ylabel('Count')\n",
    "plt.title('Distribucion de Medicamentos aplicados')\n",
    "plt.xticks(rotation=90)"
   ],
   "id": "d44423d910177d77"
  },
  {
   "metadata": {},
   "cell_type": "markdown",
   "source": [
    "Hallazgo 6\n",
    "\n",
    "Entre"
   ],
   "id": "2e9234f5c5c93c37"
  }
 ],
 "metadata": {},
 "nbformat": 5,
 "nbformat_minor": 9
}
