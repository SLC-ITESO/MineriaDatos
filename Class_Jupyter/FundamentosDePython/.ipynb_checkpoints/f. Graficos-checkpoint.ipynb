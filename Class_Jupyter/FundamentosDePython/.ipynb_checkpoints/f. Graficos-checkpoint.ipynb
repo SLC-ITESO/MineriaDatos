{
 "cells": [
  {
   "cell_type": "markdown",
   "metadata": {},
   "source": [
    "<div class=\"alert alert-block alert-info\">\n",
    "<span style=\"color: rgb(0,53,91);\">\n",
    "<center><img src=\"./Imagenes/ITESO_Logo.png\" style=\"width:500px;height:142px;\" title=\"Logo ITESO\"></center>\n",
    "<font face = \"Times New Roman\" size = \"6\"><b><center>Ingeniería en Sistemas Computacionales</center></b></font>\n",
    "<font face = \"Times New Roman\" size = \"5\"><b><center>Programación para Minería de Datos</center></b></font>\n",
    "\n",
    "<b><font face = \"Times New Roman\" size = \"4\"><center>Unidad 3: Conceptos Generales</center></font>\n",
    "<font face = \"Times New Roman\" size = \"4\"><center>Tema 3.1: Introducción a Python como Herramienta de Desarrollo</center></font>\n",
    "<font face = \"Times New Roman\" size = \"4\"><center>Subtema f: Gráficos</center></font></b>\n",
    "\n",
    "</span></div>"
   ]
  },
  {
   "cell_type": "markdown",
   "metadata": {},
   "source": [
    "## GRÁFICOS\n",
    "\n",
    "Para el uso de gráficos en **Python** se empleará la librería **Matplotlib**.\n",
    "\n",
    "#### La Librería Matplotlib\n",
    "<center><img src=\"./Imagenes/Matplotlib_logo.png\" style=\"width:597px;height:120px;\" class=\"center\"></center>\n",
    "\n",
    "**Matplotlib** es una librería para la generación de gráficos a partir de datos contenidos en listas o arreglos en el lenguaje de programación **Python**. \n",
    "\n",
    "El portal de la librería **Matplotlib** se puede encontrar a través [de esta liga](https://matplotlib.org/stable), y su documentación está disponible a través [de esta liga](https://matplotlib.org/users/index.html).\n",
    "\n",
    "Para importar la librería se empleará la función:\n",
    "```python\n",
    "    import matplotlib.pyplot as plt\n",
    "```\n",
    "A partir de ello se podrá hacer uso de los distintos métodos de `pyplot` invocándolo como `plt`. \n",
    "\n",
    "Como primer ejemplo se generará un gráfico de líneas empleando el método `.plot(a,b,c,d,e)`. Para ello los parámetros del método son: \n",
    "\n",
    "* El argumento `a` indica el vector de valores para el eje de las abcisas, en este caso es la lista de valores numéricos en `años`.\n",
    "* El argumento `b` indica el vector de valores para el eje de las ordenadas, en este caso es la lista de valores numéricos en `valores`.\n",
    "* El argumento `c` indica el color del gráfico por medio del parámetro `color`.\n",
    "* El argumento `d` indica el tipo de marcador en cada valor del gráfico por medio del parámetro `marker`.\n",
    "* El argumento `e` indica el tipo de línea a ser empleada por medio del parámetro `linestyle`.\n",
    "\n",
    "Existen más parámetros que pueden ser empleados en el método `.plot()`, su descripción detallada se puede consultar [en esta liga](https://matplotlib.org/stable/api/_as_gen/matplotlib.pyplot.plot.html), y adicionalmente se pueden verificar:\n",
    "> * Los colores disponibles para el gráfico a partir del parámetro `color` se pueden consultar [en esta liga](https://matplotlib.org/stable/api/_as_gen/matplotlib.pyplot.plot.html#:~:text=a%20dotted%20line-,Colors,-The%20supported%20color).\n",
    "> * Los marcadores disponibles para el gráfico a partir del parámetro `marker` se pueden consultar  [en esta liga](https://matplotlib.org/stable/api/_as_gen/matplotlib.pyplot.plot.html#:~:text=may%20be%20ambiguous.-,Markers,-character).\n",
    "> * Los tipos de líneas disponibles para el gráfico a partir del parámetro `linestyle` se pueden consultar  [en esta liga](https://matplotlib.org/stable/api/_as_gen/matplotlib.pyplot.plot.html#:~:text=hline%20marker-,Line%20Styles,-character).\n",
    "\n",
    "Adicionalmente, para mostrar el gráfico se emplean los siguientes métodos:\n",
    "* El método `.title()` agrega un título al gráfico resultante.\n",
    "* El método `.xlabel()` agrega una etiqueta al eje de las abcisas.\n",
    "* El método `.ylabel()` agrega una etiqueta al eje de las ordenadas.\n",
    "* El método `.show()` muestra el gráfico final."
   ]
  },
  {
   "cell_type": "code",
   "execution_count": null,
   "metadata": {},
   "outputs": [],
   "source": [
    "#Importación de Librerías\n",
    "import matplotlib.pyplot as plt\n",
    "\n",
    "#Definición de Valores\n",
    "años = [1950, 1960, 1970, 1980, 1990, 2000, 2010, 2020]\n",
    "valores = [300.2, 543.3, 1075.9, 2862.5, 5979.6, 10289.7, 14958.3, 17325.5] \n",
    "\n",
    "#Creación de una Gráfica de Líneas\n",
    "plt.plot(años, valores, color='blue', marker='o', linestyle='solid') \n",
    "\n",
    "#Agregar Título y Etiquetas\n",
    "plt.title(\"Valores Anuales\")\n",
    "plt.xlabel(\"Años\")\n",
    "plt.ylabel(\"Millones de Pesos\") \n",
    "plt.show()"
   ]
  },
  {
   "cell_type": "markdown",
   "metadata": {},
   "source": [
    "Ahora se generará un gráfico de barras empleando el método `.bar(a,b,c,d)`, en el cual se pueden incluir diversos parámetros para modificar el gráfico resultante:\n",
    "\n",
    "* El argumento `a` indica el vector de valores para el eje de las abcisas, en este caso es la lista de valores tipo cadena de texto en `pelicula`.\n",
    "* El argumento `b` indica el vector de valores para el eje de las ordenadas, en este caso es la lista de valores numéricos en `num_oscar`.\n",
    "* El argumento `c` indica el color del gráfico por medio del parámetro `color`.\n",
    "* El argumento `d` indica la alineación de las etiquetas en el eje de las abcisas por medio del parámetro `marker`.\n",
    "\n",
    "La descripción detallada del método `.bar()` se puede consultar [en esta liga](https://matplotlib.org/stable/api/_as_gen/matplotlib.pyplot.bar.html)."
   ]
  },
  {
   "cell_type": "code",
   "execution_count": null,
   "metadata": {},
   "outputs": [],
   "source": [
    "#Definición de Valores\n",
    "pelicula = [\"Annie Hall\", \"Ben-Hur\", \"Casablanca\", \"Gandhi\", \"West Side Story\"] \n",
    "num_oscar = [5, 11, 3, 8, 10]\n",
    "\n",
    "#Creación de una Gráfica de Barras\n",
    "plt.bar(pelicula, num_oscar, color='green', align='center') \n",
    "\n",
    "#Agregar Título y Etiquetas\n",
    "plt.xlabel(\"Películas\")\n",
    "plt.ylabel(\"Número de Premios de la Academia\")\n",
    "plt.title(\"Número de Premios por Película\")\n",
    "plt.show()"
   ]
  },
  {
   "cell_type": "markdown",
   "metadata": {},
   "source": [
    "Para generar varios gráficos de líneas a la vez se puede emplear el método `.plot()`, al cual se le pueden agregar elementos adicionales en sus argumentos:\n",
    "\n",
    "* El argumento para color y tipo de línea se puede agregar en un solo parámetro.\n",
    "* El parámetro `label` en el argumento sirve para indicar una etiqueta para los valores que se están graficando.\n",
    "\n",
    "Adicionalmente, para mostrar el gráfico se emplea un método adicional:\n",
    "\n",
    "* El método `.legend()` agrega una leyenda al gráfico en base a las etiquetas que se definieron previamente. El argumento `loc=best` indica que se colocará la leyenda en la zona del gráfico donde mejor se visualice."
   ]
  },
  {
   "cell_type": "code",
   "execution_count": null,
   "metadata": {},
   "outputs": [],
   "source": [
    "#Definición de Valores\n",
    "varianza = [1, 2, 4, 8, 16, 32, 64, 128, 256] \n",
    "error_cu = [256, 128, 64, 32, 16, 8, 4, 2, 1]\n",
    "error_to = [275, 145, 70, 35, 16, 35, 70, 145, 275] \n",
    "\n",
    "#Creación de la Gráfica de Líneas\n",
    "plt.plot(varianza, 'g-',  label='Varianza')             # línea verde sólida\n",
    "plt.plot(error_cu, 'r-.', label='Error Cuadrático')     # línea roja discontínua\n",
    "plt.plot(error_to, 'b:',  label='Error Total')          # línea azul\n",
    "\n",
    "#Agregar Título y Etiquetas\n",
    "plt.legend(loc='best')\n",
    "plt.xlabel(\"Complejidad del Modelo\") \n",
    "plt.ylabel(\"Valores\") \n",
    "plt.title(\"Niveles de Variación\") \n",
    "plt.show()"
   ]
  },
  {
   "cell_type": "markdown",
   "metadata": {},
   "source": [
    "Para generar un gráfico de dispersión se emplea el método `.scatter(a,b)`, en el cual se pueden incluir diversos parámetros para modificar el gráfico resultante:\n",
    "\n",
    "* El argumento `a` indica el vector de valores para el eje de las abcisas, en este caso es la lista de valores numéricos en `amigos`.\n",
    "* El argumento `b` indica el vector de valores para el eje de las ordenadas, en este caso es la lista de valores numéricos en `minutos`.\n",
    "\n",
    "La descripción detallada del método `.scatter()` se puede consultar [en esta liga](https://matplotlib.org/stable/api/_as_gen/matplotlib.pyplot.scatter.html).\n",
    "\n",
    "Adicionalmente, para mostrar el gráfico se emplea un método adicional:\n",
    "\n",
    "* El método `.annotate()` de **Matplotlib** agrega una etiqueta a cada uno de los puntos que se han graficado por medio del método `.scatter()` y en base a la lista `etiqueta` en las posiciones definidas por los pares ordenados de las listas `amigos` y `minutos`.\n",
    "    * Para ello se emplea la función `enumerate()` la cual convierte un objeto de recopilación de datos en un objeto de enumeración, es decir, retorna un objeto con un contador que sirve de clave para cada valor, lo que facilita el acceso a cada elemento del grupo de datos."
   ]
  },
  {
   "cell_type": "code",
   "execution_count": null,
   "metadata": {},
   "outputs": [],
   "source": [
    "#Definición de Valores\n",
    "amigos = [ 70,  65,  72,  63,  71,  64,  60,  64,  67]\n",
    "minutos = [175, 170, 205, 120, 220, 130, 105, 145, 190]\n",
    "etiquetas  = ['A', 'B', 'C', 'D', 'E', 'F', 'G', 'H', 'I']\n",
    "\n",
    "#Creación de la Gráfica de Dispersión\n",
    "plt.scatter(amigos, minutos)\n",
    "\n",
    "#Agregar Etiquetas a cada Punto\n",
    "for i, etiquetas in enumerate(etiquetas):\n",
    "    plt.annotate(etiquetas, (amigos[i], minutos[i]))\n",
    "\n",
    "#Agregar Título y Etiquetas\n",
    "plt.title(\"Minutos Diarios vs. Número de Amigos\")\n",
    "plt.xlabel(\"Número de amigos\")\n",
    "plt.ylabel(\"Minutos diarios usados en el sitio\") \n",
    "plt.show()"
   ]
  },
  {
   "cell_type": "markdown",
   "metadata": {},
   "source": [
    "Finalmente, otro ejemplo para generar gráficos de dispersión empleando el método `.scatter()` de la siguiente manera:"
   ]
  },
  {
   "cell_type": "code",
   "execution_count": null,
   "metadata": {},
   "outputs": [],
   "source": [
    "#Definición de Valores\n",
    "calif_prueba_1 = [ 99, 90, 85, 97, 80] \n",
    "calif_prueba_2 = [100, 85, 60, 90, 70]\n",
    "\n",
    "#Creación de la Gráfica de Dispersión 1\n",
    "plt.scatter(calif_prueba_1, calif_prueba_2) \n",
    "plt.title(\"Los Ejes no son Comparables\") \n",
    "plt.xlabel(\"Calificaciones de la Prueba 1\") \n",
    "plt.ylabel(\"Calificaciones de la Prueba 2\")\n",
    "plt.show()"
   ]
  },
  {
   "cell_type": "markdown",
   "metadata": {},
   "source": [
    "Es posible ver que la escala en los ejes no es homogénea y por lo mismo el resultado no se muestra con una proporción correcta. Para corregirlo se puede usar el método `.axis('equal')` de la siguiente manera:"
   ]
  },
  {
   "cell_type": "code",
   "execution_count": null,
   "metadata": {},
   "outputs": [],
   "source": [
    "#Creación de la Gráfica de Dispersión 2\n",
    "plt.scatter(calif_prueba_1, calif_prueba_2) \n",
    "plt.title(\"Los Ejes son Comparables\") \n",
    "plt.xlabel(\"Calificaciones de la Prueba 1\") \n",
    "plt.ylabel(\"Calificaciones de la Prueba 2\")\n",
    "plt.axis('equal')\n",
    "plt.show()"
   ]
  },
  {
   "cell_type": "markdown",
   "metadata": {},
   "source": [
    "Es posible guardar una copia de un gráfico realizado por **Matplotlib** en un archivo por medio del método `.savefig(a,b,c,d)`, en el cual se pueden incluir diversos argumentos para modificar el gráfico resultante:\n",
    "\n",
    "* El argumento `a` indica el nombre del archivo y su formato, así como su ubicación.\n",
    "* El argumento `b` indica la cantidad de puntos por pulgada que tendrá el gráfico resultante por medio del parámetro `dpi`.\n",
    "* El argumento `c` indica si el gráfico resultante tendrá fondo transparente, siempre y cuando el formato del archivo destino lo soporte (por ejemplo, para el formato PNG) por medio del parámetro `trasparent` cuyo valor es booleano.\n",
    "* El argumento `d` indica que el archivo a ser guardado debe contener todos los elementos que se están agregando al gráfico, esto es por medio del parámetro `bbox_inches`.\n",
    "\n",
    "La descripción detallada del método `.savefig()` se puede consultar [en esta liga](https://matplotlib.org/stable/api/_as_gen/matplotlib.pyplot.savefig.html).\n",
    "\n",
    "Se utiliza el ejemplo de gráficos variados con el método `.plot()` revisado previamente para guardar una copia con el nombre `Grafico_PLT.png` con una resolución de 400 puntos por pulgada y con transparencia.\n",
    "\n",
    "***Nota:*** Es importante que el método `.show()` vaya después del método `.savefig()`, ya que en caso contrario se guardará una imagen sin contenido. "
   ]
  },
  {
   "cell_type": "code",
   "execution_count": null,
   "metadata": {},
   "outputs": [],
   "source": [
    "#Creación de la Gráfica de Líneas\n",
    "plt.plot(varianza, 'g-',  label='Varianza')             # línea verde sólida\n",
    "plt.plot(error_cu, 'r-.', label='Error Cuadrático')     # línea roja discontínua\n",
    "plt.plot(error_to, 'b:',  label='Error Total')          # línea azul\n",
    "\n",
    "#Agregar Título y Etiquetas\n",
    "#loc='best' ubicará la leyenda en la mejor posición\n",
    "plt.legend(loc='best')\n",
    "plt.xlabel(\"Complejidad del Modelo\") \n",
    "plt.ylabel(\"Valores\") \n",
    "plt.title(\"Niveles de Variación\") \n",
    "\n",
    "#Guardar el Gráfico en formato PNG \n",
    "plt.savefig('./Guardados/Grafico_PLT.png', dpi=400, transparent=True, bbox_inches='tight');\n",
    "plt.show()"
   ]
  },
  {
   "cell_type": "markdown",
   "metadata": {},
   "source": [
    "Finalmente, la librería **Matplotlib** permite modificar el tamaño y algunas de las propiedades del gráfico que se está mostrando en pantalla por medio del método `.rcParams.update(a,b)`. A manera de ejemplo, se emplearán dos argumentos para modificar el gráfico resultante:\n",
    "\n",
    "* El argumento `a` que modifica el tamaño de las fuentes empleadas en el gráfico por medio del parámetro `font.size`.\n",
    "* El argumento `b` que modifica el tamaño predeterminado del gráfico por medio del parámetro `figure.figsize`.\n",
    "\n",
    "La descripción detallada del método `.rcParams.update()` se puede consultar [en esta liga](https://matplotlib.org/stable/api/matplotlib_configuration_api.html#matplotlib.rcParams).\n",
    "\n",
    "***Nota:*** Los valores para estos parámetros se pasan al método `.rcParams.update()` por medio de un arreglo tipo **Diccionario**. Esto es:"
   ]
  },
  {
   "cell_type": "code",
   "execution_count": null,
   "metadata": {},
   "outputs": [],
   "source": [
    "#Definición de los parámetros de los gráficos\n",
    "plt.rcParams.update({'font.size': 12, 'figure.figsize': (10, 8)}) \n",
    "\n",
    "#Creación de la Gráfica de Líneas\n",
    "plt.plot(varianza, 'g-',  label='Varianza')             # línea verde sólida\n",
    "plt.plot(error_cu, 'r-.', label='Error Cuadrático')     # línea roja discontínua\n",
    "plt.plot(error_to, 'b:',  label='Error Total')          # línea azul\n",
    "\n",
    "#Agregar Título y Etiquetas\n",
    "#loc='best' ubicará la leyenda en la mejor posición\n",
    "plt.legend(loc='best')\n",
    "plt.xlabel(\"Complejidad del Modelo\") \n",
    "plt.ylabel(\"Valores\") \n",
    "plt.title(\"Niveles de Variación\") \n",
    "plt.show()"
   ]
  },
  {
   "cell_type": "markdown",
   "metadata": {},
   "source": [
    "<div class=\"alert alert-block alert-success\">\n",
    "<b>.: Fin del Subtema :.</b>\n",
    "</div>\n",
    "\n",
    "***Liga de aceso al siguiente Subtema:*** \n",
    "<br>[g. Programación Orientada a Objetos](g.%20Programacion%20Orientada%20a%20Objetos.ipynb)"
   ]
  }
 ],
 "metadata": {
  "kernelspec": {
   "display_name": "Python 3 (ipykernel)",
   "language": "python",
   "name": "python3"
  },
  "language_info": {
   "codemirror_mode": {
    "name": "ipython",
    "version": 3
   },
   "file_extension": ".py",
   "mimetype": "text/x-python",
   "name": "python",
   "nbconvert_exporter": "python",
   "pygments_lexer": "ipython3",
   "version": "3.11.5"
  }
 },
 "nbformat": 4,
 "nbformat_minor": 4
}
