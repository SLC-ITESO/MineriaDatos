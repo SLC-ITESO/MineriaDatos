{
  "cells": [
    {
      "cell_type": "markdown",
      "metadata": {
        "cell_id": "57e7e2e1a77d4deea763c374250084a5",
        "deepnote_app_coordinates": {
          "h": 5,
          "w": 12,
          "x": 0,
          "y": 7
        },
        "deepnote_cell_type": "text-cell-h1",
        "formattedRanges": [],
        "id": "mucN6_rwcze0",
        "is_collapsed": false,
        "tags": []
      },
      "source": [
        "# 06 Recopilar datos de bases de datos (SQLite)"
      ]
    },
    {
      "cell_type": "markdown",
      "metadata": {
        "cell_id": "7d791b47fdb4431aaa53a147c04a97bc",
        "deepnote_app_coordinates": {
          "h": 5,
          "w": 12,
          "x": 0,
          "y": 13
        },
        "deepnote_cell_type": "text-cell-h2",
        "formattedRanges": [],
        "id": "NvfZ_bIkcze4",
        "is_collapsed": false,
        "tags": []
      },
      "source": [
        "## 1. ¿Qué es SQLite?"
      ]
    },
    {
      "cell_type": "markdown",
      "metadata": {
        "cell_id": "194f65054be846729100022b3e2ce7c7",
        "deepnote_app_coordinates": {
          "h": 2,
          "w": 8,
          "x": 0,
          "y": 19
        },
        "deepnote_cell_type": "text-cell-p",
        "formattedRanges": [
          {
            "fromCodePoint": 16,
            "marks": {
              "bold": true
            },
            "toCodePoint": 23,
            "type": "marks"
          }
        ],
        "id": "lN6A_DNTcze4",
        "is_collapsed": false,
        "tags": []
      },
      "source": [
        "Un archivo con la extensión `.sqlite` es un archivo de base de datos SQL liviano creado con el software SQLite. Es una base de datos en un archivo en sí misma e implementa un motor de base de datos SQL autónomo, completo y altamente confiable.\n",
        "\n",
        "En esta actividad utilizaremos `SQLite` para mostrar cómo acceder a bases de datos `SQL`. Ya que siguen pasos similares sin importar el motor de bases de datos que se utilice (SQL Server, Oracle Data Base, etc). Solo necesitamos configurar las credenciales de nuestra cuenta en `connect` para poder conectarnos al servidor de bases de datos."
      ]
    },
    {
      "cell_type": "markdown",
      "metadata": {
        "cell_id": "036c671c4120461589fc2ccdd28fa8c3",
        "deepnote_app_coordinates": {
          "h": 5,
          "w": 12,
          "x": 0,
          "y": 22
        },
        "deepnote_cell_type": "text-cell-h2",
        "formattedRanges": [],
        "id": "yGAnFmGGcze5",
        "is_collapsed": false,
        "tags": []
      },
      "source": [
        "## 2. Leer una base de datos SQLite en Python"
      ]
    },
    {
      "cell_type": "markdown",
      "metadata": {
        "cell_id": "33b2a03a7fd94f4aa3f1a4f8838bef2a",
        "deepnote_app_coordinates": {
          "h": 5,
          "w": 12,
          "x": 0,
          "y": 28
        },
        "deepnote_cell_height": 242,
        "deepnote_cell_type": "markdown",
        "id": "1giGTy5qcze5",
        "tags": []
      },
      "source": [
        "Utilizaremos el paquete `sqlite3` de Python, para trabajar con bases de datos `SQLite`. Una vez importado el paquete `sqlite3`, los pasos generales que realizaremos son:\n",
        "1. Crear un objeto de conexión que conecte la base de datos (en este caso `SQLite`).\n",
        "2. Crear un objeto de cursor\n",
        "3. Crear un `query`\n",
        "4. Ejecutar el `query`\n",
        "5. Obtener el resultado de la consulta.\n",
        "6. Si concluimos el trabajo, cerrar la conexión.\n",
        "\n",
        "Para esta actividad, a manera de ejemplo utilizaremos la base de datos `Chinook`. Nos conectaremos a la base de datos y mostramos todas las tablas que contiene."
      ]
    },
    {
      "cell_type": "code",
      "execution_count": 1,
      "metadata": {},
      "outputs": [
        {
          "data": {
            "text/plain": [
              "[('albums',),\n",
              " ('sqlite_sequence',),\n",
              " ('artists',),\n",
              " ('customers',),\n",
              " ('employees',),\n",
              " ('genres',),\n",
              " ('invoices',),\n",
              " ('invoice_items',),\n",
              " ('media_types',),\n",
              " ('playlists',),\n",
              " ('playlist_track',),\n",
              " ('tracks',),\n",
              " ('sqlite_stat1',)]"
            ]
          },
          "execution_count": 1,
          "metadata": {},
          "output_type": "execute_result"
        }
      ],
      "source": [
        "import sqlite3\n",
        "\n",
        "# Creación de la conexión\n",
        "connection = sqlite3.connect('data\\\\chinook.db')\n",
        "\n",
        "# Creación del cursor que nos permitirá ejecutar consultar y obtener los resultados\n",
        "cursor = connection.cursor()\n",
        "\n",
        "# Creamos una consulta\n",
        "# En este caso consultamos el nombre de las tablas que existen en la base de datos 'chinook.db'\n",
        "query = '''\n",
        "SELECT name FROM sqlite_master  \n",
        "WHERE type='table';\n",
        "'''\n",
        "\n",
        "# ejecutamos la consulta\n",
        "cursor.execute(query)\n",
        "\n",
        "# Obtenemos el resultado de la consulta\n",
        "results = cursor.fetchall()\n",
        "\n",
        "# Visualicemos el resultado de nuestra consulta  \n",
        "results"
      ]
    },
    {
      "cell_type": "code",
      "execution_count": 2,
      "metadata": {},
      "outputs": [
        {
          "data": {
            "text/plain": [
              "['CREATE TABLE \"albums\"',\n",
              " '(',\n",
              " '    [AlbumId] INTEGER PRIMARY KEY AUTOINCREMENT NOT NULL,',\n",
              " '    [Title] NVARCHAR(160)  NOT NULL,',\n",
              " '    [ArtistId] INTEGER  NOT NULL,',\n",
              " '    FOREIGN KEY ([ArtistId]) REFERENCES \"artists\" ([ArtistId]) ',\n",
              " '\\t\\tON DELETE NO ACTION ON UPDATE NO ACTION',\n",
              " ')']"
            ]
          },
          "execution_count": 2,
          "metadata": {},
          "output_type": "execute_result"
        }
      ],
      "source": [
        "# Veamos otro ejemplo de consulta para\n",
        "# Conocer el detalle de la tabla 'albums'\n",
        "query = '''\n",
        "SELECT sql FROM sqlite_master \n",
        "WHERE name='albums';\n",
        "'''\n",
        "\n",
        "# Ejecutemos la consulta, obtengamos el resultado y visualicemoslo\n",
        "cursor.execute(query)\n",
        "results = cursor.fetchall()\n",
        "results = results[0][0].split(\"\\r\\n\")\n",
        "results"
      ]
    },
    {
      "cell_type": "code",
      "execution_count": null,
      "metadata": {},
      "outputs": [],
      "source": [
        "# Veamos ahora un ejemplo simple en el que se crea una vista\n",
        "# de la tabla ´albums´ (la consulta para crear la vista puede\n",
        "# ser tan compleja como se requiera)\n",
        " \n",
        "query = '''\n",
        "CREATE VIEW view_test AS\n",
        "select * \n",
        "FROM albums;\n",
        "'''\n",
        "cursor.execute(query)\n",
        "results = cursor.fetchall()"
      ]
    },
    {
      "cell_type": "code",
      "execution_count": null,
      "metadata": {},
      "outputs": [],
      "source": [
        "#Cuando no necesitemos más una vista, podemos eliminarla de la siguiente manera\n",
        "query = '''\n",
        "DROP VIEW view_test;\n",
        "'''\n",
        "cursor.execute(query)\n",
        "results = cursor.fetchall()"
      ]
    },
    {
      "cell_type": "code",
      "execution_count": null,
      "metadata": {},
      "outputs": [],
      "source": [
        "# Una vez concluyamos las consultas, no olvidemos\n",
        "# Cerrar el cursor y la conexión con la base de datos\n",
        "cursor.close()\n",
        "connection.close()"
      ]
    }
  ],
  "metadata": {
    "colab": {
      "provenance": []
    },
    "deepnote": {},
    "deepnote_app_layout": "article",
    "deepnote_execution_queue": [],
    "deepnote_notebook_id": "fe4c43cba45f42feaa04acac127b5371",
    "gpuClass": "standard",
    "kernelspec": {
      "display_name": "Python 3",
      "name": "python3"
    },
    "language_info": {
      "codemirror_mode": {
        "name": "ipython",
        "version": 3
      },
      "file_extension": ".py",
      "mimetype": "text/x-python",
      "name": "python",
      "nbconvert_exporter": "python",
      "pygments_lexer": "ipython3",
      "version": "3.12.8"
    },
    "orig_nbformat": 2
  },
  "nbformat": 4,
  "nbformat_minor": 0
}
