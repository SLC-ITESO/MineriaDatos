{
 "cells": [
  {
   "cell_type": "markdown",
   "metadata": {},
   "source": [
    "# 03 Exploración de datos (estadística básica) "
   ]
  },
  {
   "cell_type": "markdown",
   "metadata": {},
   "source": [
    "En esta actividad nuestro objetivo realizar un analizar exploratorio básico y manipulación de los datos que tenemos respecto a salarios (datos utilizados en la actividad previa) para responder a las siguientes preguntas:\n",
    "\n",
    "1. ¿Cuál es el salario promedio en USD?\n",
    "2. ¿Cuál es el salario máximo y mínimo en dolares?\n",
    "3 ¿Cuantos pagos de salario se realizaron por divisa (modena)?\n",
    "4. ¿Cual es el salario promedio por divisa convertido a dolares?\n",
    "\n",
    "Para comenzar con la actividad, carguemos los datos que se encuentran almacenados en el archivo `ds_salaries` para posteriormente iniciar con el análisis exploratorio y manipulación de los datos."
   ]
  },
  {
   "cell_type": "code",
   "execution_count": 3,
   "metadata": {},
   "outputs": [],
   "source": [
    "import pandas as pd"
   ]
  },
  {
   "cell_type": "code",
   "execution_count": 4,
   "metadata": {},
   "outputs": [
    {
     "name": "stdout",
     "output_type": "stream",
     "text": [
      "<class 'pandas.core.frame.DataFrame'>\n",
      "RangeIndex: 607 entries, 0 to 606\n",
      "Data columns (total 12 columns):\n",
      " #   Column              Non-Null Count  Dtype \n",
      "---  ------              --------------  ----- \n",
      " 0   Unnamed: 0          607 non-null    int64 \n",
      " 1   work_year           607 non-null    int64 \n",
      " 2   experience_level    607 non-null    object\n",
      " 3   employment_type     607 non-null    object\n",
      " 4   job_title           607 non-null    object\n",
      " 5   salary              607 non-null    int64 \n",
      " 6   salary_currency     607 non-null    object\n",
      " 7   salary_in_usd       607 non-null    int64 \n",
      " 8   employee_residence  607 non-null    object\n",
      " 9   remote_ratio        607 non-null    int64 \n",
      " 10  company_location    607 non-null    object\n",
      " 11  company_size        607 non-null    object\n",
      "dtypes: int64(5), object(7)\n",
      "memory usage: 57.0+ KB\n"
     ]
    }
   ],
   "source": [
    "df = pd.read_csv('data\\\\ds_salaries.csv')\n",
    "#Verifiquemos el contenido del archivo\n",
    "df.info()"
   ]
  },
  {
   "cell_type": "markdown",
   "metadata": {},
   "source": [
    "### Preguntas de investigación\n",
    "\n",
    "1. ¿Cuál es el salario promedio en USD?"
   ]
  },
  {
   "cell_type": "code",
   "execution_count": 5,
   "metadata": {},
   "outputs": [
    {
     "name": "stdout",
     "output_type": "stream",
     "text": [
      "112297.86985172982\n"
     ]
    }
   ],
   "source": [
    "print(df['salary_in_usd'].mean())"
   ]
  },
  {
   "cell_type": "markdown",
   "metadata": {},
   "source": [
    "2. ¿?Cuál es el salario máximo y mínimo en dolares?"
   ]
  },
  {
   "cell_type": "code",
   "execution_count": 6,
   "metadata": {},
   "outputs": [
    {
     "name": "stdout",
     "output_type": "stream",
     "text": [
      "Salario máximo:  600000\n",
      "Salario mínimo:  2859\n"
     ]
    }
   ],
   "source": [
    "print(\"Salario máximo: \", df['salary_in_usd'].max())\n",
    "print(\"Salario mínimo: \", df['salary_in_usd'].min())"
   ]
  },
  {
   "cell_type": "markdown",
   "metadata": {},
   "source": [
    "3 ¿Cuantos pagos de salario se realizaron por divisa (modena)?"
   ]
  },
  {
   "cell_type": "code",
   "execution_count": 7,
   "metadata": {},
   "outputs": [
    {
     "data": {
      "text/plain": [
       "salary_currency\n",
       "AUD      2\n",
       "BRL      2\n",
       "CAD     18\n",
       "CHF      1\n",
       "CLP      1\n",
       "CNY      2\n",
       "DKK      2\n",
       "EUR     95\n",
       "GBP     44\n",
       "HUF      2\n",
       "INR     27\n",
       "JPY      3\n",
       "MXN      2\n",
       "PLN      3\n",
       "SGD      2\n",
       "TRY      3\n",
       "USD    398\n",
       "dtype: int64"
      ]
     },
     "execution_count": 7,
     "metadata": {},
     "output_type": "execute_result"
    }
   ],
   "source": [
    "df.groupby(['salary_currency']).size()"
   ]
  },
  {
   "cell_type": "markdown",
   "metadata": {},
   "source": [
    "4. ¿Cual es el salario promedio por divisa convertido a dolares?"
   ]
  },
  {
   "cell_type": "code",
   "execution_count": 8,
   "metadata": {},
   "outputs": [],
   "source": [
    "df02 = df.groupby(['salary_currency'])['salary_in_usd'].mean()"
   ]
  },
  {
   "cell_type": "code",
   "execution_count": 9,
   "metadata": {},
   "outputs": [
    {
     "data": {
      "text/plain": [
       "salary_currency\n",
       "AUD    87064.000000\n",
       "BRL    15904.000000\n",
       "CAD    97222.888889\n",
       "Name: salary_in_usd, dtype: float64"
      ]
     },
     "execution_count": 9,
     "metadata": {},
     "output_type": "execute_result"
    }
   ],
   "source": [
    "df02.head(3)"
   ]
  }
 ],
 "metadata": {
  "kernelspec": {
   "display_name": "Python 3",
   "language": "python",
   "name": "python3"
  },
  "language_info": {
   "codemirror_mode": {
    "name": "ipython",
    "version": 3
   },
   "file_extension": ".py",
   "mimetype": "text/x-python",
   "name": "python",
   "nbconvert_exporter": "python",
   "pygments_lexer": "ipython3",
   "version": "3.12.8"
  }
 },
 "nbformat": 4,
 "nbformat_minor": 2
}
