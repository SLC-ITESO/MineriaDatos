{
 "cells": [
  {
   "cell_type": "markdown",
   "metadata": {},
   "source": [
    "<div class=\"alert alert-block alert-info\">\n",
    "<font face = \"Times New Roman\" size = \"5\"><b><center>Programación para Minería de Datos</center></b></font>\n",
    "<b><font face = \"Times New Roman\" size = \"4\"><center>Unidad 3: Conceptos Generales</center></font>\n",
    "<font face = \"Times New Roman\" size = \"4\"><center>Tema 3.1: Introducción a Python como Herramienta de Desarrollo</center></font></b>\n",
    "</span></div>"
   ]
  },
  {
   "cell_type": "markdown",
   "metadata": {},
   "source": [
    "## Impresión\n",
    "\n",
    "En **Python**, la función `print()` puede ser empleada en diversas formas, por ejemplo:\n",
    "* Imprimir: \"Hola Mundo\"\n",
    "* Imprimir: \"Hola\", (variable que contiene una cadena)\n",
    "* Imprimir: \"Hola\" + (variable que contiene una cadena)\n",
    "* Imprimir: \"Hola %s\" % (variable que contiene una cadena)\n",
    "\n",
    "La documentación de la función `print()` puede ser consultada [en esta liga](https://docs.python.org/3/library/functions.html#print). Para realizar las acciones descritas previamente, se ejecuta el siguiente código:"
   ]
  },
  {
   "cell_type": "code",
   "execution_count": null,
   "metadata": {},
   "outputs": [],
   "source": [
    "#Definición de valores\n",
    "var = \"Mundo\"\n",
    "\n",
    "#Impresión de los resultados\n",
    "print(\"Hola Mundo\")\n",
    "print(\"Hola\", var)\n",
    "print(\"Hola \" + var)\n",
    "print(\"Hola %s\" %var)"
   ]
  },
  {
   "cell_type": "markdown",
   "metadata": {},
   "source": [
    "Para **Python**, el uso de comillas simples, dobles y triples se emplean para definir cadenas (strings). Muchos usuarios las emplean de la siguiente manera:\n",
    "* Sencillas cuando se declara una sola palabra: 'Ejemplo'.\n",
    "* Dobles cuando se declara una línea: \"Este es un Ejemplo\".\n",
    "* Triples cuando se declaran párrafos o varias líneas: \"\"\"Este es un Ejemplo\"\"\".\n",
    "\n",
    "Esto es:"
   ]
  },
  {
   "cell_type": "code",
   "execution_count": null,
   "metadata": {},
   "outputs": [],
   "source": [
    "#Impresión de los resultados\n",
    "print('Hola.')\n",
    "print(\"Muy buenas tardes tengan todos.\")\n",
    "print(\"\"\"Este es el curso de Programación para Análisis de Datos.\n",
    "Nos gusta mucho programar en Python.\"\"\")"
   ]
  },
  {
   "cell_type": "markdown",
   "metadata": {},
   "source": [
    "Las cadenas pueden ser asignadas a diferentes variables, y posteriormente pueden ser impresas con la función `print()` de la siguiente manera:"
   ]
  },
  {
   "cell_type": "code",
   "execution_count": null,
   "metadata": {},
   "outputs": [],
   "source": [
    "#Definición de valores\n",
    "cadena1 = 'Mundo'\n",
    "cadena2 = 'Feliz'\n",
    "\n",
    "#Impresión de los resultados\n",
    "print('Hola', cadena1)\n",
    "print('Hola', cadena1, cadena2)"
   ]
  },
  {
   "cell_type": "markdown",
   "metadata": {},
   "source": [
    "La concatenación de cadenas es la \"adición\" de las mismas, y se puede realizar como se describe a continuación.\n",
    "\n",
    "***Nota:*** Durante la concatenación de cadenas, no habrá espacios entre ellas."
   ]
  },
  {
   "cell_type": "code",
   "execution_count": null,
   "metadata": {},
   "outputs": [],
   "source": [
    "#Impresión de los resultados\n",
    "print('Hola' + cadena1 + cadena2)"
   ]
  },
  {
   "cell_type": "markdown",
   "metadata": {},
   "source": [
    "Adicionalmente se puede emplear `%s`, el cual se usa para referirse a una variable que contiene una cadena de la siguiente manera:"
   ]
  },
  {
   "cell_type": "code",
   "execution_count": null,
   "metadata": {},
   "outputs": [],
   "source": [
    "#Impresión de los resultados\n",
    "print(\"Hola %s\" % cadena1)\n",
    "print(\"Hola %s\" % cadena1, \"%s\" % cadena2)"
   ]
  },
  {
   "cell_type": "markdown",
   "metadata": {},
   "source": [
    "De manera similar, se puede emplear `%` con otros tipos de datos:\n",
    "\n",
    "| Símbolo: | Tipo de Dato: |\n",
    "|----|---|\n",
    "| %s | Cadena |\n",
    "| %d | Entero |\n",
    "| %f | Flotante |\n",
    "| %o | Octal |\n",
    "| %x | Hexadecimal |\n",
    "| %e | Exponencial |\n",
    "\n",
    "Todos ellos pueden emplearse dentro de la función `print()` de la siguiente manera:"
   ]
  },
  {
   "cell_type": "code",
   "execution_count": null,
   "metadata": {},
   "outputs": [],
   "source": [
    "#Impresión de los resultados\n",
    "print(\"Número a Emplear = %d\" %76)\n",
    "print(\"Valor Flotante del Número = %f\" %76)\n",
    "print(\"Equivalente Octal del Número = %o\" %76)\n",
    "print(\"Equivalente Hexadecimal del Número = %x\" %76)\n",
    "print(\"Equivalente Exponencial del Número = %e\" %76)"
   ]
  },
  {
   "cell_type": "markdown",
   "metadata": {},
   "source": [
    "Cuando se hace referencia a varias variables, se pueden emplear paréntesis de la siguiente manera:"
   ]
  },
  {
   "cell_type": "code",
   "execution_count": null,
   "metadata": {},
   "outputs": [],
   "source": [
    "#Impresión de los resultados\n",
    "print(\"Hola %s\" % cadena1, \"%s\" % cadena2)\n",
    "print(\"Hola %s %s\" %(cadena1,cadena2))"
   ]
  },
  {
   "cell_type": "markdown",
   "metadata": {},
   "source": [
    "Estos son ejemplos adicionales que pueden ser empleados:"
   ]
  },
  {
   "cell_type": "code",
   "execution_count": null,
   "metadata": {},
   "outputs": [],
   "source": [
    "#Impresión de los resultados\n",
    "print(\"Quiero imprimir un valor de porcentaje como: %d%% \\n\" %80)\n",
    "print('_A' * 10)\n",
    "print(\"\\nLunes\\nMartes\\nMiércoles\\nJueves\\nViernes\\n\")\n",
    "print(\"Quiero imprimir el valor \\\\n.\")"
   ]
  },
  {
   "cell_type": "markdown",
   "metadata": {},
   "source": [
    "## Presición\n",
    "\n",
    "En **Python**, se emplean dos valores para definir el formato de un número:\n",
    "* El ancho del campo (*fieldwidth*), que indica la cantidad de espacios totales en el número.\n",
    "* El ancho de precisión (*precisionwidth*), que indica la cantidad de decimales a emplear.\n",
    "\n",
    "El ancho de precisión tiene un valor de 6 por defecto, pero puede ser modificado empleando la siguiente sintaxis para un número flotante:\n",
    "`%(fieldwidth).(precisionwidth)f`\n",
    "\n",
    "Esto es:"
   ]
  },
  {
   "cell_type": "code",
   "execution_count": 1,
   "metadata": {},
   "outputs": [
    {
     "name": "stdout",
     "output_type": "stream",
     "text": [
      "0.123457\n",
      "0.12346\n",
      "   0.12346\n",
      "0000.12346\n"
     ]
    }
   ],
   "source": [
    "#Impresión de los resultados\n",
    "print(\"%f\" % 0.123456789)\n",
    "print(\"%.5f\" % 0.123456789)\n",
    "print(\"%10.5f\" % 0.123456789)\n",
    "print(\"%010.5f\" % 0.123456789)"
   ]
  },
  {
   "cell_type": "markdown",
   "metadata": {},
   "source": [
    "Para una alineación adecuada, se puede dejar un espacio al inicio para que cuando haya un número negativo la alineación se mantenga:"
   ]
  },
  {
   "cell_type": "code",
   "execution_count": null,
   "metadata": {},
   "outputs": [],
   "source": [
    "print(\"% .3f\" % 1.23456789)\n",
    "print(\"% .3f\" % -1.23456789)"
   ]
  },
  {
   "cell_type": "markdown",
   "metadata": {},
   "source": [
    "Adicionalmente, el signo `+` puede ser agregado al inicio:"
   ]
  },
  {
   "cell_type": "code",
   "execution_count": null,
   "metadata": {},
   "outputs": [],
   "source": [
    "print(\"%+.3f\" % 1.23456789)\n",
    "print(\"% .3f\" % -1.23456789)"
   ]
  },
  {
   "cell_type": "markdown",
   "metadata": {},
   "source": [
    "<div class=\"alert alert-block alert-success\">\n",
    "<b>.: Fin del Subtema :.</b>\n",
    "</div>\n",
    "\n",
    "***Liga de aceso al siguiente Subtema:*** \n",
    "<br>[Listas, Tuplas, Conjuntos y Diccionarios](c.%20Listas,%20Tuplas,%20Conjuntos%20y%20Diccionarios.ipynb)"
   ]
  }
 ],
 "metadata": {
  "kernelspec": {
   "display_name": "Python 3 (ipykernel)",
   "language": "python",
   "name": "python3"
  },
  "language_info": {
   "codemirror_mode": {
    "name": "ipython",
    "version": 3
   },
   "file_extension": ".py",
   "mimetype": "text/x-python",
   "name": "python",
   "nbconvert_exporter": "python",
   "pygments_lexer": "ipython3",
   "version": "3.11.5"
  }
 },
 "nbformat": 4,
 "nbformat_minor": 4
}
