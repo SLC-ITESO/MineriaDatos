{
 "cells": [
  {
   "cell_type": "markdown",
   "metadata": {},
   "source": [
    "<div class=\"alert alert-block alert-info\">\n",
    "<span style=\"color: rgb(0,53,91);\">\n",
    "<center><img src=\"./Imagenes/ITESO_Logo.png\" style=\"width:500px;height:142px;\" title=\"Logo ITESO\"></center>\n",
    "<font face = \"Times New Roman\" size = \"6\"><b><center>Ingeniería en Sistemas Computacionales</center></b></font>\n",
    "<font face = \"Times New Roman\" size = \"5\"><b><center>Programación para Minería de Datos</center></b></font>\n",
    "\n",
    "<b><font face = \"Times New Roman\" size = \"4\"><center>Unidad 3: Conceptos Generales</center></font>\n",
    "<font face = \"Times New Roman\" size = \"4\"><center>Tema 3.1: Introducción a Python como Herramienta de Desarrollo</center></font>\n",
    "<font face = \"Times New Roman\" size = \"4\"><center>Subtema c: Listas, Tuplas, Conjuntos y Diccionarios</center></font></b>\n",
    "</span></div>"
   ]
  },
  {
   "cell_type": "markdown",
   "metadata": {},
   "source": [
    "## LISTAS\n",
    "\n",
    "En **Python**, las estructuras de datos son las colecciones o grupos de datos que tienen una estructura en particular. \n",
    "\n",
    "Las ***Listas*** son una de las estructuras más comúnmente empleadas. Son secuencias de datos que están contenidas entre corchetes, los cuales se separan mediante comas. Cada uno de los valores individuales puede ser accedido mentiante el uso de su valor de índice (*index value*).\n",
    "\n",
    "Las ***Listas*** son declaradas de la siguiente manera, donde la función `type()` se emplea para indicar el tipo de valor contenido en la variable:"
   ]
  },
  {
   "cell_type": "code",
   "execution_count": null,
   "metadata": {
    "scrolled": true
   },
   "outputs": [],
   "source": [
    "#Definición de valores\n",
    "lista = []\n",
    "#Impresión del tipo de estructura de datos\n",
    "print(type(lista))\n",
    "print(lista)"
   ]
  },
  {
   "cell_type": "markdown",
   "metadata": {},
   "source": [
    "Se pueden asignar los valores a la lista de manera directa separando con comas.\n",
    "\n",
    "***Nota:*** Los valores contenidos en una lista pueden ser de distinto formato."
   ]
  },
  {
   "cell_type": "code",
   "execution_count": null,
   "metadata": {},
   "outputs": [],
   "source": [
    "#Definición de valores\n",
    "lista = ['manzana', 'naranja', 45, 36.5]\n",
    "\n",
    "#Impresión de los resultados\n",
    "print(lista)"
   ]
  },
  {
   "cell_type": "markdown",
   "metadata": {},
   "source": [
    "### Indexado de una Lista:\n",
    "En **Python**, el indexado comienza desde el valor `0`. Para el ejemplo previo, *manzana* se ubica en la posición *0* mientras que *36.5* se ubica en la posición *3*, lo que denota que la ***Lista*** contiene 4 elementos. \n",
    "\n",
    "Para accederlos, simplemente se indica en el corchete el valor al cual se desea accesar:"
   ]
  },
  {
   "cell_type": "code",
   "execution_count": null,
   "metadata": {},
   "outputs": [],
   "source": [
    "#Impresión de los resultados\n",
    "print(\"El segundo valor de la lista es:\" ,lista[1])"
   ]
  },
  {
   "cell_type": "markdown",
   "metadata": {},
   "source": [
    "El indexado se puede realizar en order inverso también. Esto es, el último elemento puede ser accesado inicialmente. En este caso, el indexado comienza en `-1`, por lo mismo, *36.5* se ubica en la posición *-1* mientras que *manzana* se ubica en la posición *-4*:"
   ]
  },
  {
   "cell_type": "code",
   "execution_count": null,
   "metadata": {},
   "outputs": [],
   "source": [
    "#Impresión de los resultados\n",
    "print(\"El segundo valor de la lista es:\" ,lista[-3])"
   ]
  },
  {
   "cell_type": "markdown",
   "metadata": {},
   "source": [
    "Consideremos que tenemos dos ***Listas***, una de ellas con marcas de autos alemanes y la otra con marcas de autos americanos. Podemos crear una lista global de autos como se muestra a continuación. \n",
    "\n",
    "***Nota:*** Una ***Lista*** dentro de otra ***Lista*** se conoce como ***Listas Anidadas***."
   ]
  },
  {
   "cell_type": "code",
   "execution_count": null,
   "metadata": {},
   "outputs": [],
   "source": [
    "#Definición de valores\n",
    "ale = ['Volkswagen', 'Mercedes', 'BMW']\n",
    "usa = ['Chevrolet', 'Chrysler', 'Ford']\n",
    "\n",
    "#Lista Anidada\n",
    "aut = [ale, usa]\n",
    "\n",
    "#Impresión de los resultados\n",
    "print(\"La lista de autos es:\", aut)"
   ]
  },
  {
   "cell_type": "markdown",
   "metadata": {},
   "source": [
    "El indexado para la ***Lista*** `aut` podría causar confusión al ser una lista anidada. Se puede acceder al elemento `0` el cual es la lista de autos alemanes. \n",
    "\n",
    "Para acceder al elemento *Volkswagen* en `aut`, hay que acceder al elemento `0` del elemento `0`, esto es:"
   ]
  },
  {
   "cell_type": "code",
   "execution_count": null,
   "metadata": {},
   "outputs": [],
   "source": [
    "#Impresión de los resultados\n",
    "print(aut[0])\n",
    "print(aut[0][0])"
   ]
  },
  {
   "cell_type": "markdown",
   "metadata": {},
   "source": [
    "Las ***Listas Anidadas*** pueden ser de más niveles, y el acceso a través de su índice se realiza de manera similar, por ejemplo:"
   ]
  },
  {
   "cell_type": "code",
   "execution_count": null,
   "metadata": {},
   "outputs": [],
   "source": [
    "#Definición de valores\n",
    "ale = ['Volkswagen', 'Mercedes', 'BMW']\n",
    "usa = ['Chevrolet', 'Chrysler', 'Ford']\n",
    "ita = ['Fiat', 'Ferrari', 'Maserati']\n",
    "jap = ['Mazda', 'Nissan', 'Honda']\n",
    "\n",
    "#Listas Anidadas\n",
    "aut1 = [ale, usa]\n",
    "aut2 = [ita, jap]\n",
    "autg = [aut1, aut2]\n",
    "\n",
    "#Impresión de los resultados\n",
    "print(\"La lista global de autos es:\", autg)\n",
    "print(autg[0][0][0])"
   ]
  },
  {
   "cell_type": "markdown",
   "metadata": {},
   "source": [
    "### Rebanadas de Listas\n",
    "El indexado permite acceder a un valor único dentro de una ***Lista***. Sin embargo, es posible acceder a una secuencia de datos en una ***Lista*** por medio de una ***Rebanada*** o ***Slicing*** de la misma. \n",
    "\n",
    "Esto se realiza por medio de los valores del índice, pero indicando el primer y el último elemento que se desea extraer o accesar. Se emplean corchetes como `[a:b]`, donde *a* y *b* son los índices de inicio y fin de la rebanada. Si *a* o *b* no son definidos, se considera que serán el primer y último valor, respectivamente.\n",
    "\n",
    "***Nota:*** El valor correspondiente al índice *b* no será considerado, es decir, la ***Rebanada*** de la lista considerará los valores de la posición *a* hasta la posición *b-1*.\n",
    "\n",
    "Esto es:"
   ]
  },
  {
   "cell_type": "code",
   "execution_count": null,
   "metadata": {},
   "outputs": [],
   "source": [
    "#Definición de valores\n",
    "num = [0,1,2,3,4,5,6,7,8,9]\n",
    "\n",
    "#Impresión de los resultados\n",
    "print(num[2:5])\n",
    "print(num[4:])\n",
    "print(num[:4])\n",
    "print(num[-2:])"
   ]
  },
  {
   "cell_type": "markdown",
   "metadata": {},
   "source": [
    "### Funciones\n",
    "Para determinar la longitud de una ***Lista*** se emplea la función `len()` de la siguiente manera:"
   ]
  },
  {
   "cell_type": "code",
   "execution_count": null,
   "metadata": {},
   "outputs": [],
   "source": [
    "#Impresión de los resultados\n",
    "print(\"La longitud de la lista \\\"ale\\\" es:\", len(ale))\n",
    "print(\"La longitud de la lista \\\"aut\\\" es:\", len(aut))"
   ]
  },
  {
   "cell_type": "markdown",
   "metadata": {},
   "source": [
    "Si la lista es numérica, se puede determinar su valor mínimo y máximo con  las funciones `min()` y `max()`, respectivamente:"
   ]
  },
  {
   "cell_type": "code",
   "execution_count": null,
   "metadata": {},
   "outputs": [],
   "source": [
    "#Impresión de los resultados\n",
    "print(\"El valor mínimo de la lista \\\"num\\\" es:\", min(num))\n",
    "print(\"El valor máximo de la lista \\\"num\\\" es:\", max(num))"
   ]
  },
  {
   "cell_type": "markdown",
   "metadata": {},
   "source": [
    "Las ***Listas*** pueden ser concatenadas empleando `+`, la ventaja es que generan una ***Lista Concatenada*** y no una ***Lista Anidada***:"
   ]
  },
  {
   "cell_type": "code",
   "execution_count": null,
   "metadata": {},
   "outputs": [],
   "source": [
    "#Listas Anidadas\n",
    "autA = [ale, usa]\n",
    "autC = [ale + usa]\n",
    "\n",
    "#Impresión de los resultados\n",
    "print(\"La lista Anidada es:\", autA)\n",
    "print(\"La lista Concatenada es:\", autC)"
   ]
  },
  {
   "cell_type": "markdown",
   "metadata": {},
   "source": [
    "Existe una manera de verificar si un elemento existe en una lista empleando `in`, el resultado será un valor booleano como se ejemplifica:"
   ]
  },
  {
   "cell_type": "code",
   "execution_count": null,
   "metadata": {},
   "outputs": [],
   "source": [
    "#Impresión de los resultados\n",
    "print('Volkswagen' in ale)\n",
    "print('Ford' in ale)"
   ]
  },
  {
   "cell_type": "markdown",
   "metadata": {},
   "source": [
    "Se pueden agregar elementos al final de una lista por medio del método `.append()`de la siguiente manera:"
   ]
  },
  {
   "cell_type": "code",
   "execution_count": null,
   "metadata": {},
   "outputs": [],
   "source": [
    "#Operación de agregación de un valor\n",
    "ale.append('Audi')\n",
    "\n",
    "#Impresión de los resultados\n",
    "print(\"La lista de autos alemanes es:\", ale)"
   ]
  },
  {
   "cell_type": "markdown",
   "metadata": {},
   "source": [
    "El método `.append()`también se puede emplear para agregar toda una ***Lista*** a otra, pero el resultado será una ***Lista Anidada***. Para evitarlo, se puede emplear el método `.extend()` como se describe a continuación.\n",
    "\n",
    "***Nota:*** Se emplea el método `.copy()` para hacer una copia de la ***Lista*** de autos alemanes."
   ]
  },
  {
   "cell_type": "code",
   "execution_count": null,
   "metadata": {},
   "outputs": [],
   "source": [
    "#Copia de las listas de autos\n",
    "aleA = ale.copy()\n",
    "aleE = ale.copy()\n",
    "\n",
    "#Operaciones de agregación y extensión\n",
    "aleA.append(usa)\n",
    "aleE.extend(usa)\n",
    "\n",
    "#Impresión de los resultados\n",
    "print(\"La lista Anidada es:\", aleA)\n",
    "print(\"La lista Extendida es:\", aleE)"
   ]
  },
  {
   "cell_type": "markdown",
   "metadata": {},
   "source": [
    "Se puede eliminar un elemento de una ***Lista*** a través del método `.remove()` de la siguiente manera:"
   ]
  },
  {
   "cell_type": "code",
   "execution_count": null,
   "metadata": {},
   "outputs": [],
   "source": [
    "#Operación de eliminación de un valor\n",
    "ale.remove('Audi')\n",
    "\n",
    "#Impresión de los resultados\n",
    "print(\"La lista de autos alemanes es:\", ale)"
   ]
  },
  {
   "cell_type": "markdown",
   "metadata": {},
   "source": [
    "Se puede invertir el órden en la ***Lista*** por medio del método `.reverse()` de la siguiente manera:"
   ]
  },
  {
   "cell_type": "code",
   "execution_count": null,
   "metadata": {},
   "outputs": [],
   "source": [
    "#Operación de inversión del orden de los valores\n",
    "ale.reverse()\n",
    "\n",
    "#Impresión de los resultados\n",
    "print(\"La lista de autos alemanes es:\", ale)"
   ]
  },
  {
   "cell_type": "markdown",
   "metadata": {},
   "source": [
    "Finalmente, es posible ordenar los elementos en la ***Lista*** por medio del método `.sort()` de la siguiente manera:"
   ]
  },
  {
   "cell_type": "code",
   "execution_count": null,
   "metadata": {},
   "outputs": [],
   "source": [
    "#Operación de ordenamiento de los valores\n",
    "ale.sort()\n",
    "\n",
    "#Impresión de los resultados\n",
    "print(\"La lista de autos alemanes es:\", ale)"
   ]
  },
  {
   "cell_type": "markdown",
   "metadata": {},
   "source": [
    "El ordenamiento de los elementos en la ***Lista*** puede ser inverso modificando el método como `.sort(reverse=True)`. \n",
    "\n",
    "***Nota:*** El parámetro `reverse` dentro del método `.sort()` toma de manera predeterminada el valor `False`, es decir, las listas numéricas se ordenarán de manera ascendente, y las los valores del tipo caracter lo harán de manera alfabética."
   ]
  },
  {
   "cell_type": "code",
   "execution_count": null,
   "metadata": {},
   "outputs": [],
   "source": [
    "ale.sort(reverse=True)\n",
    "\n",
    "#Impresión de los resultados\n",
    "print(\"La lista de autos alemanes es:\", ale)"
   ]
  },
  {
   "cell_type": "markdown",
   "metadata": {},
   "source": [
    "## TUPLAS\n",
    "\n",
    "Las ***Tuplas*** son similares a las ***Listas***, pero la diferencia es que los elementos en una ***Lista*** pueden ser modificados pero en una ***Tupla*** no se puede.\n",
    "\n",
    "Para definirlas se emplean paréntesis `()` en lugar de corchetes `[]`:"
   ]
  },
  {
   "cell_type": "code",
   "execution_count": null,
   "metadata": {},
   "outputs": [],
   "source": [
    "#Definición de valores\n",
    "lista = ['Volkswagen', 'Mercedes', 'BMW']\n",
    "tupla = ('Volkswagen', 'Mercedes', 'BMW')\n",
    "\n",
    "#Impresión de los resultados\n",
    "print(\"La lista de autos alemanes es:\", lista)\n",
    "print(\"La tupla de autos alemanes es:\", tupla)"
   ]
  },
  {
   "cell_type": "markdown",
   "metadata": {},
   "source": [
    "Por ejemplo, para agregar elementos a la ***Lista*** y a la ***Tupla*** empleando el método `.append()`:"
   ]
  },
  {
   "cell_type": "code",
   "execution_count": null,
   "metadata": {},
   "outputs": [],
   "source": [
    "#Agregar elementos a la lista\n",
    "lista.append('Audi')\n",
    "print(\"La lista de autos alemanes es:\", lista)\n",
    "\n",
    "#Agregar elementos a la tupla\n",
    "tupla.append('Audi')"
   ]
  },
  {
   "cell_type": "markdown",
   "metadata": {},
   "source": [
    "## CONJUNTOS\n",
    "Los **conjuntos** o **set** son colecciones donde no se permiten elementos duplicados y los elementos no tienen un orden específico.\n",
    "\n",
    "Para definir un set se emplean llaves `{}` o la función `set()`.\n"
   ]
  },
  {
   "cell_type": "code",
   "execution_count": null,
   "metadata": {},
   "outputs": [],
   "source": [
    "# Crear un set con llaves\n",
    "mi_set = {1, 2, 3, 4}\n",
    "print(type(mi_set))\n",
    "print(mi_set)\n",
    "\n",
    "# Crear un set usando la función set()\n",
    "mi_set1 = set([1, 2, 3, 4])\n"
   ]
  },
  {
   "cell_type": "markdown",
   "metadata": {},
   "source": [
    "Un **set** no permite elementos duplicados. Si intentas agregar un elemento que ya está presente, no se añadirá."
   ]
  },
  {
   "cell_type": "code",
   "execution_count": null,
   "metadata": {},
   "outputs": [],
   "source": [
    "mi_set = {1, 2, 2, 3} #elementos duplicados\n",
    "print(mi_set)"
   ]
  },
  {
   "cell_type": "markdown",
   "metadata": {},
   "source": [
    "Los **sets** no mantienen el orden de los elementos."
   ]
  },
  {
   "cell_type": "code",
   "execution_count": null,
   "metadata": {},
   "outputs": [],
   "source": [
    "mi_set2 = {6,2,9,12,0,1,12} #elementos en desorden\n",
    "mi_set3 = {'h','o','l','a'}  #elementos duplicados\n",
    "print(mi_set2)\n",
    "print(mi_set3)"
   ]
  },
  {
   "cell_type": "markdown",
   "metadata": {},
   "source": [
    "Los **set** son estructuras mutables entonces puedes agregar o eliminar elementos."
   ]
  },
  {
   "cell_type": "code",
   "execution_count": null,
   "metadata": {},
   "outputs": [],
   "source": [
    "mi_set2.add(5)  #agregar el valor 5\n",
    "print(mi_set2)\n",
    "mi_set2.remove(2)  #Eliminar el valor 2\n",
    "print(mi_set2)\n"
   ]
  },
  {
   "cell_type": "markdown",
   "metadata": {},
   "source": [
    "Los **sets** presentan las mismas operaciones que los conjuntos:\n",
    "1. **Unión**: Combina todos los elementos de dos sets."
   ]
  },
  {
   "cell_type": "code",
   "execution_count": null,
   "metadata": {},
   "outputs": [],
   "source": [
    "set1 = {1, 2, 3}\n",
    "set2 = {3, 4, 5}\n",
    "union = set1 | set2 \n",
    "print(union)"
   ]
  },
  {
   "cell_type": "markdown",
   "metadata": {},
   "source": [
    "2. **Intersección**: Encuentra los elementos comunes entre dos sets."
   ]
  },
  {
   "cell_type": "code",
   "execution_count": null,
   "metadata": {},
   "outputs": [],
   "source": [
    "interseccion = set1 & set2  # {3\n",
    "print(interseccion)"
   ]
  },
  {
   "cell_type": "markdown",
   "metadata": {},
   "source": [
    "3. **Diferencia**: Obtiene los elementos presentes en un set pero no en el otro."
   ]
  },
  {
   "cell_type": "code",
   "execution_count": null,
   "metadata": {},
   "outputs": [],
   "source": [
    "diferencia = set1 - set2  # {1, 2\n",
    "print(diferencia)"
   ]
  },
  {
   "cell_type": "markdown",
   "metadata": {},
   "source": [
    "4. **Diferencia simétrica**: Obtiene los elementos que están en uno u otro set, pero no en ambos."
   ]
  },
  {
   "cell_type": "code",
   "execution_count": null,
   "metadata": {},
   "outputs": [],
   "source": [
    "diferencia_simetrica = set1 ^ set2  # {1, 2, 4, 5\n",
    "print(diferencia_simetrica)"
   ]
  },
  {
   "cell_type": "markdown",
   "metadata": {},
   "source": [
    "5. Verificar **pertenencia**: si el elemento forma parte del set"
   ]
  },
  {
   "cell_type": "code",
   "execution_count": null,
   "metadata": {},
   "outputs": [],
   "source": [
    "print(2 in mi_set)  # True\n",
    "print(6 in mi_set)  # False"
   ]
  },
  {
   "cell_type": "markdown",
   "metadata": {},
   "source": [
    "**Nota:** Los sets son útiles para operaciones que requieren eliminar duplicados, realizar uniones, intersecciones y diferencias entre conjuntos de datos.\n"
   ]
  },
  {
   "cell_type": "markdown",
   "metadata": {},
   "source": [
    "## DICCIONARIOS \n",
    "\n",
    "Los ***Diccionarios*** se emplean como una base de datos debido a que se pueden indexar de manera personalizada. Cada elemento contendrá un *identificador (key)* y su respectivo valor asociado *valor (value)*.\n",
    "\n",
    "Para definir un ***Diccionario*** se emplean llaves `{}` o la función `dict()` de la siguiente manera:"
   ]
  },
  {
   "cell_type": "code",
   "execution_count": null,
   "metadata": {},
   "outputs": [],
   "source": [
    "#Definición de valores\n",
    "calif = { \"Maria\": 90, \"Jesus\": 80, \"Joel\": 60}\n",
    "\n",
    "#Impresión de los resultados\n",
    "print(\"El Diccionario de Calificaciones es:\", calif)\n",
    "print(\"La Calificación de María es:\", calif[\"Maria\"])\n",
    "# Si no existe la key que se busca un error es arrojado por lo tanto no es muy seguro el acceso a través de corchetes cuadrados []\n",
    "print(\"La Calificación de María es:\", calif[\"Mary\"])"
   ]
  },
  {
   "cell_type": "markdown",
   "metadata": {},
   "source": [
    "Para acceder  a los valores asociados con una clave específica, proporcionando una forma segura de hacerlo es con `get()`: "
   ]
  },
  {
   "cell_type": "code",
   "execution_count": null,
   "metadata": {},
   "outputs": [],
   "source": [
    "#Forma básica de obtener el valor asociado a 'Maria'\n",
    "print(f\"La calificación de María es: {calif.get('Maria')}\")\n",
    "# Pero que sucede si no se encuentra la key:\n",
    "print(f\"La calificación de María es: {calif.get('Mary')}\")\n",
    "# Puedes especificar un valor por defecto que se devolverá si la clave no se encuentra en el diccionario.\n",
    "print(f\"La calificación de María es: {calif.get('Mary', 'No disponible' )}\")"
   ]
  },
  {
   "cell_type": "markdown",
   "metadata": {},
   "source": [
    "Los valores en el ***Diccionario*** pueden ser modificados o agregados de la siguiente manera:"
   ]
  },
  {
   "cell_type": "code",
   "execution_count": null,
   "metadata": {},
   "outputs": [],
   "source": [
    "#Definición de valores\n",
    "calif[\"Maria\"] = 100 \n",
    "calif[\"Karina\"] = 80 \n",
    "\n",
    "#Impresión de los resultados\n",
    "print(\"El Diccionario de Calificaciones es:\", calif)"
   ]
  },
  {
   "cell_type": "markdown",
   "metadata": {},
   "source": [
    "Se puede mostrar la lista de *identificadores (keys)* contenidos en el ***Diccionario*** empleando el método `.keys()` de la siguiente manera:"
   ]
  },
  {
   "cell_type": "code",
   "execution_count": null,
   "metadata": {},
   "outputs": [],
   "source": [
    "#Impresión de los resultados\n",
    "print(calif.keys())"
   ]
  },
  {
   "cell_type": "markdown",
   "metadata": {},
   "source": [
    "Se puede mostrar la lista de *valores (values)* contenidos en el ***Diccionario*** empleando el método `.values()` de la siguiente manera:"
   ]
  },
  {
   "cell_type": "code",
   "execution_count": null,
   "metadata": {},
   "outputs": [],
   "source": [
    "#Impresión de los resultados\n",
    "print(calif.values())"
   ]
  },
  {
   "cell_type": "markdown",
   "metadata": {},
   "source": [
    "Se puede mostrar la lista de todos los elementos contenidos en el ***Diccionario*** como pares ordenados empleando el método `.items()` de la siguiente manera:"
   ]
  },
  {
   "cell_type": "code",
   "execution_count": null,
   "metadata": {},
   "outputs": [],
   "source": [
    "#Impresión de los resultados\n",
    "print(calif.items())"
   ]
  },
  {
   "cell_type": "markdown",
   "metadata": {},
   "source": [
    "<div class=\"alert alert-block alert-success\">\n",
    "<b>.: Fin del Subtema :.</b>\n",
    "</div>\n",
    "\n",
    "***Liga de aceso al siguiente Subtema:*** \n",
    "<br>[d. Control de Flujo](d.%20Control%20de%20Flujo.ipynb)"
   ]
  }
 ],
 "metadata": {
  "kernelspec": {
   "display_name": "Python 3 (ipykernel)",
   "language": "python",
   "name": "python3"
  },
  "language_info": {
   "codemirror_mode": {
    "name": "ipython",
    "version": 3
   },
   "file_extension": ".py",
   "mimetype": "text/x-python",
   "name": "python",
   "nbconvert_exporter": "python",
   "pygments_lexer": "ipython3",
   "version": "3.11.5"
  }
 },
 "nbformat": 4,
 "nbformat_minor": 4
}
