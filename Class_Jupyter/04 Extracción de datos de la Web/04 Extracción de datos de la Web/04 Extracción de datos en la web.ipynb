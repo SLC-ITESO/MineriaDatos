{
 "cells": [
  {
   "cell_type": "markdown",
   "metadata": {},
   "source": [
    "# 04 Extracción de datos en la web\n",
    "\n",
    "## Caso: Datos del Clima"
   ]
  },
  {
   "cell_type": "markdown",
   "metadata": {},
   "source": [
    "El objetivo de esta actividad es abordar un caso en el que se requiere extraer información que se encuentra en la web, en particular para este ejercicio nos enfocaremos en extraer datos sobre el clima desde una página web para almacenarlos en un archivo CSV. De esta forma podríamos generar un histórico del clima para regiones y espacios temporales de interés para aplicaciones como predicción de tráfico vial, etc.\n",
    "\n",
    "Al concluir nuestra actividad se espera tener un archivo llamado `clima_7_dias_Boulder.csv` que contenga los siguientes datos para cada día:\n",
    "\n",
    "* period\n",
    "* short_desc\n",
    "* temp\n",
    "* desc\n",
    "\n",
    "Visualmente, esperamos llegar a construir la siguiente tabla de datos:\n",
    "<img src=\"images\\\\target.PNG\">\n",
    "\n"
   ]
  },
  {
   "cell_type": "markdown",
   "metadata": {},
   "source": [
    "## Descripción de la actividad\n",
    "\n",
    "***Descargar datos metereológicos***\n",
    "\n",
    "Para iniciar con el desarrollo de la actividad se proponen los siguientes pasos para descargar la página y comenzar el análisis:\n",
    "\n",
    "1. Instalar o verificar que se tengan instalas las librerías: requests y bs4\n",
    "2. Cargar a memoria la página web: https://forecast.weather.gov/MapClick.php?lat=40.0466&lon=-105.2523# .YwpRBy2B1f0\n",
    "3. Crear una instancia de la clase `BeatifulSoup` para analizar la página\n",
    "4. Buscar el `div` que tenga un `id` = `seven-day-forecast`\n",
    "5. Dentro del `div`encontremos cada elemento de pronósticos individual\n",
    "6. Para verificar que vamos bien, imprimamos el primer elemento del pronóstivo"
   ]
  },
  {
   "cell_type": "code",
   "execution_count": 1,
   "metadata": {},
   "outputs": [],
   "source": [
    "#pip install requests\n",
    "#pip install bs4\n",
    "\n",
    "import requests\n",
    "from bs4 import BeautifulSoup\n",
    "\n",
    "url = \"https://forecast.weather.gov/MapClick.php?lat=40.0466&lon=-105.2523#.YwpRBy2B1f0\""
   ]
  },
  {
   "cell_type": "code",
   "execution_count": 2,
   "metadata": {},
   "outputs": [],
   "source": [
    "page = requests.get(url)\n",
    "\n",
    "soup = BeautifulSoup(page.content, 'html.parser')\n",
    "\n",
    "seven_day = soup.find(id='seven-day-forecast')\n",
    "\n",
    "forecast_items = seven_day.find_all(class_ = 'tombstone-container')"
   ]
  },
  {
   "cell_type": "code",
   "execution_count": 3,
   "metadata": {},
   "outputs": [
    {
     "data": {
      "text/plain": [
       "[<div class=\"tombstone-container\"><p class=\"period-name\">Today</p><p><img alt=\"Today: Sunny, with a high near 52. Calm wind becoming northeast 5 to 8 mph in the afternoon. \" class=\"forecast-icon\" src=\"newimages/medium/few.png\" title=\"Today: Sunny, with a high near 52. Calm wind becoming northeast 5 to 8 mph in the afternoon. \"/></p><p class=\"temp temp-high\">High: 52 °F</p><p class=\"short-desc\">Sunny</p></div>,\n",
       " <div class=\"tombstone-container\"><p class=\"period-name\">Tonight</p><p><img alt=\"Tonight: Mostly clear, with a low around 30. North wind around 5 mph becoming calm. \" class=\"forecast-icon\" src=\"newimages/medium/nfew.png\" title=\"Tonight: Mostly clear, with a low around 30. North wind around 5 mph becoming calm. \"/></p><p class=\"temp temp-low\">Low: 30 °F</p><p class=\"short-desc\">Mostly Clear</p></div>,\n",
       " <div class=\"tombstone-container\"><p class=\"period-name\">Friday</p><p><img alt=\"Friday: Sunny, with a high near 59. West southwest wind 3 to 8 mph. \" class=\"forecast-icon\" src=\"newimages/medium/few.png\" title=\"Friday: Sunny, with a high near 59. West southwest wind 3 to 8 mph. \"/></p><p class=\"temp temp-high\">High: 59 °F</p><p class=\"short-desc\">Sunny</p></div>,\n",
       " <div class=\"tombstone-container\"><p class=\"period-name\">Friday Night</p><p><img alt=\"Friday Night: A chance of rain before 11pm, then a chance of rain and snow.  Mostly cloudy, with a low around 31. West southwest wind 6 to 8 mph.  Chance of precipitation is 50%. Little or no snow accumulation expected. \" class=\"forecast-icon\" src=\"newimages/medium/nrasn50.png\" title=\"Friday Night: A chance of rain before 11pm, then a chance of rain and snow.  Mostly cloudy, with a low around 31. West southwest wind 6 to 8 mph.  Chance of precipitation is 50%. Little or no snow accumulation expected. \"/></p><p class=\"temp temp-low\">Low: 31 °F</p><p class=\"short-desc\">Chance<br/>Rain/Snow</p></div>,\n",
       " <div class=\"tombstone-container\"><p class=\"period-name\">Saturday</p><p><img alt=\"Saturday: A 20 percent chance of snow before 11am.  Mostly sunny, with a high near 47. West northwest wind 3 to 8 mph. Winds could gust as high as 20 mph. \" class=\"forecast-icon\" src=\"DualImage.php?i=sn&amp;j=sct&amp;ip=20\" title=\"Saturday: A 20 percent chance of snow before 11am.  Mostly sunny, with a high near 47. West northwest wind 3 to 8 mph. Winds could gust as high as 20 mph. \"/></p><p class=\"temp temp-high\">High: 47 °F</p><p class=\"short-desc\">Slight Chance<br/>Snow then<br/>Mostly Sunny</p></div>,\n",
       " <div class=\"tombstone-container\"><p class=\"period-name\">Saturday Night</p><p><img alt=\"Saturday Night: A 30 percent chance of snow after 11pm.  Mostly cloudy, with a low around 18.\" class=\"forecast-icon\" src=\"newimages/medium/nsn30.png\" title=\"Saturday Night: A 30 percent chance of snow after 11pm.  Mostly cloudy, with a low around 18.\"/></p><p class=\"temp temp-low\">Low: 18 °F</p><p class=\"short-desc\">Chance Snow</p></div>,\n",
       " <div class=\"tombstone-container\"><p class=\"period-name\">Sunday</p><p><img alt=\"Sunday: A 20 percent chance of snow.  Mostly sunny, with a high near 38.\" class=\"forecast-icon\" src=\"newimages/medium/sn20.png\" title=\"Sunday: A 20 percent chance of snow.  Mostly sunny, with a high near 38.\"/></p><p class=\"temp temp-high\">High: 38 °F</p><p class=\"short-desc\">Slight Chance<br/>Snow</p></div>,\n",
       " <div class=\"tombstone-container\"><p class=\"period-name\">Sunday Night</p><p><img alt=\"Sunday Night: Partly cloudy, with a low around 16.\" class=\"forecast-icon\" src=\"newimages/medium/nsct.png\" title=\"Sunday Night: Partly cloudy, with a low around 16.\"/></p><p class=\"temp temp-low\">Low: 16 °F</p><p class=\"short-desc\">Partly Cloudy</p></div>,\n",
       " <div class=\"tombstone-container\"><p class=\"period-name\">Monday</p><p><img alt=\"Monday: A slight chance of snow.  Mostly sunny, with a high near 36.\" class=\"forecast-icon\" src=\"newimages/medium/sn.png\" title=\"Monday: A slight chance of snow.  Mostly sunny, with a high near 36.\"/></p><p class=\"temp temp-high\">High: 36 °F</p><p class=\"short-desc\">Slight Chance<br/>Snow</p></div>]"
      ]
     },
     "execution_count": 3,
     "metadata": {},
     "output_type": "execute_result"
    }
   ],
   "source": [
    "forecast_items"
   ]
  },
  {
   "cell_type": "code",
   "execution_count": 4,
   "metadata": {},
   "outputs": [
    {
     "name": "stdout",
     "output_type": "stream",
     "text": [
      "<div class=\"tombstone-container\">\n",
      " <p class=\"period-name\">\n",
      "  Tonight\n",
      " </p>\n",
      " <p>\n",
      "  <img alt=\"Tonight: Mostly clear, with a low around 30. North wind around 5 mph becoming calm. \" class=\"forecast-icon\" src=\"newimages/medium/nfew.png\" title=\"Tonight: Mostly clear, with a low around 30. North wind around 5 mph becoming calm. \"/>\n",
      " </p>\n",
      " <p class=\"temp temp-low\">\n",
      "  Low: 30 °F\n",
      " </p>\n",
      " <p class=\"short-desc\">\n",
      "  Mostly Clear\n",
      " </p>\n",
      "</div>\n",
      "\n"
     ]
    }
   ],
   "source": [
    "tonight = forecast_items[1]\n",
    "print(tonight.prettify())"
   ]
  },
  {
   "cell_type": "markdown",
   "metadata": {},
   "source": [
    "***Extracción de la información de esta noche***\n",
    "\n",
    "¿Cómo podemos ver dentro del elemento de pronóstico de esta noche toda la información que queremos? Hay cuatro elementos de información que podemos extraer:\n",
    "\n",
    "* El nombre del elemento del pronóstico.\n",
    "* La descripción de las condiciones.\n",
    "* Una breve descripción de las condiciones.\n",
    "* La temperatura máxima."
   ]
  },
  {
   "cell_type": "markdown",
   "metadata": {},
   "source": [
    "Primero extraeremos el nombre del elemento de pronóstico, la breve descripción y la temperatura, ya que todos son similares:"
   ]
  },
  {
   "cell_type": "code",
   "execution_count": 7,
   "metadata": {},
   "outputs": [
    {
     "name": "stdout",
     "output_type": "stream",
     "text": [
      "Tonight\n",
      "Mostly Clear\n",
      "Low: 30 °F\n",
      "Tonight: Mostly clear, with a low around 30. North wind around 5 mph becoming calm. \n"
     ]
    }
   ],
   "source": [
    "#code\n",
    "period = tonight.find(class_=\"period-name\").get_text()\n",
    "print(period)\n",
    "\n",
    "short_desc = tonight.find(class_=\"short-desc\").get_text()\n",
    "print(short_desc)\n",
    "\n",
    "temp = tonight.find(class_=\"temp\").get_text()\n",
    "print(temp)\n",
    "\n",
    "img = tonight.find(\"img\")\n",
    "desc = img['title']\n",
    "print(desc)"
   ]
  },
  {
   "cell_type": "markdown",
   "metadata": {},
   "source": [
    "Ahora, procedamos a extraer la descripción de las condiciones."
   ]
  },
  {
   "cell_type": "markdown",
   "metadata": {},
   "source": [
    "#code"
   ]
  },
  {
   "cell_type": "markdown",
   "metadata": {},
   "source": []
  },
  {
   "cell_type": "markdown",
   "metadata": {},
   "source": [
    "***Extracción de toda la información***\n",
    "\n",
    "\n",
    "Ahora que sabemos cómo extraer cada dato de forma individual, procedamos a extraer toda la información de una vez."
   ]
  },
  {
   "cell_type": "code",
   "execution_count": 13,
   "metadata": {},
   "outputs": [
    {
     "name": "stdout",
     "output_type": "stream",
     "text": [
      "['Today: Sunny, with a high near 52. Calm wind becoming northeast 5 to 8 mph in the afternoon. ', 'Tonight: Mostly clear, with a low around 30. North wind around 5 mph becoming calm. ', 'Friday: Sunny, with a high near 59. West southwest wind 3 to 8 mph. ', 'Friday Night: A chance of rain before 11pm, then a chance of rain and snow.  Mostly cloudy, with a low around 31. West southwest wind 6 to 8 mph.  Chance of precipitation is 50%. Little or no snow accumulation expected. ', 'Saturday: A 20 percent chance of snow before 11am.  Mostly sunny, with a high near 47. West northwest wind 3 to 8 mph. Winds could gust as high as 20 mph. ', 'Saturday Night: A 30 percent chance of snow after 11pm.  Mostly cloudy, with a low around 18.', 'Sunday: A 20 percent chance of snow.  Mostly sunny, with a high near 38.', 'Sunday Night: Partly cloudy, with a low around 16.', 'Monday: A slight chance of snow.  Mostly sunny, with a high near 36.']\n"
     ]
    }
   ],
   "source": [
    "#periods\n",
    "period_tags = seven_day.select(\".tombstone-container .period-name\")\n",
    "periods = [pt.get_text() for pt in period_tags]\n",
    "#print(periods)\n",
    "\n",
    "#short_descs\n",
    "short_descs = [sd.get_text() for sd in seven_day.select(\".tombstone-container .short-desc\")]\n",
    "#print(short_descs) \n",
    "\n",
    "#temps\n",
    "temps = [t.get_text() for t in seven_day.select(\".tombstone-container .temp\")]\n",
    "#print(temps) \n",
    "\n",
    "#descs\n",
    "descs = [d[\"title\"] for d in seven_day.select(\".tombstone-container img\")]\n",
    "#print(descs) \n"
   ]
  },
  {
   "cell_type": "markdown",
   "metadata": {},
   "source": [
    "***Construcción del DataFrame***\n",
    "\n",
    "Ahora podemos combinar los datos en un `DataFrame`  de Pandas para posteriormente analizarlos. Recordemos que un `DataFrame` es un objeto que puede almacenar datos tabulares, lo que facilita el análisis de datos."
   ]
  },
  {
   "cell_type": "code",
   "execution_count": null,
   "metadata": {},
   "outputs": [],
   "source": []
  }
 ],
 "metadata": {
  "kernelspec": {
   "display_name": "Python 3",
   "language": "python",
   "name": "python3"
  },
  "language_info": {
   "codemirror_mode": {
    "name": "ipython",
    "version": 3
   },
   "file_extension": ".py",
   "mimetype": "text/x-python",
   "name": "python",
   "nbconvert_exporter": "python",
   "pygments_lexer": "ipython3",
   "version": "3.12.8"
  }
 },
 "nbformat": 4,
 "nbformat_minor": 2
}
