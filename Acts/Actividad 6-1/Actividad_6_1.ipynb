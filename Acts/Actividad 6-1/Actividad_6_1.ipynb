{
 "cells": [
  {
   "cell_type": "code",
   "id": "initial_id",
   "metadata": {
    "collapsed": true,
    "ExecuteTime": {
     "end_time": "2025-02-18T16:38:21.612224Z",
     "start_time": "2025-02-18T16:38:21.584698Z"
    }
   },
   "source": [
    "import sqlite3\n",
    "\n",
    "# Creación de la conexión\n",
    "connection = sqlite3.connect('../../Labs/lab05-sqlite/chinook.db')\n",
    "\n",
    "# Creación del cursor que nos permitirá ejecutar consultar y obtener los resultados\n",
    "cursor = connection.cursor()\n",
    "\n",
    "# Creamos una consulta\n",
    "# En este caso consultamos el nombre de las tablas que existen en la base de datos 'chinook.db'\n",
    "query = '''\n",
    "SELECT name FROM sqlite_master\n",
    "WHERE type='table';\n",
    "'''\n",
    "\n",
    "# ejecutamos la consulta\n",
    "cursor.execute(query)\n",
    "\n",
    "# Obtenemos el resultado de la consulta\n",
    "results = cursor.fetchall()\n",
    "\n",
    "# Visualicemos el resultado de nuestra consulta\n",
    "results"
   ],
   "outputs": [
    {
     "data": {
      "text/plain": [
       "[('albums',),\n",
       " ('sqlite_sequence',),\n",
       " ('artists',),\n",
       " ('customers',),\n",
       " ('employees',),\n",
       " ('genres',),\n",
       " ('invoices',),\n",
       " ('invoice_items',),\n",
       " ('media_types',),\n",
       " ('playlists',),\n",
       " ('playlist_track',),\n",
       " ('tracks',),\n",
       " ('sqlite_stat1',)]"
      ]
     },
     "execution_count": 6,
     "metadata": {},
     "output_type": "execute_result"
    }
   ],
   "execution_count": 6
  },
  {
   "metadata": {
    "ExecuteTime": {
     "end_time": "2025-02-18T16:48:34.933167Z",
     "start_time": "2025-02-18T16:48:34.910168Z"
    }
   },
   "cell_type": "code",
   "source": [
    "resfor = {}\n",
    "\n",
    "for table in results:\n",
    "    table_name = table[0].split('\\r\\n')[0]  # Accedemos al nombre de la tabla desde la tupla\n",
    "    q = f'''\n",
    "    PRAGMA table_info({table_name});\n",
    "    '''\n",
    "    # Ejecutamos la consulta\n",
    "    cursor.execute(q)\n",
    "    # Obtenemos el resultado de la consulta\n",
    "    raw = cursor.fetchall()\n",
    "    resfor[table_name] = [ (r[1],r[2]) for r in raw ]\n",
    "    # al imprimir raw, solo necesitamos los elementos 1 y 2 de la tupla, por eso (r[1],r[2])\n",
    "\n",
    "resfor"
   ],
   "id": "d4dce6750125151c",
   "outputs": [
    {
     "data": {
      "text/plain": [
       "{'albums': [('AlbumId', 'INTEGER'),\n",
       "  ('Title', 'NVARCHAR(160)'),\n",
       "  ('ArtistId', 'INTEGER')],\n",
       " 'sqlite_sequence': [('name', ''), ('seq', '')],\n",
       " 'artists': [('ArtistId', 'INTEGER'), ('Name', 'NVARCHAR(120)')],\n",
       " 'customers': [('CustomerId', 'INTEGER'),\n",
       "  ('FirstName', 'NVARCHAR(40)'),\n",
       "  ('LastName', 'NVARCHAR(20)'),\n",
       "  ('Company', 'NVARCHAR(80)'),\n",
       "  ('Address', 'NVARCHAR(70)'),\n",
       "  ('City', 'NVARCHAR(40)'),\n",
       "  ('State', 'NVARCHAR(40)'),\n",
       "  ('Country', 'NVARCHAR(40)'),\n",
       "  ('PostalCode', 'NVARCHAR(10)'),\n",
       "  ('Phone', 'NVARCHAR(24)'),\n",
       "  ('Fax', 'NVARCHAR(24)'),\n",
       "  ('Email', 'NVARCHAR(60)'),\n",
       "  ('SupportRepId', 'INTEGER')],\n",
       " 'employees': [('EmployeeId', 'INTEGER'),\n",
       "  ('LastName', 'NVARCHAR(20)'),\n",
       "  ('FirstName', 'NVARCHAR(20)'),\n",
       "  ('Title', 'NVARCHAR(30)'),\n",
       "  ('ReportsTo', 'INTEGER'),\n",
       "  ('BirthDate', 'DATETIME'),\n",
       "  ('HireDate', 'DATETIME'),\n",
       "  ('Address', 'NVARCHAR(70)'),\n",
       "  ('City', 'NVARCHAR(40)'),\n",
       "  ('State', 'NVARCHAR(40)'),\n",
       "  ('Country', 'NVARCHAR(40)'),\n",
       "  ('PostalCode', 'NVARCHAR(10)'),\n",
       "  ('Phone', 'NVARCHAR(24)'),\n",
       "  ('Fax', 'NVARCHAR(24)'),\n",
       "  ('Email', 'NVARCHAR(60)')],\n",
       " 'genres': [('GenreId', 'INTEGER'), ('Name', 'NVARCHAR(120)')],\n",
       " 'invoices': [('InvoiceId', 'INTEGER'),\n",
       "  ('CustomerId', 'INTEGER'),\n",
       "  ('InvoiceDate', 'DATETIME'),\n",
       "  ('BillingAddress', 'NVARCHAR(70)'),\n",
       "  ('BillingCity', 'NVARCHAR(40)'),\n",
       "  ('BillingState', 'NVARCHAR(40)'),\n",
       "  ('BillingCountry', 'NVARCHAR(40)'),\n",
       "  ('BillingPostalCode', 'NVARCHAR(10)'),\n",
       "  ('Total', 'NUMERIC(10,2)')],\n",
       " 'invoice_items': [('InvoiceLineId', 'INTEGER'),\n",
       "  ('InvoiceId', 'INTEGER'),\n",
       "  ('TrackId', 'INTEGER'),\n",
       "  ('UnitPrice', 'NUMERIC(10,2)'),\n",
       "  ('Quantity', 'INTEGER')],\n",
       " 'media_types': [('MediaTypeId', 'INTEGER'), ('Name', 'NVARCHAR(120)')],\n",
       " 'playlists': [('PlaylistId', 'INTEGER'), ('Name', 'NVARCHAR(120)')],\n",
       " 'playlist_track': [('PlaylistId', 'INTEGER'), ('TrackId', 'INTEGER')],\n",
       " 'tracks': [('TrackId', 'INTEGER'),\n",
       "  ('Name', 'NVARCHAR(200)'),\n",
       "  ('AlbumId', 'INTEGER'),\n",
       "  ('MediaTypeId', 'INTEGER'),\n",
       "  ('GenreId', 'INTEGER'),\n",
       "  ('Composer', 'NVARCHAR(220)'),\n",
       "  ('Milliseconds', 'INTEGER'),\n",
       "  ('Bytes', 'INTEGER'),\n",
       "  ('UnitPrice', 'NUMERIC(10,2)')],\n",
       " 'sqlite_stat1': [('tbl', ''), ('idx', ''), ('stat', '')]}"
      ]
     },
     "execution_count": 12,
     "metadata": {},
     "output_type": "execute_result"
    }
   ],
   "execution_count": 12
  },
  {
   "metadata": {
    "ExecuteTime": {
     "end_time": "2025-02-18T16:43:07.629966Z",
     "start_time": "2025-02-18T16:43:05.489319Z"
    }
   },
   "cell_type": "code",
   "source": [
    "import pandas as pd\n",
    "df = pd.DataFrame(resfor)\n"
   ],
   "id": "91e580a5a516f282",
   "outputs": [
    {
     "ename": "ValueError",
     "evalue": "All arrays must be of the same length",
     "output_type": "error",
     "traceback": [
      "\u001B[1;31m---------------------------------------------------------------------------\u001B[0m",
      "\u001B[1;31mValueError\u001B[0m                                Traceback (most recent call last)",
      "Cell \u001B[1;32mIn[10], line 2\u001B[0m\n\u001B[0;32m      1\u001B[0m \u001B[38;5;28;01mimport\u001B[39;00m\u001B[38;5;250m \u001B[39m\u001B[38;5;21;01mpandas\u001B[39;00m\u001B[38;5;250m \u001B[39m\u001B[38;5;28;01mas\u001B[39;00m\u001B[38;5;250m \u001B[39m\u001B[38;5;21;01mpd\u001B[39;00m\n\u001B[1;32m----> 2\u001B[0m df \u001B[38;5;241m=\u001B[39m \u001B[43mpd\u001B[49m\u001B[38;5;241;43m.\u001B[39;49m\u001B[43mDataFrame\u001B[49m\u001B[43m(\u001B[49m\u001B[43mresfor\u001B[49m\u001B[43m)\u001B[49m\n",
      "File \u001B[1;32m~\\Pycharm\\MineriaDatos\\.venv\\lib\\site-packages\\pandas\\core\\frame.py:778\u001B[0m, in \u001B[0;36mDataFrame.__init__\u001B[1;34m(self, data, index, columns, dtype, copy)\u001B[0m\n\u001B[0;32m    772\u001B[0m     mgr \u001B[38;5;241m=\u001B[39m \u001B[38;5;28mself\u001B[39m\u001B[38;5;241m.\u001B[39m_init_mgr(\n\u001B[0;32m    773\u001B[0m         data, axes\u001B[38;5;241m=\u001B[39m{\u001B[38;5;124m\"\u001B[39m\u001B[38;5;124mindex\u001B[39m\u001B[38;5;124m\"\u001B[39m: index, \u001B[38;5;124m\"\u001B[39m\u001B[38;5;124mcolumns\u001B[39m\u001B[38;5;124m\"\u001B[39m: columns}, dtype\u001B[38;5;241m=\u001B[39mdtype, copy\u001B[38;5;241m=\u001B[39mcopy\n\u001B[0;32m    774\u001B[0m     )\n\u001B[0;32m    776\u001B[0m \u001B[38;5;28;01melif\u001B[39;00m \u001B[38;5;28misinstance\u001B[39m(data, \u001B[38;5;28mdict\u001B[39m):\n\u001B[0;32m    777\u001B[0m     \u001B[38;5;66;03m# GH#38939 de facto copy defaults to False only in non-dict cases\u001B[39;00m\n\u001B[1;32m--> 778\u001B[0m     mgr \u001B[38;5;241m=\u001B[39m \u001B[43mdict_to_mgr\u001B[49m\u001B[43m(\u001B[49m\u001B[43mdata\u001B[49m\u001B[43m,\u001B[49m\u001B[43m \u001B[49m\u001B[43mindex\u001B[49m\u001B[43m,\u001B[49m\u001B[43m \u001B[49m\u001B[43mcolumns\u001B[49m\u001B[43m,\u001B[49m\u001B[43m \u001B[49m\u001B[43mdtype\u001B[49m\u001B[38;5;241;43m=\u001B[39;49m\u001B[43mdtype\u001B[49m\u001B[43m,\u001B[49m\u001B[43m \u001B[49m\u001B[43mcopy\u001B[49m\u001B[38;5;241;43m=\u001B[39;49m\u001B[43mcopy\u001B[49m\u001B[43m,\u001B[49m\u001B[43m \u001B[49m\u001B[43mtyp\u001B[49m\u001B[38;5;241;43m=\u001B[39;49m\u001B[43mmanager\u001B[49m\u001B[43m)\u001B[49m\n\u001B[0;32m    779\u001B[0m \u001B[38;5;28;01melif\u001B[39;00m \u001B[38;5;28misinstance\u001B[39m(data, ma\u001B[38;5;241m.\u001B[39mMaskedArray):\n\u001B[0;32m    780\u001B[0m     \u001B[38;5;28;01mfrom\u001B[39;00m\u001B[38;5;250m \u001B[39m\u001B[38;5;21;01mnumpy\u001B[39;00m\u001B[38;5;21;01m.\u001B[39;00m\u001B[38;5;21;01mma\u001B[39;00m\u001B[38;5;250m \u001B[39m\u001B[38;5;28;01mimport\u001B[39;00m mrecords\n",
      "File \u001B[1;32m~\\Pycharm\\MineriaDatos\\.venv\\lib\\site-packages\\pandas\\core\\internals\\construction.py:503\u001B[0m, in \u001B[0;36mdict_to_mgr\u001B[1;34m(data, index, columns, dtype, typ, copy)\u001B[0m\n\u001B[0;32m    499\u001B[0m     \u001B[38;5;28;01melse\u001B[39;00m:\n\u001B[0;32m    500\u001B[0m         \u001B[38;5;66;03m# dtype check to exclude e.g. range objects, scalars\u001B[39;00m\n\u001B[0;32m    501\u001B[0m         arrays \u001B[38;5;241m=\u001B[39m [x\u001B[38;5;241m.\u001B[39mcopy() \u001B[38;5;28;01mif\u001B[39;00m \u001B[38;5;28mhasattr\u001B[39m(x, \u001B[38;5;124m\"\u001B[39m\u001B[38;5;124mdtype\u001B[39m\u001B[38;5;124m\"\u001B[39m) \u001B[38;5;28;01melse\u001B[39;00m x \u001B[38;5;28;01mfor\u001B[39;00m x \u001B[38;5;129;01min\u001B[39;00m arrays]\n\u001B[1;32m--> 503\u001B[0m \u001B[38;5;28;01mreturn\u001B[39;00m \u001B[43marrays_to_mgr\u001B[49m\u001B[43m(\u001B[49m\u001B[43marrays\u001B[49m\u001B[43m,\u001B[49m\u001B[43m \u001B[49m\u001B[43mcolumns\u001B[49m\u001B[43m,\u001B[49m\u001B[43m \u001B[49m\u001B[43mindex\u001B[49m\u001B[43m,\u001B[49m\u001B[43m \u001B[49m\u001B[43mdtype\u001B[49m\u001B[38;5;241;43m=\u001B[39;49m\u001B[43mdtype\u001B[49m\u001B[43m,\u001B[49m\u001B[43m \u001B[49m\u001B[43mtyp\u001B[49m\u001B[38;5;241;43m=\u001B[39;49m\u001B[43mtyp\u001B[49m\u001B[43m,\u001B[49m\u001B[43m \u001B[49m\u001B[43mconsolidate\u001B[49m\u001B[38;5;241;43m=\u001B[39;49m\u001B[43mcopy\u001B[49m\u001B[43m)\u001B[49m\n",
      "File \u001B[1;32m~\\Pycharm\\MineriaDatos\\.venv\\lib\\site-packages\\pandas\\core\\internals\\construction.py:114\u001B[0m, in \u001B[0;36marrays_to_mgr\u001B[1;34m(arrays, columns, index, dtype, verify_integrity, typ, consolidate)\u001B[0m\n\u001B[0;32m    111\u001B[0m \u001B[38;5;28;01mif\u001B[39;00m verify_integrity:\n\u001B[0;32m    112\u001B[0m     \u001B[38;5;66;03m# figure out the index, if necessary\u001B[39;00m\n\u001B[0;32m    113\u001B[0m     \u001B[38;5;28;01mif\u001B[39;00m index \u001B[38;5;129;01mis\u001B[39;00m \u001B[38;5;28;01mNone\u001B[39;00m:\n\u001B[1;32m--> 114\u001B[0m         index \u001B[38;5;241m=\u001B[39m \u001B[43m_extract_index\u001B[49m\u001B[43m(\u001B[49m\u001B[43marrays\u001B[49m\u001B[43m)\u001B[49m\n\u001B[0;32m    115\u001B[0m     \u001B[38;5;28;01melse\u001B[39;00m:\n\u001B[0;32m    116\u001B[0m         index \u001B[38;5;241m=\u001B[39m ensure_index(index)\n",
      "File \u001B[1;32m~\\Pycharm\\MineriaDatos\\.venv\\lib\\site-packages\\pandas\\core\\internals\\construction.py:677\u001B[0m, in \u001B[0;36m_extract_index\u001B[1;34m(data)\u001B[0m\n\u001B[0;32m    675\u001B[0m lengths \u001B[38;5;241m=\u001B[39m \u001B[38;5;28mlist\u001B[39m(\u001B[38;5;28mset\u001B[39m(raw_lengths))\n\u001B[0;32m    676\u001B[0m \u001B[38;5;28;01mif\u001B[39;00m \u001B[38;5;28mlen\u001B[39m(lengths) \u001B[38;5;241m>\u001B[39m \u001B[38;5;241m1\u001B[39m:\n\u001B[1;32m--> 677\u001B[0m     \u001B[38;5;28;01mraise\u001B[39;00m \u001B[38;5;167;01mValueError\u001B[39;00m(\u001B[38;5;124m\"\u001B[39m\u001B[38;5;124mAll arrays must be of the same length\u001B[39m\u001B[38;5;124m\"\u001B[39m)\n\u001B[0;32m    679\u001B[0m \u001B[38;5;28;01mif\u001B[39;00m have_dicts:\n\u001B[0;32m    680\u001B[0m     \u001B[38;5;28;01mraise\u001B[39;00m \u001B[38;5;167;01mValueError\u001B[39;00m(\n\u001B[0;32m    681\u001B[0m         \u001B[38;5;124m\"\u001B[39m\u001B[38;5;124mMixing dicts with non-Series may lead to ambiguous ordering.\u001B[39m\u001B[38;5;124m\"\u001B[39m\n\u001B[0;32m    682\u001B[0m     )\n",
      "\u001B[1;31mValueError\u001B[0m: All arrays must be of the same length"
     ]
    }
   ],
   "execution_count": 10
  },
  {
   "metadata": {},
   "cell_type": "code",
   "outputs": [],
   "execution_count": null,
   "source": "df.info()",
   "id": "cee3b6b686291946"
  }
 ],
 "metadata": {
  "kernelspec": {
   "display_name": "Python 3",
   "language": "python",
   "name": "python3"
  },
  "language_info": {
   "codemirror_mode": {
    "name": "ipython",
    "version": 2
   },
   "file_extension": ".py",
   "mimetype": "text/x-python",
   "name": "python",
   "nbconvert_exporter": "python",
   "pygments_lexer": "ipython2",
   "version": "2.7.6"
  }
 },
 "nbformat": 4,
 "nbformat_minor": 5
}
