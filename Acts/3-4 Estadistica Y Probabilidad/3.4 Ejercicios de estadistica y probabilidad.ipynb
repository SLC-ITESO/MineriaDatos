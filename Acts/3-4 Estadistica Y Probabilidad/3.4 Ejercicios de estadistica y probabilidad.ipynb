{
 "cells": [
  {
   "cell_type": "markdown",
   "metadata": {},
   "source": [
    "## Actividad: Análisis Estadístico y Probabilístico en Minería de Datos\n",
    "### Objetivo de la actividad:\n",
    "El objetivo de esta actividad es que los alumnos apliquen conceptos clave de estadística (media, moda, mediana, varianza, desviación estándar) y probabilidad (Teorema de Bayes, probabilidades condicionales) en escenarios prácticos de minería de datos. A través del uso de **Pandas** y **Matplotlib**, los estudiantes desarrollarán habilidades para analizar datos, identificar patrones y tomar decisiones informadas en contextos donde la variabilidad y la incertidumbre son factores cruciales. Esta actividad fomenta el pensamiento crítico y la comprensión de cómo las herramientas estadísticas pueden integrarse en la práctica real de la minería de datos.\n",
    "\n",
    "### Instrucciones Generales para Desarrollar la Actividad:\n",
    "1. Lea detenidamente cada ejercicio: Asegúrese de comprender los conceptos estadísticos y probabilísticos que se aplican en cada caso.\n",
    "2. Implemente el código en Python: Use las bibliotecas **Pandas**, y **Matplotlib** para generar datos, realizar cálculos estadísticos y graficar resultados según las indicaciones de cada ejercicio.\n",
    "3. Analice los resultados: Interprete los cálculos y gráficos generados para responder a las preguntas planteadas y extraer conclusiones relevantes.\n",
    "4.  Documente su trabajo: Asegúrese de incluir comentarios en su código que expliquen los pasos seguidos y las decisiones tomadas.\n",
    "5. Presente sus conclusiones: Al final de la actividad, resuma sus hallazgos, destacando los conceptos aplicados en el contexto de la minería de datos."
   ]
  },
  {
   "cell_type": "markdown",
   "metadata": {},
   "source": [
    "### Ejercicio 1: Análisis de Desempeño Académico\n",
    "\n",
    "**Objetivo**: Analizar el rendimiento académico de un grupo de estudiantes con base en sus calificaciones, identificando patrones y haciendo predicciones.\n",
    "\n",
    "**Actividades**:\n",
    "1. Calcula la media, mediana, moda, desviación estándar y varianza de las calificaciones para cada materia.  \n",
    "2. Identifica la materia y semestre en la que los estudiantes tienen el desempeño más bajo (menor media), y la materia y semestre en la que tienen el mejor desempeño (mayor media).  \n",
    "3. Grafica las distribuciones de calificaciones por materia, ¿Qué grafico es el más adecuado para visualizar la distribuciones de las calificaciones?.  \n",
    "4. Usa el Teorema de Bayes (investiga si no lo conoces o recuerdas) para calcular la probabilidad de que un estudiante tenga un promedio general superior a 8.5, dado que su calificación en **Desafios Eticos Contemporaneos** es superior a 9.0.  \n",
    "\n",
    "**Pregunta a contestar**:\n",
    "* ¿En qué materia los estudiantes tienen un desempeño consistentemente más bajo?\n",
    "* ¿Cómo podrías interpretar las diferencias en las medias de calificaciones entre las materias?\n",
    "* Basado en el cálculo usando el Teorema de Bayes, ¿qué tan significativo es el impacto de una alta calificación en **Desafios Eticos Contemporaneos** en el promedio general del estudiante?"
   ]
  },
  {
   "cell_type": "markdown",
   "metadata": {},
   "source": [
    "### Ejercicio 2: Estudio de Demanda de Productos\n",
    "\n",
    "**Objetivo**: Estudiar la demanda de diferentes productos en función del precio, identificando la relación entre variables e inferir la probabilidad de alta demanda con base en análisis de datos.\n",
    "\n",
    "**Actividades**:\n",
    "1. Calcula las medias, desviaciones estándar, modas y medianas de precios y demanda para cada producto.\n",
    "2. Grafica la relación entre precio y demanda para cada producto, ¿Qué gráfico es el más adecuado para visualizar tal relación?.\n",
    "3. Usa el Teorema de Bayes para calcular la probabilidad de que un producto tenga una alta demanda ($> 50$ unidades vendidas), dado que su precio es bajo ($< promedio).\n",
    "\n",
    "**Preguntas a contestar**:\n",
    "* ¿Qué conclusiones puedes extraer sobre la relación entre el precio y la demanda de cada producto?\n",
    "* ¿Cómo afecta la variabilidad en los precios a la probabilidad de alta demanda según el análisis realizado?"
   ]
  },
  {
   "cell_type": "markdown",
   "metadata": {},
   "source": "# Ejercicio 1"
  },
  {
   "metadata": {
    "ExecuteTime": {
     "end_time": "2025-02-27T13:52:26.707669Z",
     "start_time": "2025-02-27T13:52:24.514035Z"
    }
   },
   "cell_type": "code",
   "source": [
    "from time import process_time\n",
    "\n",
    "import pandas as pd\n",
    "file = \"calificaciones_estudiantes_n.csv\"\n",
    "df = pd.read_csv(file)\n",
    "df.info\n",
    "\n",
    "print(df.head(5))"
   ],
   "outputs": [
    {
     "name": "stdout",
     "output_type": "stream",
     "text": [
      "   id_estudiante  Semestre  Comunicacion Oral y Escrita  \\\n",
      "0             11         1                          7.5   \n",
      "1             12         2                          9.4   \n",
      "2             13         3                         10.0   \n",
      "3             14         4                          5.0   \n",
      "4             15         5                          7.1   \n",
      "\n",
      "   Etica, Identidad y Profesion  Desafios Eticos Contemporaneos  \n",
      "0                           6.5                            10.0  \n",
      "1                           5.0                             5.0  \n",
      "2                           5.1                             5.0  \n",
      "3                           7.8                             7.9  \n",
      "4                           5.2                             9.4  \n"
     ]
    }
   ],
   "execution_count": 1
  },
  {
   "metadata": {
    "ExecuteTime": {
     "end_time": "2025-02-27T13:52:26.755272Z",
     "start_time": "2025-02-27T13:52:26.724536Z"
    }
   },
   "cell_type": "code",
   "source": [
    "# Se calcula la media, mediana, moda, desviacion estandar y varianza de las calificaciones de cada materia\n",
    "\n",
    "# Lista para nombres de materias\n",
    "\n",
    "for m in df.columns[2:]:\n",
    "    print('Materia: '+m)\n",
    "    print('Mediana: '+ str(round(df[m].median(), 2)))\n",
    "    print('Media: ' + str(round(df[m].mean(), 2)))\n",
    "    print('Moda: ',str(df[m].mode().to_list()))\n",
    "    print('Varianza: ',str(round(df[m].var(), 2)))\n",
    "    print('Desviacion: ',str(round(df[m].std(), 2)))\n",
    "    print('------------------------')"
   ],
   "outputs": [
    {
     "name": "stdout",
     "output_type": "stream",
     "text": [
      "Materia: Comunicacion Oral y Escrita\n",
      "Mediana: 8.0\n",
      "Media: 7.81\n",
      "Moda:  [10.0]\n",
      "Varianza:  3.52\n",
      "Desviacion:  1.88\n",
      "------------------------\n",
      "Materia: Etica, Identidad y Profesion\n",
      "Mediana: 8.0\n",
      "Media: 7.8\n",
      "Moda:  [10.0]\n",
      "Varianza:  3.53\n",
      "Desviacion:  1.88\n",
      "------------------------\n",
      "Materia: Desafios Eticos Contemporaneos\n",
      "Mediana: 8.0\n",
      "Media: 7.8\n",
      "Moda:  [10.0]\n",
      "Varianza:  3.54\n",
      "Desviacion:  1.88\n",
      "------------------------\n"
     ]
    }
   ],
   "execution_count": 2
  },
  {
   "metadata": {
    "ExecuteTime": {
     "end_time": "2025-02-27T13:52:27.002563Z",
     "start_time": "2025-02-27T13:52:26.986793Z"
    }
   },
   "cell_type": "code",
   "source": [
    "#  Identifica la materia y semestre en la que los estudiantes tienen el desempeño más bajo (menor media), y la materia y semestre en la que tienen el mejor desempeño (mayor media).\n",
    "\n",
    "materias = df.columns[2:].values\n",
    "\n",
    "medias = df.groupby('Semestre')[materias].mean()\n",
    "\n",
    "\n",
    "min_mean = medias.min().min()\n",
    "max_mean = medias.max().max()\n",
    "\n",
    "min_idx = medias.min().idxmin()\n",
    "max_idx = medias.max().idxmax()\n",
    "\n",
    "print('Semestre y materia con menor desempeño: ' + str(round(min_mean, 2)) + ' en ' + str(min_idx))\n",
    "print('Semestre y materia con mejor desempeño: ' + str(round(max_mean, 2)) + ' en ' + str(max_idx))\n"
   ],
   "outputs": [
    {
     "name": "stdout",
     "output_type": "stream",
     "text": [
      "Semestre y materia con menor desempeño: 7.78 en Etica, Identidad y Profesion\n",
      "Semestre y materia con mejor desempeño: 7.83 en Comunicacion Oral y Escrita\n"
     ]
    }
   ],
   "execution_count": 3
  },
  {
   "metadata": {},
   "cell_type": "markdown",
   "source": "# Ejercicio 2"
  },
  {
   "metadata": {
    "ExecuteTime": {
     "end_time": "2025-02-27T13:52:27.057386Z",
     "start_time": "2025-02-27T13:52:27.027063Z"
    }
   },
   "cell_type": "code",
   "source": [
    "file = 'precios_ventas_amazon.json'\n",
    "df = pd.read_json(file)\n",
    "df.info()"
   ],
   "outputs": [
    {
     "name": "stdout",
     "output_type": "stream",
     "text": [
      "<class 'pandas.core.frame.DataFrame'>\n",
      "RangeIndex: 15 entries, 0 to 14\n",
      "Data columns (total 4 columns):\n",
      " #   Column    Non-Null Count  Dtype  \n",
      "---  ------    --------------  -----  \n",
      " 0   producto  15 non-null     object \n",
      " 1   vendedor  15 non-null     object \n",
      " 2   precio    15 non-null     float64\n",
      " 3   ventas    15 non-null     int64  \n",
      "dtypes: float64(1), int64(1), object(2)\n",
      "memory usage: 612.0+ bytes\n"
     ]
    }
   ],
   "execution_count": 4
  }
 ],
 "metadata": {
  "kernelspec": {
   "display_name": "Python 3",
   "language": "python",
   "name": "python3"
  },
  "language_info": {
   "codemirror_mode": {
    "name": "ipython",
    "version": 3
   },
   "file_extension": ".py",
   "mimetype": "text/x-python",
   "name": "python",
   "nbconvert_exporter": "python",
   "pygments_lexer": "ipython3",
   "version": "3.12.4"
  }
 },
 "nbformat": 4,
 "nbformat_minor": 2
}
