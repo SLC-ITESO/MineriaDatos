{
 "cells": [
  {
   "metadata": {},
   "cell_type": "markdown",
   "source": [
    "# Actividad 3.1\n",
    "\n",
    "De la pagina: https://www.worldometers.info/coronavirus/\n",
    "\n",
    "Extraer en un archivo Excel que contenga la siguiente info de todo el mundo por continente:\n",
    "\n",
    "- Country\n",
    "- Total Cases\n",
    "- Total Recovered\n",
    "- Active Cases"
   ],
   "id": "601d5c190608ed11"
  },
  {
   "cell_type": "code",
   "id": "initial_id",
   "metadata": {
    "collapsed": true,
    "ExecuteTime": {
     "end_time": "2025-02-10T16:40:07.927067Z",
     "start_time": "2025-02-10T16:40:06.498789Z"
    }
   },
   "source": [
    "import requests as req\n",
    "from bs4 import BeautifulSoup as soop\n",
    "\n",
    "url = 'https://www.worldometers.info/coronavirus/'\n",
    "\n",
    "page = req.get(url)\n",
    "soup = soop(page.content, 'html.parser')"
   ],
   "outputs": [],
   "execution_count": 1
  },
  {
   "metadata": {
    "ExecuteTime": {
     "end_time": "2025-02-10T17:54:50.690021Z",
     "start_time": "2025-02-10T17:54:50.636995Z"
    }
   },
   "cell_type": "code",
   "source": [
    "countries = soup.find(id=\"main_table_countries_today\")\n",
    "rows = countries.find('tbody').find_all('tr')\n",
    "asia_rows = [row for row in rows if row.find('td', {'data-continent': 'Asia'})]\n",
    "na_rows = [row for row in rows if row.find('td', {'data-continent': 'North America'})]\n",
    "\n",
    "ids = []\n",
    "countries_list = []\n",
    "total_cases = []\n",
    "total_deaths = []\n",
    "total_recovered = []\n",
    "populations = []\n",
    "\n",
    "# Procesa cada fila y almacena los primeros 6 td en las listas correspondientes\n",
    "for row in na_rows:\n",
    "    cells = row.find_all('td')\n",
    "\n",
    "    # Asegurarse de que haya al menos 6 celdas\n",
    "    ids.append(cells[0].text.strip())  # id\n",
    "    countries_list.append(cells[1].text.strip())  # Country\n",
    "    total_cases.append(cells[2].text.strip())  # Total Cases\n",
    "    total_deaths.append(cells[4].text.strip())  # Total Deaths\n",
    "    total_recovered.append(cells[6].text.strip())  # Total Recovered # Population\n",
    "\n",
    "# Imprime los resultados\n",
    "#print(\"IDs:\", ids)\n",
    "#print(\"Countries:\", countries_list)\n",
    "#print(\"Total Cases:\", total_cases)\n",
    "#print(\"Total Deaths:\", total_deaths)\n",
    "#print(\"Total Recovered:\", total_recovered)\n",
    "\n",
    "import pandas as pd\n",
    "DF = pd.DataFrame(\n",
    "    {\n",
    "        \"id\":ids,\n",
    "        \"Country\":countries_list,\n",
    "        \"Total Cases\":total_cases,\n",
    "        \"Total Deaths\":total_deaths,\n",
    "        \"Total Recovered\":total_recovered\n",
    "    }\n",
    ")\n",
    "DF.head()\n",
    "DF.info()\n",
    "#weather.to_csv(\"weather_report.csv\")"
   ],
   "id": "1f8160d61995dc1",
   "outputs": [
    {
     "name": "stdout",
     "output_type": "stream",
     "text": [
      "<class 'pandas.core.frame.DataFrame'>\n",
      "RangeIndex: 40 entries, 0 to 39\n",
      "Data columns (total 5 columns):\n",
      " #   Column           Non-Null Count  Dtype \n",
      "---  ------           --------------  ----- \n",
      " 0   id               40 non-null     object\n",
      " 1   Country          40 non-null     object\n",
      " 2   Total Cases      40 non-null     object\n",
      " 3   Total Deaths     40 non-null     object\n",
      " 4   Total Recovered  40 non-null     object\n",
      "dtypes: object(5)\n",
      "memory usage: 1.7+ KB\n"
     ]
    }
   ],
   "execution_count": 27
  }
 ],
 "metadata": {
  "kernelspec": {
   "display_name": "Python 3",
   "language": "python",
   "name": "python3"
  },
  "language_info": {
   "codemirror_mode": {
    "name": "ipython",
    "version": 2
   },
   "file_extension": ".py",
   "mimetype": "text/x-python",
   "name": "python",
   "nbconvert_exporter": "python",
   "pygments_lexer": "ipython2",
   "version": "2.7.6"
  }
 },
 "nbformat": 4,
 "nbformat_minor": 5
}
