{
 "cells": [
  {
   "cell_type": "code",
   "id": "initial_id",
   "metadata": {
    "collapsed": true,
    "jupyter": {
     "outputs_hidden": true
    },
    "ExecuteTime": {
     "end_time": "2025-01-30T15:35:49.784831Z",
     "start_time": "2025-01-30T15:35:49.760842Z"
    }
   },
   "source": [
    "import numpy\n",
    "import pandas\n",
    "import matplotlib\n",
    "import seaborn\n",
    "import scipy\n",
    "\n",
    "# TIPOS DE DATOS\n",
    "ent = 3\n",
    "flot = 3.5\n",
    "hexa = 0xFF\n",
    "bull = True\n",
    "complex = 3 + 5j\n",
    "stringy = \"me pican los cocos ay\"\n",
    "\n",
    "print(type(ent))\n",
    "print(type(flot))\n",
    "print(type(hexa))\n",
    "print(type(bull))\n",
    "print(type(complex))\n",
    "print(type(stringy))\n",
    "\n"
   ],
   "outputs": [
    {
     "name": "stdout",
     "output_type": "stream",
     "text": [
      "<class 'int'>\n",
      "<class 'float'>\n",
      "<class 'int'>\n",
      "<class 'bool'>\n",
      "<class 'complex'>\n",
      "<class 'str'>\n"
     ]
    }
   ],
   "execution_count": 2
  },
  {
   "metadata": {
    "ExecuteTime": {
     "end_time": "2025-01-30T15:48:30.246417Z",
     "start_time": "2025-01-30T15:48:30.230770Z"
    }
   },
   "cell_type": "code",
   "source": [
    "# LISTAS PYTHON\n",
    "\n",
    "lista1 = [1,2,3,4,5,6,7,8]\n",
    "print(lista1[4:7])\n",
    "\n",
    "lista2 = [[1,2,3,4],[5,6,7,8]]\n",
    "#para imprimir 8\n",
    "print(lista2[-1][-1])\n",
    "print(lista2[1][-1])\n",
    "print(lista2[1][3])"
   ],
   "id": "7905db923f3ea334",
   "outputs": [
    {
     "name": "stdout",
     "output_type": "stream",
     "text": [
      "[5, 6, 7]\n",
      "8\n",
      "8\n",
      "8\n"
     ]
    }
   ],
   "execution_count": 5
  },
  {
   "metadata": {
    "ExecuteTime": {
     "end_time": "2025-01-30T15:56:39.654636Z",
     "start_time": "2025-01-30T15:56:39.632090Z"
    }
   },
   "cell_type": "code",
   "source": [
    "list_tup = []\n",
    "tup1 = (1,2,3,4)\n",
    "tup2 = (5,6,7,8)\n",
    "list_tup.append(tup1)\n",
    "list_tup.append(tup2)\n",
    "print(list_tup)"
   ],
   "id": "43b3b04334d20208",
   "outputs": [
    {
     "name": "stdout",
     "output_type": "stream",
     "text": [
      "[(1, 2, 3, 4), (5, 6, 7, 8)]\n"
     ]
    }
   ],
   "execution_count": 6
  },
  {
   "metadata": {
    "ExecuteTime": {
     "end_time": "2025-01-30T15:59:30.868789Z",
     "start_time": "2025-01-30T15:59:30.837521Z"
    }
   },
   "cell_type": "code",
   "source": [
    "# Diccionario\n",
    "dicc = {'Paco':123,'LuisDaniel':345}\n",
    "dicc2 = {123:'Paco',345:'LuisDaniel'}\n",
    "print(dicc)\n",
    "\n",
    "print(dicc['Paco'])"
   ],
   "id": "edd514f584f0c697",
   "outputs": [
    {
     "name": "stdout",
     "output_type": "stream",
     "text": [
      "{'Paco': 123, 'LuisDaniel': 345}\n",
      "123\n"
     ]
    }
   ],
   "execution_count": 7
  },
  {
   "metadata": {
    "ExecuteTime": {
     "end_time": "2025-01-30T16:07:51.754354Z",
     "start_time": "2025-01-30T16:07:49.112823Z"
    }
   },
   "cell_type": "code",
   "source": [
    "ent = int(input(print(\"Dame un numero\")))\n",
    "sum = (ent*(ent+1))/2\n",
    "print(sum)"
   ],
   "id": "943b820084ca447b",
   "outputs": [
    {
     "name": "stdout",
     "output_type": "stream",
     "text": [
      "Dame un numero\n",
      "210.0\n"
     ]
    }
   ],
   "execution_count": 10
  },
  {
   "metadata": {
    "ExecuteTime": {
     "end_time": "2025-01-30T16:36:50.908243Z",
     "start_time": "2025-01-30T16:36:50.798282Z"
    }
   },
   "cell_type": "code",
   "source": [
    "#CLASSES\n",
    "class Auto:\n",
    "    def __init__(self, modelo:int,marca:str,color:str,num_puertas:int):\n",
    "        self.modelo = modelo\n",
    "        self.marca = marca\n",
    "        self.color = color\n",
    "        self.num_puertas = num_puertas\n",
    "\n",
    "miko = Auto(2025, 'KIA K4', 'Negro',4)\n",
    "\n",
    "print(type(miko))\n",
    "print(miko.marca)"
   ],
   "id": "f87dbd25d6bafb16",
   "outputs": [
    {
     "name": "stdout",
     "output_type": "stream",
     "text": [
      "<class '__main__.Auto'>\n",
      "KIA K4\n"
     ]
    }
   ],
   "execution_count": 18
  },
  {
   "metadata": {
    "ExecuteTime": {
     "end_time": "2025-01-30T16:52:50.062787Z",
     "start_time": "2025-01-30T16:52:50.028774Z"
    }
   },
   "cell_type": "code",
   "source": [
    "class RectoAngulo:\n",
    "    def __init__(self,ancho:int,alto:int):\n",
    "        self.ancho = ancho\n",
    "        self.alto = alto\n",
    "\n",
    "    def area(self):\n",
    "        a = self.ancho * self.alto\n",
    "        return a\n",
    "\n",
    "    def perimeter(self):\n",
    "        p = 2*self.ancho + 2*self.alto\n",
    "        return p\n",
    "\n",
    "    def modify_ancho(self,neoancho):\n",
    "        self.ancho = neoancho\n",
    "\n",
    "    def modify_alto(self,neoalto):\n",
    "        self.alto = neoalto\n",
    "\n",
    "recto = RectoAngulo(10,10)\n",
    "print(recto.ancho,recto.alto)\n",
    "print(recto.area())\n",
    "print(recto.perimeter())\n",
    "recto.modify_ancho(20)\n",
    "recto.modify_alto(20)\n",
    "print(recto.ancho,recto.alto)\n"
   ],
   "id": "d7b264b53a568ce8",
   "outputs": [
    {
     "name": "stdout",
     "output_type": "stream",
     "text": [
      "10 10\n",
      "100\n",
      "40\n",
      "20 20\n"
     ]
    }
   ],
   "execution_count": 23
  }
 ],
 "metadata": {
  "kernelspec": {
   "display_name": "Python 3 (ipykernel)",
   "language": "python",
   "name": "python3"
  },
  "language_info": {
   "codemirror_mode": {
    "name": "ipython",
    "version": 3
   },
   "file_extension": ".py",
   "mimetype": "text/x-python",
   "name": "python",
   "nbconvert_exporter": "python",
   "pygments_lexer": "ipython3",
   "version": "3.10.7"
  }
 },
 "nbformat": 4,
 "nbformat_minor": 5
}
