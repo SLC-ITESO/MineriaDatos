{
 "cells": [
  {
   "metadata": {},
   "cell_type": "markdown",
   "source": "# Extraccion WEB",
   "id": "121b24571e42961e"
  },
  {
   "metadata": {},
   "cell_type": "markdown",
   "source": "## Caso de Estudio: Clima",
   "id": "215f637b7af4d072"
  },
  {
   "cell_type": "code",
   "id": "initial_id",
   "metadata": {
    "collapsed": true,
    "ExecuteTime": {
     "end_time": "2025-02-06T15:20:07.724400Z",
     "start_time": "2025-02-06T15:20:07.253523Z"
    }
   },
   "source": [
    "# requests y bs4\n",
    "import requests as req\n",
    "from bs4 import BeautifulSoup as soop\n",
    "url = 'https://forecast.weather.gov/MapClick.php?lat=40.0466&lon=-105.2523#.YwpRBy2B1f0'"
   ],
   "outputs": [],
   "execution_count": 1
  },
  {
   "metadata": {
    "ExecuteTime": {
     "end_time": "2025-02-06T15:24:40.664868Z",
     "start_time": "2025-02-06T15:24:40.403589Z"
    }
   },
   "cell_type": "code",
   "source": [
    "page = req.get(url)\n",
    "soup = soop(page.content, 'html.parser')\n",
    "seven_day = soup.find(id='seven-day-forecast')\n",
    "forecast_items = seven_day.find_all(class_='forecast-tombstone')\n",
    "forecast_items"
   ],
   "id": "1d7bfa2f069222f2",
   "outputs": [
    {
     "data": {
      "text/plain": [
       "[<li class=\"forecast-tombstone\"><div class=\"tombstone-container\"><p class=\"period-name\">Today</p><p><img alt=\"Today: Sunny, with a high near 52. Calm wind becoming northeast 5 to 8 mph in the afternoon. \" class=\"forecast-icon\" src=\"newimages/medium/few.png\" title=\"Today: Sunny, with a high near 52. Calm wind becoming northeast 5 to 8 mph in the afternoon. \"/></p><p class=\"temp temp-high\">High: 52 °F</p><p class=\"short-desc\">Sunny</p></div></li>,\n",
       " <li class=\"forecast-tombstone\"><div class=\"tombstone-container\"><p class=\"period-name\">Tonight</p><p><img alt=\"Tonight: Mostly clear, with a low around 30. North wind around 5 mph becoming calm. \" class=\"forecast-icon\" src=\"newimages/medium/nfew.png\" title=\"Tonight: Mostly clear, with a low around 30. North wind around 5 mph becoming calm. \"/></p><p class=\"temp temp-low\">Low: 30 °F</p><p class=\"short-desc\">Mostly Clear</p></div></li>,\n",
       " <li class=\"forecast-tombstone\"><div class=\"tombstone-container\"><p class=\"period-name\">Friday</p><p><img alt=\"Friday: Sunny, with a high near 59. West southwest wind 3 to 8 mph. \" class=\"forecast-icon\" src=\"newimages/medium/few.png\" title=\"Friday: Sunny, with a high near 59. West southwest wind 3 to 8 mph. \"/></p><p class=\"temp temp-high\">High: 59 °F</p><p class=\"short-desc\">Sunny</p></div></li>,\n",
       " <li class=\"forecast-tombstone\"><div class=\"tombstone-container\"><p class=\"period-name\">Friday Night</p><p><img alt=\"Friday Night: A chance of rain before 11pm, then a chance of rain and snow.  Mostly cloudy, with a low around 31. West southwest wind 6 to 8 mph.  Chance of precipitation is 50%. Little or no snow accumulation expected. \" class=\"forecast-icon\" src=\"newimages/medium/nrasn50.png\" title=\"Friday Night: A chance of rain before 11pm, then a chance of rain and snow.  Mostly cloudy, with a low around 31. West southwest wind 6 to 8 mph.  Chance of precipitation is 50%. Little or no snow accumulation expected. \"/></p><p class=\"temp temp-low\">Low: 31 °F</p><p class=\"short-desc\">Chance<br/>Rain/Snow</p></div></li>,\n",
       " <li class=\"forecast-tombstone\"><div class=\"tombstone-container\"><p class=\"period-name\">Saturday</p><p><img alt=\"Saturday: A 20 percent chance of snow before 11am.  Mostly sunny, with a high near 47. West northwest wind 3 to 8 mph. Winds could gust as high as 20 mph. \" class=\"forecast-icon\" src=\"DualImage.php?i=sn&amp;j=sct&amp;ip=20\" title=\"Saturday: A 20 percent chance of snow before 11am.  Mostly sunny, with a high near 47. West northwest wind 3 to 8 mph. Winds could gust as high as 20 mph. \"/></p><p class=\"temp temp-high\">High: 47 °F</p><p class=\"short-desc\">Slight Chance<br/>Snow then<br/>Mostly Sunny</p></div></li>,\n",
       " <li class=\"forecast-tombstone\"><div class=\"tombstone-container\"><p class=\"period-name\">Saturday Night</p><p><img alt=\"Saturday Night: A 30 percent chance of snow after 11pm.  Mostly cloudy, with a low around 18.\" class=\"forecast-icon\" src=\"newimages/medium/nsn30.png\" title=\"Saturday Night: A 30 percent chance of snow after 11pm.  Mostly cloudy, with a low around 18.\"/></p><p class=\"temp temp-low\">Low: 18 °F</p><p class=\"short-desc\">Chance Snow</p></div></li>,\n",
       " <li class=\"forecast-tombstone\"><div class=\"tombstone-container\"><p class=\"period-name\">Sunday</p><p><img alt=\"Sunday: A 20 percent chance of snow.  Mostly sunny, with a high near 38.\" class=\"forecast-icon\" src=\"newimages/medium/sn20.png\" title=\"Sunday: A 20 percent chance of snow.  Mostly sunny, with a high near 38.\"/></p><p class=\"temp temp-high\">High: 38 °F</p><p class=\"short-desc\">Slight Chance<br/>Snow</p></div></li>,\n",
       " <li class=\"forecast-tombstone\"><div class=\"tombstone-container\"><p class=\"period-name\">Sunday Night</p><p><img alt=\"Sunday Night: Partly cloudy, with a low around 16.\" class=\"forecast-icon\" src=\"newimages/medium/nsct.png\" title=\"Sunday Night: Partly cloudy, with a low around 16.\"/></p><p class=\"temp temp-low\">Low: 16 °F</p><p class=\"short-desc\">Partly Cloudy</p></div></li>,\n",
       " <li class=\"forecast-tombstone\"><div class=\"tombstone-container\"><p class=\"period-name\">Monday</p><p><img alt=\"Monday: A slight chance of snow.  Mostly sunny, with a high near 36.\" class=\"forecast-icon\" src=\"newimages/medium/sn.png\" title=\"Monday: A slight chance of snow.  Mostly sunny, with a high near 36.\"/></p><p class=\"temp temp-high\">High: 36 °F</p><p class=\"short-desc\">Slight Chance<br/>Snow</p></div></li>]"
      ]
     },
     "execution_count": 6,
     "metadata": {},
     "output_type": "execute_result"
    }
   ],
   "execution_count": 6
  },
  {
   "metadata": {
    "ExecuteTime": {
     "end_time": "2025-02-06T15:31:37.612406Z",
     "start_time": "2025-02-06T15:31:37.596303Z"
    }
   },
   "cell_type": "code",
   "source": [
    "twonite = forecast_items[1]\n",
    "print(twonite.prettify())"
   ],
   "id": "768dd8f9e8fdcd67",
   "outputs": [
    {
     "name": "stdout",
     "output_type": "stream",
     "text": [
      "<li class=\"forecast-tombstone\">\n",
      " <div class=\"tombstone-container\">\n",
      "  <p class=\"period-name\">\n",
      "   Tonight\n",
      "  </p>\n",
      "  <p>\n",
      "   <img alt=\"Tonight: Mostly clear, with a low around 30. North wind around 5 mph becoming calm. \" class=\"forecast-icon\" src=\"newimages/medium/nfew.png\" title=\"Tonight: Mostly clear, with a low around 30. North wind around 5 mph becoming calm. \"/>\n",
      "  </p>\n",
      "  <p class=\"temp temp-low\">\n",
      "   Low: 30 °F\n",
      "  </p>\n",
      "  <p class=\"short-desc\">\n",
      "   Mostly Clear\n",
      "  </p>\n",
      " </div>\n",
      "</li>\n",
      "\n"
     ]
    }
   ],
   "execution_count": 8
  },
  {
   "metadata": {
    "ExecuteTime": {
     "end_time": "2025-02-06T15:41:11.305558Z",
     "start_time": "2025-02-06T15:41:11.286184Z"
    }
   },
   "cell_type": "code",
   "source": [
    "period = twonite.find(class_=\"period-name\").get_text()\n",
    "short_desc = twonite.find(class_=\"short-desc\").get_text()\n",
    "temp = twonite.find(class_=\"temp\").get_text()\n",
    "\n",
    "img = twonite.find(\"img\")[\"title\"]\n",
    "\n",
    "print(period + \"\\n\" + short_desc + \"\\n\" + temp + \"\\n\" + img)"
   ],
   "id": "c21098b019798e21",
   "outputs": [
    {
     "name": "stdout",
     "output_type": "stream",
     "text": [
      "Tonight\n",
      "Mostly Clear\n",
      "Low: 30 °F\n",
      "Tonight: Mostly clear, with a low around 30. North wind around 5 mph becoming calm. \n"
     ]
    }
   ],
   "execution_count": 17
  },
  {
   "metadata": {
    "ExecuteTime": {
     "end_time": "2025-02-06T16:23:07.319545Z",
     "start_time": "2025-02-06T16:23:07.301548Z"
    }
   },
   "cell_type": "code",
   "source": [
    "#periods\n",
    "import re\n",
    "period_tags = seven_day.select(\".tombstone-container .period-name\")\n",
    "periods = [pt.get_text() for pt in period_tags]\n",
    "#print(periods)\n",
    "\n",
    "#short descs\n",
    "short_desc = [sd.get_text() for sd in seven_day.select(\".tombstone-container .short-desc\")]\n",
    "\n",
    "temps = [tp.get_text() for tp in seven_day.select(\".tombstone-container .temp\")]\n",
    "print(temps)\n",
    "for i in range(len(temps)):\n",
    "    tF = int(re.search(r'(\\d+)', temps[i]).group(1))\n",
    "    tC = (tF - 32.0) * (5/9)\n",
    "    tC = '%.0f'%(tC)\n",
    "    #print(tC)\n",
    "    temps[i] = str(str(tC) + ' °C')\n",
    "    print(temps[i])\n",
    "\n",
    "descs = [dcs[\"title\"] for dcs in seven_day.select(\".tombstone-container img\")]\n",
    "#print(descs)"
   ],
   "id": "b396f8f0e92094f9",
   "outputs": [
    {
     "name": "stdout",
     "output_type": "stream",
     "text": [
      "['High: 52 °F', 'Low: 30 °F', 'High: 59 °F', 'Low: 31 °F', 'High: 47 °F', 'Low: 18 °F', 'High: 38 °F', 'Low: 16 °F', 'High: 36 °F']\n",
      "11 °C\n",
      "-1 °C\n",
      "15 °C\n",
      "-1 °C\n",
      "8 °C\n",
      "-8 °C\n",
      "3 °C\n",
      "-9 °C\n",
      "2 °C\n"
     ]
    }
   ],
   "execution_count": 39
  },
  {
   "metadata": {
    "ExecuteTime": {
     "end_time": "2025-02-06T16:04:44.453037Z",
     "start_time": "2025-02-06T16:04:44.412034Z"
    }
   },
   "cell_type": "code",
   "source": [
    "import pandas as pd\n",
    "weather = pd.DataFrame(\n",
    "    {\n",
    "        \"Period\":periods,\n",
    "        \"Short Description\":short_desc,\n",
    "        \"Temp\":temps,\n",
    "        \"Description\":descs,\n",
    "    }\n",
    ")\n",
    "weather.head()\n",
    "weather.info()\n",
    "weather.to_csv(\"weather_report.csv\")"
   ],
   "id": "6d6d22ffc2246ae0",
   "outputs": [
    {
     "name": "stdout",
     "output_type": "stream",
     "text": [
      "<class 'pandas.core.frame.DataFrame'>\n",
      "RangeIndex: 9 entries, 0 to 8\n",
      "Data columns (total 4 columns):\n",
      " #   Column             Non-Null Count  Dtype \n",
      "---  ------             --------------  ----- \n",
      " 0   Period             9 non-null      object\n",
      " 1   Short Description  9 non-null      object\n",
      " 2   Temp               9 non-null      object\n",
      " 3   Description        9 non-null      object\n",
      "dtypes: object(4)\n",
      "memory usage: 416.0+ bytes\n"
     ]
    }
   ],
   "execution_count": 26
  }
 ],
 "metadata": {
  "kernelspec": {
   "display_name": "Python 3",
   "language": "python",
   "name": "python3"
  },
  "language_info": {
   "codemirror_mode": {
    "name": "ipython",
    "version": 2
   },
   "file_extension": ".py",
   "mimetype": "text/x-python",
   "name": "python",
   "nbconvert_exporter": "python",
   "pygments_lexer": "ipython2",
   "version": "2.7.6"
  }
 },
 "nbformat": 4,
 "nbformat_minor": 5
}
