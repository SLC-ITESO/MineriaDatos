{
 "cells": [
  {
   "metadata": {},
   "cell_type": "markdown",
   "source": "# Extraccion WEB",
   "id": "121b24571e42961e"
  },
  {
   "metadata": {},
   "cell_type": "markdown",
   "source": "## Caso de Estudio: Clima",
   "id": "215f637b7af4d072"
  },
  {
   "cell_type": "code",
   "id": "initial_id",
   "metadata": {
    "collapsed": true,
    "ExecuteTime": {
     "end_time": "2025-02-06T15:20:07.724400Z",
     "start_time": "2025-02-06T15:20:07.253523Z"
    }
   },
   "source": [
    "# requests y bs4\n",
    "import requests as req\n",
    "from bs4 import BeautifulSoup as soop\n",
    "url = 'https://forecast.weather.gov/MapClick.php?lat=40.0466&lon=-105.2523#.YwpRBy2B1f0'"
   ],
   "outputs": [],
   "execution_count": 1
  },
  {
   "metadata": {
    "ExecuteTime": {
     "end_time": "2025-02-06T15:20:08.038977Z",
     "start_time": "2025-02-06T15:20:07.753458Z"
    }
   },
   "cell_type": "code",
   "source": [
    "page = req.get(url)\n",
    "soup = soop(page.content, 'html.parser')\n",
    "seven_day = soup.find(id='seven-day-forecast')\n",
    "forecast_items = seven_day.find_all(class_='tombstone_container')\n",
    "forecast_items"
   ],
   "id": "1d7bfa2f069222f2",
   "outputs": [
    {
     "data": {
      "text/plain": [
       "[]"
      ]
     },
     "execution_count": 2,
     "metadata": {},
     "output_type": "execute_result"
    }
   ],
   "execution_count": 2
  }
 ],
 "metadata": {
  "kernelspec": {
   "display_name": "Python 3",
   "language": "python",
   "name": "python3"
  },
  "language_info": {
   "codemirror_mode": {
    "name": "ipython",
    "version": 2
   },
   "file_extension": ".py",
   "mimetype": "text/x-python",
   "name": "python",
   "nbconvert_exporter": "python",
   "pygments_lexer": "ipython2",
   "version": "2.7.6"
  }
 },
 "nbformat": 4,
 "nbformat_minor": 5
}
