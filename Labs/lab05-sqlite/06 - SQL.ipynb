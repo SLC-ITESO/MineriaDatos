{
 "cells": [
  {
   "metadata": {},
   "cell_type": "markdown",
   "source": "# Recopilacion de Datos Almacenados en Bases de Datos SQL",
   "id": "89c6b31595967f55"
  },
  {
   "metadata": {},
   "cell_type": "markdown",
   "source": "## Para SQLite",
   "id": "a177e2cf694502c"
  },
  {
   "metadata": {
    "ExecuteTime": {
     "end_time": "2025-02-11T16:40:25.056567Z",
     "start_time": "2025-02-11T16:40:25.029692Z"
    }
   },
   "cell_type": "code",
   "source": [
    "# 1. Se crea la conexión a la base de datos\n",
    "import sqlite3 as sql\n",
    "connection = sql.connect('chinook.db')\n",
    "\n",
    "# 2. Creación de un objeto cursor\n",
    "cursor = connection.cursor()\n",
    "\n",
    "# 3. Se crea una consulta de prueba\n",
    "q = '''\n",
    "SELECT name\n",
    "FROM sqlite_master\n",
    "WHERE type='table';\n",
    "'''\n",
    "\n",
    "# 4. Se ejecuta el query\n",
    "cursor.execute(q)\n",
    "\n",
    "# 5. Se obtienen los resultados de la consulta\n",
    "results = cursor.fetchall()"
   ],
   "id": "d7a5d79e2404e8c7",
   "outputs": [],
   "execution_count": 1
  },
  {
   "metadata": {
    "ExecuteTime": {
     "end_time": "2025-02-11T16:40:27.117291Z",
     "start_time": "2025-02-11T16:40:27.088756Z"
    }
   },
   "cell_type": "code",
   "source": "results",
   "id": "64f9efb00c542c8a",
   "outputs": [
    {
     "data": {
      "text/plain": [
       "[('albums',),\n",
       " ('sqlite_sequence',),\n",
       " ('artists',),\n",
       " ('customers',),\n",
       " ('employees',),\n",
       " ('genres',),\n",
       " ('invoices',),\n",
       " ('invoice_items',),\n",
       " ('media_types',),\n",
       " ('playlists',),\n",
       " ('playlist_track',),\n",
       " ('tracks',),\n",
       " ('sqlite_stat1',)]"
      ]
     },
     "execution_count": 2,
     "metadata": {},
     "output_type": "execute_result"
    }
   ],
   "execution_count": 2
  },
  {
   "cell_type": "code",
   "execution_count": null,
   "id": "initial_id",
   "metadata": {
    "collapsed": true
   },
   "outputs": [],
   "source": [
    "# Segunda prueba\n",
    "q = '''\n",
    "SELECT sql\n",
    "FROM sqlite_master\n",
    "WHERE name;\n",
    "'''\n"
   ]
  }
 ],
 "metadata": {
  "kernelspec": {
   "display_name": "Python 3",
   "language": "python",
   "name": "python3"
  },
  "language_info": {
   "codemirror_mode": {
    "name": "ipython",
    "version": 2
   },
   "file_extension": ".py",
   "mimetype": "text/x-python",
   "name": "python",
   "nbconvert_exporter": "python",
   "pygments_lexer": "ipython2",
   "version": "2.7.6"
  }
 },
 "nbformat": 4,
 "nbformat_minor": 5
}
