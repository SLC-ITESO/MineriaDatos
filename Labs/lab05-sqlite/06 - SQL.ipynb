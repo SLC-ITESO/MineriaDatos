{
 "cells": [
  {
   "metadata": {},
   "cell_type": "markdown",
   "source": "# Recopilacion de Datos Almacenados en Bases de Datos SQL",
   "id": "89c6b31595967f55"
  },
  {
   "metadata": {},
   "cell_type": "markdown",
   "source": "## Para SQLite",
   "id": "a177e2cf694502c"
  },
  {
   "metadata": {
    "ExecuteTime": {
     "end_time": "2025-02-18T15:24:57.052300Z",
     "start_time": "2025-02-18T15:24:57.030302Z"
    }
   },
   "cell_type": "code",
   "source": [
    "# 1. Se crea la conexión a la base de datos\n",
    "import sqlite3 as sql\n",
    "connection = sql.connect('ds_salaries.sqlite')\n",
    "\n",
    "# 2. Creación de un objeto cursor\n",
    "cursor = connection.cursor()\n",
    "\n",
    "# 3. Se crea una consulta de prueba\n",
    "q = '''\n",
    "SELECT sql\n",
    "FROM sqlite_master\n",
    "WHERE name='ds_salaries';\n",
    "'''\n",
    "\n",
    "# 4. Se ejecuta el query\n",
    "cursor.execute(q)\n",
    "\n",
    "# 5. Se obtienen los resultados de la consulta\n",
    "results = cursor.fetchall()"
   ],
   "id": "d7a5d79e2404e8c7",
   "outputs": [],
   "execution_count": 7
  },
  {
   "metadata": {
    "ExecuteTime": {
     "end_time": "2025-02-18T15:24:58.353527Z",
     "start_time": "2025-02-18T15:24:58.333551Z"
    }
   },
   "cell_type": "code",
   "source": "results",
   "id": "64f9efb00c542c8a",
   "outputs": [
    {
     "data": {
      "text/plain": [
       "[(\"CREATE TABLE 'ds_salaries' ('c1' INTEGER,'c2' TEXT,'c3' TEXT,'c4' TEXT,'c5' TEXT,'c6' TEXT,'c7' TEXT,'c8' TEXT,'c9' TEXT,'c10' TEXT,'c11' TEXT,'c12' TEXT)\",)]"
      ]
     },
     "execution_count": 8,
     "metadata": {},
     "output_type": "execute_result"
    }
   ],
   "execution_count": 8
  },
  {
   "metadata": {},
   "cell_type": "markdown",
   "source": "## ¿Cual es el puesto que gana más salarios?",
   "id": "aef3fee0a906b480"
  },
  {
   "cell_type": "code",
   "id": "initial_id",
   "metadata": {
    "collapsed": true,
    "ExecuteTime": {
     "end_time": "2025-02-18T15:29:07.405415Z",
     "start_time": "2025-02-18T15:29:07.384958Z"
    }
   },
   "source": [
    "# Crea la consulta\n",
    "q = '''\n",
    "SELECT c5, MAX(CAST(c8 AS FLOAT))\n",
    "FROM ds_salaries;\n",
    "'''\n",
    "# Ejecuta la consulta\n",
    "cursor.execute(q)\n",
    "# Obtiene resultados\n",
    "results = cursor.fetchall()\n",
    "# Imprime\n",
    "for r in results:\n",
    "    print(r)"
   ],
   "outputs": [
    {
     "name": "stdout",
     "output_type": "stream",
     "text": [
      "('Principal Data Engineer', 600000.0)\n"
     ]
    }
   ],
   "execution_count": 12
  },
  {
   "metadata": {},
   "cell_type": "markdown",
   "source": "#### Res: Principal Data Engineer con 600 k",
   "id": "8448b7d0f55d6784"
  },
  {
   "metadata": {
    "ExecuteTime": {
     "end_time": "2025-02-18T15:34:44.412294Z",
     "start_time": "2025-02-18T15:34:44.398288Z"
    }
   },
   "cell_type": "code",
   "source": [
    "# Si queremos el mejor pagado por país:\n",
    "# Crea la consulta\n",
    "q = '''\n",
    "SELECT c9, c5, MAX(CAST(c8 AS FLOAT))\n",
    "FROM ds_salaries\n",
    "GROUP BY c9\n",
    "ORDER BY c9;\n",
    "'''\n",
    "# Ejecuta la consulta\n",
    "cursor.execute(q)\n",
    "# Obtiene resultados\n",
    "results = cursor.fetchall()\n",
    "# Imprime\n",
    "for r in results:\n",
    "    print(r)"
   ],
   "id": "599abd7ca8789ae9",
   "outputs": [
    {
     "name": "stdout",
     "output_type": "stream",
     "text": [
      "('AE', 'Machine Learning Engineer', 120000.0)\n",
      "('AR', 'Data Science Engineer', 60000.0)\n",
      "('AT', 'Data Scientist', 91237.0)\n",
      "('AU', 'Computer Vision Software Engineer', 150000.0)\n",
      "('BE', 'Machine Learning Engineer', 88654.0)\n",
      "('BG', 'Data Analyst', 80000.0)\n",
      "('BO', 'Applied Machine Learning Scientist', 75000.0)\n",
      "('BR', 'Cloud Data Engineer', 160000.0)\n",
      "('CA', 'Director of Data Science', 196979.0)\n",
      "('CH', 'Data Scientist', 122346.0)\n",
      "('CL', 'Data Scientist', 40038.0)\n",
      "('CN', 'Machine Learning Engineer', 43331.0)\n",
      "('CO', 'Machine Learning Engineer', 21844.0)\n",
      "('CZ', 'Research Scientist', 69999.0)\n",
      "('DE', 'Principal Data Scientist', 173762.0)\n",
      "('DK', 'AI Scientist', 45896.0)\n",
      "('DZ', 'Data Scientist', 100000.0)\n",
      "('EE', 'Head of Data', 32974.0)\n",
      "('ES', 'Data Engineer', 130800.0)\n",
      "('FR', 'Research Scientist', 93427.0)\n",
      "('GB', 'Data Scientist', 183228.0)\n",
      "('GR', 'Marketing Data Analyst', 88654.0)\n",
      "('HK', 'Data Engineer', 66022.0)\n",
      "('HN', 'Product Data Analyst', 20000.0)\n",
      "('HR', 'Machine Learning Engineer', 45618.0)\n",
      "('HU', 'BI Data Analyst', 36259.0)\n",
      "('IE', 'Machine Learning Engineer', 71444.0)\n",
      "('IN', 'AI Scientist', 200000.0)\n",
      "('IQ', 'Machine Learning Developer', 100000.0)\n",
      "('IR', 'Data Engineer', 4000.0)\n",
      "('IT', 'Director of Data Science', 153667.0)\n",
      "('JE', 'Research Scientist', 100000.0)\n",
      "('JP', 'Machine Learning Scientist', 260000.0)\n",
      "('KE', 'BI Data Analyst', 9272.0)\n",
      "('LU', 'Business Data Analyst', 59102.0)\n",
      "('MD', 'Big Data Engineer', 18000.0)\n",
      "('MT', 'Data Engineer', 28369.0)\n",
      "('MX', 'Data Engineer', 33511.0)\n",
      "('MY', 'Head of Data', 200000.0)\n",
      "('NG', 'Data Scientist', 50000.0)\n",
      "('NL', 'Machine Learning Engineer', 85000.0)\n",
      "('NZ', 'Lead Data Engineer', 125000.0)\n",
      "('PH', 'Data Scientist', 45760.0)\n",
      "('PK', 'Data Engineer', 58035.0)\n",
      "('PL', 'Big Data Engineer', 114047.0)\n",
      "('PR', 'Lead Data Engineer', 160000.0)\n",
      "('PT', 'Research Scientist', 60757.0)\n",
      "('RO', 'Data Engineer', 76833.0)\n",
      "('RS', 'Data Scientist', 25532.0)\n",
      "('RU', 'Head of Data', 230000.0)\n",
      "('SG', 'Data Scientist', 119059.0)\n",
      "('SI', 'Head of Data', 102839.0)\n",
      "('TN', 'Applied Machine Learning Scientist', 31875.0)\n",
      "('TR', 'Data Engineer', 28016.0)\n",
      "('UA', 'Data Scientist', 13400.0)\n",
      "('US', 'Principal Data Engineer', 600000.0)\n",
      "('VN', 'Data Analytics Engineer', 50000.0)\n",
      "('employee_residence', 'job_title', 0.0)\n"
     ]
    }
   ],
   "execution_count": 15
  },
  {
   "metadata": {},
   "cell_type": "markdown",
   "source": "## Puesto con el menor salario?",
   "id": "5445f62ba11c9c61"
  },
  {
   "metadata": {
    "ExecuteTime": {
     "end_time": "2025-02-18T15:39:52.251935Z",
     "start_time": "2025-02-18T15:39:52.230014Z"
    }
   },
   "cell_type": "code",
   "source": [
    "# Crea la consulta\n",
    "q = '''\n",
    "SELECT c5, MIN(CAST(c8 AS FLOAT))\n",
    "FROM ds_salaries;\n",
    "'''\n",
    "# Ejecuta la consulta\n",
    "cursor.execute(q)\n",
    "# Obtiene resultados\n",
    "results = cursor.fetchall()\n",
    "# Imprime\n",
    "results"
   ],
   "id": "6b33dcbb522f02a5",
   "outputs": [
    {
     "data": {
      "text/plain": [
       "[('job_title', 0.0)]"
      ]
     },
     "execution_count": 20,
     "metadata": {},
     "output_type": "execute_result"
    }
   ],
   "execution_count": 20
  },
  {
   "metadata": {},
   "cell_type": "markdown",
   "source": "## Top 5 mejores puestos",
   "id": "516c69b5e70e828c"
  },
  {
   "metadata": {
    "ExecuteTime": {
     "end_time": "2025-02-18T15:39:27.577003Z",
     "start_time": "2025-02-18T15:39:27.555007Z"
    }
   },
   "cell_type": "code",
   "source": [
    "# Crea la consulta\n",
    "q = '''\n",
    "SELECT c9, c5, CAST(c8 AS FLOAT) as salary\n",
    "FROM ds_salaries\n",
    "ORDER BY salary DESC\n",
    "LIMIT 5;\n",
    "'''\n",
    "# Ejecuta la consulta\n",
    "cursor.execute(q)\n",
    "# Obtiene resultados\n",
    "results = cursor.fetchall()\n",
    "# Imprime\n",
    "for r in results:\n",
    "    print(r)"
   ],
   "id": "4d00a00a031f5bd0",
   "outputs": [
    {
     "name": "stdout",
     "output_type": "stream",
     "text": [
      "('US', 'Principal Data Engineer', 600000.0)\n",
      "('US', 'Research Scientist', 450000.0)\n",
      "('US', 'Financial Data Analyst', 450000.0)\n",
      "('US', 'Applied Machine Learning Scientist', 423000.0)\n",
      "('US', 'Principal Data Scientist', 416000.0)\n"
     ]
    }
   ],
   "execution_count": 19
  },
  {
   "metadata": {},
   "cell_type": "markdown",
   "source": "## En que pais esta la mayor cantidad de empleados pagados?",
   "id": "a4b2b5b1297fccdb"
  },
  {
   "metadata": {
    "ExecuteTime": {
     "end_time": "2025-02-18T15:43:24.840872Z",
     "start_time": "2025-02-18T15:43:24.827869Z"
    }
   },
   "cell_type": "code",
   "source": [
    "# Crea la consulta\n",
    "q = '''\n",
    "SELECT c9, count(c5) as jobs\n",
    "FROM ds_salaries\n",
    "GROUP BY c9\n",
    "ORDER BY jobs DESC\n",
    "LIMIT 1;\n",
    "'''\n",
    "# Ejecuta la consulta\n",
    "cursor.execute(q)\n",
    "# Obtiene resultados\n",
    "results = cursor.fetchall()\n",
    "# Imprime\n",
    "for r in results:\n",
    "    print(r)"
   ],
   "id": "237425616460b50d",
   "outputs": [
    {
     "name": "stdout",
     "output_type": "stream",
     "text": [
      "('US', 332)\n"
     ]
    }
   ],
   "execution_count": 23
  },
  {
   "metadata": {},
   "cell_type": "markdown",
   "source": "## Enlista los puestos de trabajo que se tienen por locación\n",
   "id": "1287f59e8ef145f8"
  },
  {
   "metadata": {
    "ExecuteTime": {
     "end_time": "2025-02-18T15:44:19.204263Z",
     "start_time": "2025-02-18T15:44:19.187266Z"
    }
   },
   "cell_type": "code",
   "source": [
    "q = '''\n",
    "SELECT c9, c5\n",
    "FROM ds_salaries\n",
    "GROUP BY c9, c5\n",
    "ORDER BY c9;\n",
    "'''\n",
    "# Ejecuta la consulta\n",
    "cursor.execute(q)\n",
    "# Obtiene resultados\n",
    "results = cursor.fetchall()\n",
    "# Imprime\n",
    "for r in results:\n",
    "    print(r)"
   ],
   "id": "2f48cf6f87ae5386",
   "outputs": [
    {
     "name": "stdout",
     "output_type": "stream",
     "text": [
      "('AE', 'Lead Data Scientist')\n",
      "('AE', 'Machine Learning Engineer')\n",
      "('AR', 'Data Science Engineer')\n",
      "('AT', 'Data Engineer')\n",
      "('AT', 'Data Scientist')\n",
      "('AT', 'Research Scientist')\n",
      "('AU', 'Computer Vision Software Engineer')\n",
      "('AU', 'Data Scientist')\n",
      "('AU', 'Machine Learning Engineer')\n",
      "('BE', 'Machine Learning Engineer')\n",
      "('BG', 'Data Analyst')\n",
      "('BO', 'Applied Machine Learning Scientist')\n",
      "('BR', 'AI Scientist')\n",
      "('BR', 'Cloud Data Engineer')\n",
      "('BR', 'Computer Vision Engineer')\n",
      "('BR', 'Data Scientist')\n",
      "('CA', 'Big Data Architect')\n",
      "('CA', 'Business Data Analyst')\n",
      "('CA', 'Data Analyst')\n",
      "('CA', 'Data Architect')\n",
      "('CA', 'Data Science Engineer')\n",
      "('CA', 'Data Scientist')\n",
      "('CA', 'Director of Data Science')\n",
      "('CA', 'Lead Data Engineer')\n",
      "('CA', 'Machine Learning Developer')\n",
      "('CA', 'Machine Learning Manager')\n",
      "('CA', 'Principal Data Analyst')\n",
      "('CA', 'Research Scientist')\n",
      "('CH', 'Data Scientist')\n",
      "('CL', 'Data Scientist')\n",
      "('CN', 'Machine Learning Engineer')\n",
      "('CO', 'Machine Learning Engineer')\n",
      "('CZ', 'Research Scientist')\n",
      "('DE', 'Computer Vision Software Engineer')\n",
      "('DE', 'Data Analyst')\n",
      "('DE', 'Data Analytics Engineer')\n",
      "('DE', 'Data Engineer')\n",
      "('DE', 'Data Engineering Manager')\n",
      "('DE', 'Data Science Consultant')\n",
      "('DE', 'Data Scientist')\n",
      "('DE', 'Director of Data Science')\n",
      "('DE', 'Lead Machine Learning Engineer')\n",
      "('DE', 'ML Engineer')\n",
      "('DE', 'Machine Learning Engineer')\n",
      "('DE', 'Principal Data Scientist')\n",
      "('DK', 'AI Scientist')\n",
      "('DK', 'Computer Vision Engineer')\n",
      "('DZ', 'Data Scientist')\n",
      "('EE', 'Head of Data')\n",
      "('ES', 'AI Scientist')\n",
      "('ES', 'Big Data Engineer')\n",
      "('ES', 'Data Analyst')\n",
      "('ES', 'Data Engineer')\n",
      "('ES', 'Data Engineering Manager')\n",
      "('ES', 'Data Scientist')\n",
      "('ES', 'Machine Learning Engineer')\n",
      "('FR', 'Data Analyst')\n",
      "('FR', 'Data Engineer')\n",
      "('FR', 'Data Science Consultant')\n",
      "('FR', 'Data Scientist')\n",
      "('FR', 'Machine Learning Engineer')\n",
      "('FR', 'Research Scientist')\n",
      "('GB', 'Applied Data Scientist')\n",
      "('GB', 'Big Data Engineer')\n",
      "('GB', 'Data Analyst')\n",
      "('GB', 'Data Engineer')\n",
      "('GB', 'Data Scientist')\n",
      "('GB', 'Director of Data Engineering')\n",
      "('GB', 'Finance Data Analyst')\n",
      "('GB', 'Lead Data Engineer')\n",
      "('GB', 'Machine Learning Engineer')\n",
      "('GB', 'Research Scientist')\n",
      "('GR', 'Data Analyst')\n",
      "('GR', 'Data Engineer')\n",
      "('GR', 'Data Science Engineer')\n",
      "('GR', 'Data Scientist')\n",
      "('GR', 'ETL Developer')\n",
      "('GR', 'Marketing Data Analyst')\n",
      "('HK', 'Data Engineer')\n",
      "('HN', 'Product Data Analyst')\n",
      "('HR', 'Machine Learning Engineer')\n",
      "('HU', 'BI Data Analyst')\n",
      "('HU', 'Data Scientist')\n",
      "('IE', 'Machine Learning Engineer')\n",
      "('IN', '3D Computer Vision Researcher')\n",
      "('IN', 'AI Scientist')\n",
      "('IN', 'BI Data Analyst')\n",
      "('IN', 'Big Data Engineer')\n",
      "('IN', 'Business Data Analyst')\n",
      "('IN', 'Data Analyst')\n",
      "('IN', 'Data Engineer')\n",
      "('IN', 'Data Science Consultant')\n",
      "('IN', 'Data Science Manager')\n",
      "('IN', 'Data Scientist')\n",
      "('IN', 'Head of Machine Learning')\n",
      "('IN', 'Lead Data Analyst')\n",
      "('IN', 'Lead Data Scientist')\n",
      "('IN', 'Machine Learning Engineer')\n",
      "('IN', 'Product Data Analyst')\n",
      "('IQ', 'Machine Learning Developer')\n",
      "('IR', 'Data Engineer')\n",
      "('IT', 'Data Engineer')\n",
      "('IT', 'Data Scientist')\n",
      "('IT', 'Director of Data Science')\n",
      "('IT', 'Machine Learning Engineer')\n",
      "('JE', 'Research Scientist')\n",
      "('JP', 'Data Engineer')\n",
      "('JP', 'Data Scientist')\n",
      "('JP', 'Director of Data Science')\n",
      "('JP', 'ML Engineer')\n",
      "('JP', 'Machine Learning Engineer')\n",
      "('JP', 'Machine Learning Scientist')\n",
      "('KE', 'BI Data Analyst')\n",
      "('LU', 'Business Data Analyst')\n",
      "('MD', 'Big Data Engineer')\n",
      "('MT', 'Data Engineer')\n",
      "('MX', 'Data Engineer')\n",
      "('MX', 'Data Scientist')\n",
      "('MY', 'Head of Data')\n",
      "('NG', 'Data Analyst')\n",
      "('NG', 'Data Scientist')\n",
      "('NL', 'Data Engineer')\n",
      "('NL', 'Machine Learning Engineer')\n",
      "('NL', 'Research Scientist')\n",
      "('NZ', 'Lead Data Engineer')\n",
      "('PH', 'Data Scientist')\n",
      "('PK', 'AI Scientist')\n",
      "('PK', 'Data Analyst')\n",
      "('PK', 'Data Analytics Engineer')\n",
      "('PK', 'Data Engineer')\n",
      "('PK', 'Machine Learning Scientist')\n",
      "('PL', 'Big Data Engineer')\n",
      "('PL', 'Data Engineer')\n",
      "('PL', 'Data Scientist')\n",
      "('PL', 'Machine Learning Engineer')\n",
      "('PR', 'Lead Data Engineer')\n",
      "('PT', 'Computer Vision Engineer')\n",
      "('PT', 'Lead Data Engineer')\n",
      "('PT', 'ML Engineer')\n",
      "('PT', 'Machine Learning Infrastructure Engineer')\n",
      "('PT', 'Research Scientist')\n",
      "('RO', 'Data Engineer')\n",
      "('RS', 'Data Scientist')\n",
      "('RU', 'Computer Vision Engineer')\n",
      "('RU', 'Data Scientist')\n",
      "('RU', 'Head of Data')\n",
      "('RU', 'Head of Data Science')\n",
      "('SG', 'Cloud Data Engineer')\n",
      "('SG', 'Data Scientist')\n",
      "('SI', 'Head of Data')\n",
      "('SI', 'Machine Learning Engineer')\n",
      "('TN', 'Applied Machine Learning Scientist')\n",
      "('TR', 'Data Engineer')\n",
      "('TR', 'Data Scientist')\n",
      "('UA', 'Data Scientist')\n",
      "('US', 'AI Scientist')\n",
      "('US', 'Analytics Engineer')\n",
      "('US', 'Applied Data Scientist')\n",
      "('US', 'Applied Machine Learning Scientist')\n",
      "('US', 'BI Data Analyst')\n",
      "('US', 'Big Data Engineer')\n",
      "('US', 'Business Data Analyst')\n",
      "('US', 'Computer Vision Engineer')\n",
      "('US', 'Computer Vision Software Engineer')\n",
      "('US', 'Data Analyst')\n",
      "('US', 'Data Analytics Engineer')\n",
      "('US', 'Data Analytics Lead')\n",
      "('US', 'Data Analytics Manager')\n",
      "('US', 'Data Architect')\n",
      "('US', 'Data Engineer')\n",
      "('US', 'Data Engineering Manager')\n",
      "('US', 'Data Science Consultant')\n",
      "('US', 'Data Science Manager')\n",
      "('US', 'Data Scientist')\n",
      "('US', 'Data Specialist')\n",
      "('US', 'Director of Data Engineering')\n",
      "('US', 'Director of Data Science')\n",
      "('US', 'Financial Data Analyst')\n",
      "('US', 'Head of Data')\n",
      "('US', 'Head of Data Science')\n",
      "('US', 'Lead Data Analyst')\n",
      "('US', 'Lead Data Engineer')\n",
      "('US', 'Lead Data Scientist')\n",
      "('US', 'ML Engineer')\n",
      "('US', 'Machine Learning Engineer')\n",
      "('US', 'Machine Learning Infrastructure Engineer')\n",
      "('US', 'Machine Learning Scientist')\n",
      "('US', 'NLP Engineer')\n",
      "('US', 'Principal Data Analyst')\n",
      "('US', 'Principal Data Engineer')\n",
      "('US', 'Principal Data Scientist')\n",
      "('US', 'Research Scientist')\n",
      "('US', 'Staff Data Scientist')\n",
      "('VN', 'Applied Machine Learning Scientist')\n",
      "('VN', 'Data Analytics Engineer')\n",
      "('VN', 'Data Scientist')\n",
      "('employee_residence', 'job_title')\n"
     ]
    }
   ],
   "execution_count": 24
  }
 ],
 "metadata": {
  "kernelspec": {
   "display_name": "Python 3",
   "language": "python",
   "name": "python3"
  },
  "language_info": {
   "codemirror_mode": {
    "name": "ipython",
    "version": 2
   },
   "file_extension": ".py",
   "mimetype": "text/x-python",
   "name": "python",
   "nbconvert_exporter": "python",
   "pygments_lexer": "ipython2",
   "version": "2.7.6"
  }
 },
 "nbformat": 4,
 "nbformat_minor": 5
}
