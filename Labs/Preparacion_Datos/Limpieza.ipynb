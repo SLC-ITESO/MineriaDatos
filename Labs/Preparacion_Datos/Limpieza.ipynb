{
 "cells": [
  {
   "cell_type": "code",
   "id": "initial_id",
   "metadata": {
    "collapsed": true,
    "ExecuteTime": {
     "end_time": "2025-03-13T16:23:07.112639Z",
     "start_time": "2025-03-13T16:23:07.096401Z"
    }
   },
   "source": [
    "import pandas as pd\n",
    "import matplotlib.pyplot as plt\n",
    "\n",
    "def carga(path):\n",
    "    data = pd.read_csv(path)\n",
    "    return data\n",
    "\n",
    "data = carga('data.csv')\n",
    "print(data)"
   ],
   "outputs": [
    {
     "name": "stdout",
     "output_type": "stream",
     "text": [
      "   ID       Name   Age   Salary Department    JoinDate Active\n",
      "0   1    Alice    25.0    50000      Sales  2022-01-15   True\n",
      "1   2        Bob   NaN    60000  Marketing  2021-11-20   True\n",
      "2   3    Charlie  30.0    75000       IT    2023-03-10  False\n",
      "3   4    David    40.0    80000         HR  2020-09-01   True\n",
      "4   5      Eve    22.0    45000      Sales  2022-05-28    NaN\n",
      "5   6  Mallory    55.0  1000000       IT    2021-07-12   True\n",
      "6   7      Oscar   NaN    55000  Marketing  2023-06-05  False\n",
      "7   8     Victor  31.0    62000      Sales  2022-12-01   True\n",
      "8   9      Zoe    28.0    58000         HR  2021-04-18  False\n",
      "9  10    Alice    25.0    50000      Sales  2022-01-15   True\n"
     ]
    }
   ],
   "execution_count": 11
  },
  {
   "metadata": {
    "ExecuteTime": {
     "end_time": "2025-03-13T15:57:49.801664Z",
     "start_time": "2025-03-13T15:57:49.786178Z"
    }
   },
   "cell_type": "code",
   "source": [
    "# Identificar datos faltantes\n",
    "print('\\nValores faltantes por columna: ', data.isnull().sum())\n",
    "\n",
    "# Eliminar filas con CUALQUIER valor faltante\n",
    "waterdrop = data.dropna()\n",
    "\n",
    "# Eliminar filas donde TODOS los valores son faltantes\n",
    "waterdrop_all = data.dropna(how='all')\n",
    "\n",
    "# Eliminar si la columna especifica con datos faltantes\n",
    "waterdrop_specific = data.dropna(subset=['Age'])\n",
    "\n",
    "print(waterdrop)\n",
    "print()\n",
    "print(waterdrop_all)\n",
    "print()\n",
    "print(waterdrop_specific)"
   ],
   "id": "8538ef3958dc8f9d",
   "outputs": [
    {
     "name": "stdout",
     "output_type": "stream",
     "text": [
      "\n",
      "Valores faltantes por columna:  ID            0\n",
      "Name          0\n",
      "Age           2\n",
      "Salary        0\n",
      "Department    0\n",
      "JoinDate      0\n",
      "Active        1\n",
      "dtype: int64\n",
      "   ID       Name   Age   Salary Department    JoinDate Active\n",
      "0   1    Alice    25.0    50000      Sales  2022-01-15   True\n",
      "2   3    Charlie  30.0    75000       IT    2023-03-10  False\n",
      "3   4    David    40.0    80000         HR  2020-09-01   True\n",
      "5   6  Mallory    55.0  1000000       IT    2021-07-12   True\n",
      "7   8     Victor  31.0    62000      Sales  2022-12-01   True\n",
      "8   9      Zoe    28.0    58000         HR  2021-04-18  False\n",
      "9  10    Alice    25.0    50000      Sales  2022-01-15   True\n",
      "\n",
      "   ID       Name   Age   Salary Department    JoinDate Active\n",
      "0   1    Alice    25.0    50000      Sales  2022-01-15   True\n",
      "1   2        Bob   NaN    60000  Marketing  2021-11-20   True\n",
      "2   3    Charlie  30.0    75000       IT    2023-03-10  False\n",
      "3   4    David    40.0    80000         HR  2020-09-01   True\n",
      "4   5      Eve    22.0    45000      Sales  2022-05-28    NaN\n",
      "5   6  Mallory    55.0  1000000       IT    2021-07-12   True\n",
      "6   7      Oscar   NaN    55000  Marketing  2023-06-05  False\n",
      "7   8     Victor  31.0    62000      Sales  2022-12-01   True\n",
      "8   9      Zoe    28.0    58000         HR  2021-04-18  False\n",
      "9  10    Alice    25.0    50000      Sales  2022-01-15   True\n",
      "\n",
      "   ID       Name   Age   Salary Department    JoinDate Active\n",
      "0   1    Alice    25.0    50000      Sales  2022-01-15   True\n",
      "2   3    Charlie  30.0    75000       IT    2023-03-10  False\n",
      "3   4    David    40.0    80000         HR  2020-09-01   True\n",
      "4   5      Eve    22.0    45000      Sales  2022-05-28    NaN\n",
      "5   6  Mallory    55.0  1000000       IT    2021-07-12   True\n",
      "7   8     Victor  31.0    62000      Sales  2022-12-01   True\n",
      "8   9      Zoe    28.0    58000         HR  2021-04-18  False\n",
      "9  10    Alice    25.0    50000      Sales  2022-01-15   True\n"
     ]
    }
   ],
   "execution_count": 8
  },
  {
   "metadata": {},
   "cell_type": "code",
   "outputs": [],
   "execution_count": null,
   "source": [
    "# DATOS FALTANTES\n",
    "\n",
    "#Identifica dato faltantes\n",
    "print(\"\\nValores faltantes por columna: \", data.isnull().sum())\n",
    "\n",
    "#Rellena con una constante\n",
    "data_fill_const = data.fillna(0)\n",
    "\n",
    "#Rellena los datos de 'Age' con media\n",
    "mean_age = data.mean()\n",
    "data['Age'] = data['Age'].fillna(mean_age)\n",
    "\n",
    "# Rellena los datos de 'Active' faltantes con la moda\n",
    "mode_active = data['Active'].mode()[0]\n",
    "data['Active'].fillna(mode_active)\n",
    "\n",
    "# RELLENAR VALORES FALTANTES CON 'FORWARD FILL', especialmente util cuando faltan datos numericos o de tiempo\n",
    "datafill = data.ffill()\n",
    "\n",
    "# rellenar valores daltantes con 'back fill'\n",
    "databfill = data.bfill()\n",
    "\n"
   ],
   "id": "b8bb35768f000d6a"
  },
  {
   "metadata": {
    "ExecuteTime": {
     "end_time": "2025-03-13T16:27:24.931152Z",
     "start_time": "2025-03-13T16:27:24.920360Z"
    }
   },
   "cell_type": "code",
   "source": [
    "#DATOS DUPLICADOS\n",
    "\n",
    "#ElIMINACION DE DATOS DUPLICADOS\n",
    "\n",
    "df_no_duplicates_ID = data.drop_duplicates(subset=['ID'])\n",
    "\n",
    "# Si no indicamos subconjunto, se eliminan las filas que son completamente identicas\n",
    "\n",
    "df_no_duplicates = data.drop_duplicates()"
   ],
   "id": "d19a6f89f8da5495",
   "outputs": [],
   "execution_count": 15
  },
  {
   "metadata": {
    "ExecuteTime": {
     "end_time": "2025-03-13T16:28:00.037564Z",
     "start_time": "2025-03-13T16:28:00.028742Z"
    }
   },
   "cell_type": "code",
   "source": [
    "# CONVERSION DE TIPOS\n",
    "\n",
    "# Convierte a date type\n",
    "\n",
    "data['JoinDate'] = pd.to_datetime(data['JoinDate'])\n"
   ],
   "id": "1b968e37e9723edc",
   "outputs": [],
   "execution_count": 16
  },
  {
   "metadata": {},
   "cell_type": "markdown",
   "source": "## Valores atipicos",
   "id": "430bfd4bac2d7874"
  },
  {
   "metadata": {
    "ExecuteTime": {
     "end_time": "2025-03-13T16:39:30.789177Z",
     "start_time": "2025-03-13T16:39:30.778998Z"
    }
   },
   "cell_type": "code",
   "source": [
    "# EJEMPLO DE MANEJO DE VALORES ATIPICOS EN EL CONJUNTO DE DATOS\\\n",
    "\n",
    "Q1 = data['Salary'].quantile(0.25)\n",
    "Q3 = data['Salary'].quantile(0.75)\n",
    "IQR = Q3 - Q1\n",
    "lower_bound = Q1 - 1.5 * IQR\n",
    "upper_bound = Q3 + 1.5 * IQR\n",
    "\n",
    "print(lower_bound, upper_bound)\n",
    "# Identificar datos atipicos\n",
    "outliers = data[(data['Salary'] < lower_bound) | (data['Salary'] > upper_bound)]\n",
    "print(\"Datos Atipicos en Salary: \\n\", outliers)\n",
    "\n",
    "# Eliminar datos atipicos\n",
    "data_no_outliers"
   ],
   "id": "de03b53ff45e5f6a",
   "outputs": [
    {
     "name": "stdout",
     "output_type": "stream",
     "text": [
      "20500.0 102500.0\n",
      "Datos Atipicos en Salary: \n",
      "    ID       Name   Age   Salary Department   JoinDate Active\n",
      "5   6  Mallory    55.0  1000000       IT   2021-07-12   True\n"
     ]
    }
   ],
   "execution_count": 21
  },
  {
   "metadata": {},
   "cell_type": "markdown",
   "source": "## Limpieza de Texto\n",
   "id": "f105b1d27acb7818"
  },
  {
   "metadata": {},
   "cell_type": "code",
   "outputs": [],
   "execution_count": null,
   "source": [
    "# Convertir el texto a minuscilas asegura la consistencia y evita tratar 'sales' y 'Sales' como categorias diferentes\n",
    "\n",
    "data['Department'] = data['Department'].str.lower()\n",
    "\n",
    "# Elimina espacios en blanco no deseados\n",
    "\n",
    "data['Department'] = data['Department'].str.strip()\n",
    "data['Name'] = data['Name'].str.strip()\n",
    "\n",
    "# Reemplazar subcadenas\n",
    "data['Department'] = data['Department'].str.replace('it','Information Technologies')"
   ],
   "id": "d4bbe38b96379523"
  },
  {
   "metadata": {},
   "cell_type": "markdown",
   "source": "## Renombramiento de columnas",
   "id": "2d23399d497e1169"
  },
  {
   "metadata": {},
   "cell_type": "code",
   "outputs": [],
   "execution_count": null,
   "source": "",
   "id": "8463f72b7b8e7d9b"
  },
  {
   "metadata": {},
   "cell_type": "markdown",
   "source": "## Filtrar Filas",
   "id": "fdb7b4969ce074c5"
  }
 ],
 "metadata": {
  "kernelspec": {
   "display_name": "Python 3",
   "language": "python",
   "name": "python3"
  },
  "language_info": {
   "codemirror_mode": {
    "name": "ipython",
    "version": 2
   },
   "file_extension": ".py",
   "mimetype": "text/x-python",
   "name": "python",
   "nbconvert_exporter": "python",
   "pygments_lexer": "ipython2",
   "version": "2.7.6"
  }
 },
 "nbformat": 4,
 "nbformat_minor": 5
}
